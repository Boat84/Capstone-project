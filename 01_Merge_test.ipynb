{
 "cells": [
  {
   "cell_type": "code",
   "execution_count": 2,
   "id": "099c6884-fd28-42af-a4e8-238d36ad1bdb",
   "metadata": {
    "tags": []
   },
   "outputs": [],
   "source": [
    "import pandas as pd\n",
    "\n",
    "df = pd.read_csv('data/movie_metadata/movie_meta_data.csv')"
   ]
  },
  {
   "cell_type": "code",
   "execution_count": 2,
   "id": "65c2d69f-ee6c-4f87-b7b3-38002247c268",
   "metadata": {
    "tags": []
   },
   "outputs": [
    {
     "data": {
      "text/plain": [
       "(2858, 25)"
      ]
     },
     "execution_count": 2,
     "metadata": {},
     "output_type": "execute_result"
    }
   ],
   "source": [
    "df.shape"
   ]
  },
  {
   "cell_type": "code",
   "execution_count": 3,
   "id": "06d564e7-c7fa-48f9-bed8-ac1c5c888ae2",
   "metadata": {
    "tags": []
   },
   "outputs": [
    {
     "data": {
      "text/plain": [
       "Index(['imdbid', 'title', 'akas', 'year', 'metascore', 'imdb user rating',\n",
       "       'number of imdb user votes', 'awards', 'opening weekend', 'producers',\n",
       "       'budget', 'script department', 'production companies', 'writers',\n",
       "       'directors', 'casting directors', 'cast', 'countries', 'age restrict',\n",
       "       'plot', 'plot outline', 'keywords', 'genres', 'taglines', 'synopsis'],\n",
       "      dtype='object')"
      ]
     },
     "execution_count": 3,
     "metadata": {},
     "output_type": "execute_result"
    }
   ],
   "source": [
    "df.columns"
   ]
  },
  {
   "cell_type": "code",
   "execution_count": 4,
   "id": "26e24911-08c6-4c69-b635-031fa347e80d",
   "metadata": {
    "tags": []
   },
   "outputs": [
    {
     "name": "stdout",
     "output_type": "stream",
     "text": [
      "<class 'pandas.core.frame.DataFrame'>\n",
      "RangeIndex: 2858 entries, 0 to 2857\n",
      "Data columns (total 25 columns):\n",
      " #   Column                     Non-Null Count  Dtype \n",
      "---  ------                     --------------  ----- \n",
      " 0   imdbid                     2858 non-null   int64 \n",
      " 1   title                      2858 non-null   object\n",
      " 2   akas                       2652 non-null   object\n",
      " 3   year                       2858 non-null   int64 \n",
      " 4   metascore                  2858 non-null   int64 \n",
      " 5   imdb user rating           2858 non-null   int64 \n",
      " 6   number of imdb user votes  2858 non-null   int64 \n",
      " 7   awards                     2243 non-null   object\n",
      " 8   opening weekend            1739 non-null   object\n",
      " 9   producers                  2640 non-null   object\n",
      " 10  budget                     1624 non-null   object\n",
      " 11  script department          2220 non-null   object\n",
      " 12  production companies       2682 non-null   object\n",
      " 13  writers                    2696 non-null   object\n",
      " 14  directors                  2658 non-null   object\n",
      " 15  casting directors          2141 non-null   object\n",
      " 16  cast                       2806 non-null   object\n",
      " 17  countries                  2678 non-null   object\n",
      " 18  age restrict               2526 non-null   object\n",
      " 19  plot                       2709 non-null   object\n",
      " 20  plot outline               2457 non-null   object\n",
      " 21  keywords                   2601 non-null   object\n",
      " 22  genres                     2846 non-null   object\n",
      " 23  taglines                   2256 non-null   object\n",
      " 24  synopsis                   1852 non-null   object\n",
      "dtypes: int64(5), object(20)\n",
      "memory usage: 558.3+ KB\n"
     ]
    }
   ],
   "source": [
    "df.info()"
   ]
  },
  {
   "cell_type": "code",
   "execution_count": 5,
   "id": "c15119f8-6e36-4c5f-8ee2-3ac2c8b537df",
   "metadata": {},
   "outputs": [
    {
     "data": {
      "text/plain": [
       "0"
      ]
     },
     "execution_count": 5,
     "metadata": {},
     "output_type": "execute_result"
    }
   ],
   "source": [
    "df.duplicated(subset=['imdbid']).sum()"
   ]
  },
  {
   "cell_type": "code",
   "execution_count": 4,
   "id": "fca8c15f-39a2-48b9-9871-c81e93292f56",
   "metadata": {},
   "outputs": [
    {
     "data": {
      "text/plain": [
       "332"
      ]
     },
     "execution_count": 4,
     "metadata": {},
     "output_type": "execute_result"
    }
   ],
   "source": [
    "df['age restrict'].isna().sum()"
   ]
  },
  {
   "cell_type": "code",
   "execution_count": 6,
   "id": "0656a880-c6dc-43dd-8cc1-fb844adcc580",
   "metadata": {
    "tags": []
   },
   "outputs": [],
   "source": [
    "# rename columns to replace space with underscore\n",
    "df.columns = df.columns.str.replace(' ', '_')"
   ]
  },
  {
   "cell_type": "code",
   "execution_count": 7,
   "id": "77bfb96b-d611-4b88-8a07-a638a7c57b19",
   "metadata": {
    "tags": []
   },
   "outputs": [],
   "source": [
    "# drop unnecessary columns\n",
    "\n",
    "# list of columns to drop\n",
    "columns_to_drop = ['akas', 'metascore', 'imdb_user_rating', 'number_of_imdb_user_votes', 'awards', 'producers', 'script_department', 'writers', 'casting_directors', 'plot', 'plot_outline', 'keywords',\n",
    "                   'taglines', 'synopsis', 'budget', 'year', 'opening_weekend', 'production_companies', 'directors', 'cast', 'countries', 'age_restrict', 'genres']\n",
    "\n",
    "# Drop the columns\n",
    "df = df.drop(columns=columns_to_drop)"
   ]
  },
  {
   "cell_type": "code",
   "execution_count": 8,
   "id": "6d51da74-3242-4a26-b19e-50e6497f904a",
   "metadata": {
    "tags": []
   },
   "outputs": [
    {
     "data": {
      "text/html": [
       "<div>\n",
       "<style scoped>\n",
       "    .dataframe tbody tr th:only-of-type {\n",
       "        vertical-align: middle;\n",
       "    }\n",
       "\n",
       "    .dataframe tbody tr th {\n",
       "        vertical-align: top;\n",
       "    }\n",
       "\n",
       "    .dataframe thead th {\n",
       "        text-align: right;\n",
       "    }\n",
       "</style>\n",
       "<table border=\"1\" class=\"dataframe\">\n",
       "  <thead>\n",
       "    <tr style=\"text-align: right;\">\n",
       "      <th></th>\n",
       "      <th>imdbid</th>\n",
       "      <th>title</th>\n",
       "    </tr>\n",
       "  </thead>\n",
       "  <tbody>\n",
       "    <tr>\n",
       "      <th>0</th>\n",
       "      <td>120770</td>\n",
       "      <td>A Night at the Roxbury</td>\n",
       "    </tr>\n",
       "    <tr>\n",
       "      <th>1</th>\n",
       "      <td>132512</td>\n",
       "      <td>At First Sight</td>\n",
       "    </tr>\n",
       "    <tr>\n",
       "      <th>2</th>\n",
       "      <td>118661</td>\n",
       "      <td>The Avengers</td>\n",
       "    </tr>\n",
       "    <tr>\n",
       "      <th>3</th>\n",
       "      <td>215545</td>\n",
       "      <td>Bamboozled</td>\n",
       "    </tr>\n",
       "    <tr>\n",
       "      <th>4</th>\n",
       "      <td>118715</td>\n",
       "      <td>The Big Lebowski</td>\n",
       "    </tr>\n",
       "  </tbody>\n",
       "</table>\n",
       "</div>"
      ],
      "text/plain": [
       "   imdbid                   title\n",
       "0  120770  A Night at the Roxbury\n",
       "1  132512          At First Sight\n",
       "2  118661            The Avengers\n",
       "3  215545              Bamboozled\n",
       "4  118715        The Big Lebowski"
      ]
     },
     "execution_count": 8,
     "metadata": {},
     "output_type": "execute_result"
    }
   ],
   "source": [
    "df.head()"
   ]
  },
  {
   "cell_type": "code",
   "execution_count": 9,
   "id": "aad5a0d6-e6b3-426e-9d0d-f9d346d0e6d4",
   "metadata": {
    "tags": []
   },
   "outputs": [
    {
     "data": {
      "text/html": [
       "<div>\n",
       "<style scoped>\n",
       "    .dataframe tbody tr th:only-of-type {\n",
       "        vertical-align: middle;\n",
       "    }\n",
       "\n",
       "    .dataframe tbody tr th {\n",
       "        vertical-align: top;\n",
       "    }\n",
       "\n",
       "    .dataframe thead th {\n",
       "        text-align: right;\n",
       "    }\n",
       "</style>\n",
       "<table border=\"1\" class=\"dataframe\">\n",
       "  <thead>\n",
       "    <tr style=\"text-align: right;\">\n",
       "      <th></th>\n",
       "      <th>imdbid</th>\n",
       "      <th>title</th>\n",
       "      <th>year</th>\n",
       "      <th>age_rating</th>\n",
       "      <th>genre</th>\n",
       "      <th>description</th>\n",
       "      <th>director</th>\n",
       "      <th>runtime_minutes</th>\n",
       "      <th>production_budget</th>\n",
       "      <th>domestic_gross</th>\n",
       "      <th>worldwide_gross</th>\n",
       "    </tr>\n",
       "  </thead>\n",
       "  <tbody>\n",
       "    <tr>\n",
       "      <th>0</th>\n",
       "      <td>9114286</td>\n",
       "      <td>Black Panther: Wakanda Forever</td>\n",
       "      <td>2022</td>\n",
       "      <td>PG-13</td>\n",
       "      <td>Action, Adventure, Drama</td>\n",
       "      <td>The people of Wakanda fight to protect their h...</td>\n",
       "      <td>Ryan Coogler</td>\n",
       "      <td>NaN</td>\n",
       "      <td>NaN</td>\n",
       "      <td>NaN</td>\n",
       "      <td>NaN</td>\n",
       "    </tr>\n",
       "    <tr>\n",
       "      <th>1</th>\n",
       "      <td>1630029</td>\n",
       "      <td>Avatar: The Way of Water</td>\n",
       "      <td>2022</td>\n",
       "      <td>PG-13</td>\n",
       "      <td>Action, Adventure, Fantasy</td>\n",
       "      <td>Jake Sully lives with his newfound family form...</td>\n",
       "      <td>James Cameron</td>\n",
       "      <td>192.0</td>\n",
       "      <td>460000000.0</td>\n",
       "      <td>667830256.0</td>\n",
       "      <td>2.265936e+09</td>\n",
       "    </tr>\n",
       "    <tr>\n",
       "      <th>2</th>\n",
       "      <td>5884796</td>\n",
       "      <td>Plane</td>\n",
       "      <td>2023</td>\n",
       "      <td>R</td>\n",
       "      <td>Action, Thriller</td>\n",
       "      <td>A pilot finds himself caught in a war zone aft...</td>\n",
       "      <td>Jean-François Richet</td>\n",
       "      <td>NaN</td>\n",
       "      <td>NaN</td>\n",
       "      <td>NaN</td>\n",
       "      <td>NaN</td>\n",
       "    </tr>\n",
       "    <tr>\n",
       "      <th>3</th>\n",
       "      <td>6710474</td>\n",
       "      <td>Everything Everywhere All at Once</td>\n",
       "      <td>2022</td>\n",
       "      <td>R</td>\n",
       "      <td>Action, Adventure, Comedy</td>\n",
       "      <td>A middle-aged Chinese immigrant is swept up in...</td>\n",
       "      <td>Dan Kwan, \\nDaniel Scheinert</td>\n",
       "      <td>NaN</td>\n",
       "      <td>NaN</td>\n",
       "      <td>NaN</td>\n",
       "      <td>NaN</td>\n",
       "    </tr>\n",
       "    <tr>\n",
       "      <th>4</th>\n",
       "      <td>5433140</td>\n",
       "      <td>Fast X</td>\n",
       "      <td>2023</td>\n",
       "      <td>NaN</td>\n",
       "      <td>Action, Crime, Mystery</td>\n",
       "      <td>Dom Toretto and his family are targeted by the...</td>\n",
       "      <td>Louis Leterrier</td>\n",
       "      <td>NaN</td>\n",
       "      <td>NaN</td>\n",
       "      <td>NaN</td>\n",
       "      <td>NaN</td>\n",
       "    </tr>\n",
       "  </tbody>\n",
       "</table>\n",
       "</div>"
      ],
      "text/plain": [
       "    imdbid                              title  year age_rating  \\\n",
       "0  9114286     Black Panther: Wakanda Forever  2022      PG-13   \n",
       "1  1630029           Avatar: The Way of Water  2022      PG-13   \n",
       "2  5884796                              Plane  2023          R   \n",
       "3  6710474  Everything Everywhere All at Once  2022          R   \n",
       "4  5433140                             Fast X  2023        NaN   \n",
       "\n",
       "                        genre  \\\n",
       "0    Action, Adventure, Drama   \n",
       "1  Action, Adventure, Fantasy   \n",
       "2            Action, Thriller   \n",
       "3   Action, Adventure, Comedy   \n",
       "4      Action, Crime, Mystery   \n",
       "\n",
       "                                         description  \\\n",
       "0  The people of Wakanda fight to protect their h...   \n",
       "1  Jake Sully lives with his newfound family form...   \n",
       "2  A pilot finds himself caught in a war zone aft...   \n",
       "3  A middle-aged Chinese immigrant is swept up in...   \n",
       "4  Dom Toretto and his family are targeted by the...   \n",
       "\n",
       "                       director  runtime_minutes  production_budget  \\\n",
       "0                  Ryan Coogler              NaN                NaN   \n",
       "1                 James Cameron            192.0        460000000.0   \n",
       "2          Jean-François Richet              NaN                NaN   \n",
       "3  Dan Kwan, \\nDaniel Scheinert              NaN                NaN   \n",
       "4               Louis Leterrier              NaN                NaN   \n",
       "\n",
       "   domestic_gross  worldwide_gross  \n",
       "0             NaN              NaN  \n",
       "1     667830256.0     2.265936e+09  \n",
       "2             NaN              NaN  \n",
       "3             NaN              NaN  \n",
       "4             NaN              NaN  "
      ]
     },
     "execution_count": 9,
     "metadata": {},
     "output_type": "execute_result"
    }
   ],
   "source": [
    "df2 = pd.read_csv('data/movie_metadata_set_01.csv')\n",
    "df2.head()"
   ]
  },
  {
   "cell_type": "code",
   "execution_count": 10,
   "id": "656fe454-82c5-432e-a2be-5b977b2b7b57",
   "metadata": {},
   "outputs": [
    {
     "data": {
      "text/plain": [
       "(369726, 11)"
      ]
     },
     "execution_count": 10,
     "metadata": {},
     "output_type": "execute_result"
    }
   ],
   "source": [
    "df2.shape"
   ]
  },
  {
   "cell_type": "code",
   "execution_count": 11,
   "id": "c81fa7f0-1cd2-46be-8dc5-a01599ded778",
   "metadata": {},
   "outputs": [
    {
     "data": {
      "text/plain": [
       "126529"
      ]
     },
     "execution_count": 11,
     "metadata": {},
     "output_type": "execute_result"
    }
   ],
   "source": [
    "df2.duplicated(subset=['imdbid']).sum()"
   ]
  },
  {
   "cell_type": "code",
   "execution_count": 12,
   "id": "bb35fb57-94a0-4690-999c-92b25e9c6555",
   "metadata": {
    "tags": []
   },
   "outputs": [],
   "source": [
    "# merge df with df2 on 'imdbid'\n",
    "merged_df = pd.merge(df, df2, on='imdbid', how='left')"
   ]
  },
  {
   "cell_type": "code",
   "execution_count": 13,
   "id": "d43c3108-9598-4a7e-a41a-27986feaf7f3",
   "metadata": {
    "tags": []
   },
   "outputs": [
    {
     "data": {
      "text/html": [
       "<div>\n",
       "<style scoped>\n",
       "    .dataframe tbody tr th:only-of-type {\n",
       "        vertical-align: middle;\n",
       "    }\n",
       "\n",
       "    .dataframe tbody tr th {\n",
       "        vertical-align: top;\n",
       "    }\n",
       "\n",
       "    .dataframe thead th {\n",
       "        text-align: right;\n",
       "    }\n",
       "</style>\n",
       "<table border=\"1\" class=\"dataframe\">\n",
       "  <thead>\n",
       "    <tr style=\"text-align: right;\">\n",
       "      <th></th>\n",
       "      <th>imdbid</th>\n",
       "      <th>title_x</th>\n",
       "      <th>title_y</th>\n",
       "      <th>year</th>\n",
       "      <th>age_rating</th>\n",
       "      <th>genre</th>\n",
       "      <th>description</th>\n",
       "      <th>director</th>\n",
       "      <th>runtime_minutes</th>\n",
       "      <th>production_budget</th>\n",
       "      <th>domestic_gross</th>\n",
       "      <th>worldwide_gross</th>\n",
       "    </tr>\n",
       "  </thead>\n",
       "  <tbody>\n",
       "    <tr>\n",
       "      <th>0</th>\n",
       "      <td>120770</td>\n",
       "      <td>A Night at the Roxbury</td>\n",
       "      <td>A Night at the Roxbury</td>\n",
       "      <td>1998</td>\n",
       "      <td>PG-13</td>\n",
       "      <td>Comedy, Music, Romance</td>\n",
       "      <td>Two dim-witted brothers dream of owning their ...</td>\n",
       "      <td>John Fortenberry</td>\n",
       "      <td>82.0</td>\n",
       "      <td>17000000.0</td>\n",
       "      <td>30331165.0</td>\n",
       "      <td>3.033116e+07</td>\n",
       "    </tr>\n",
       "    <tr>\n",
       "      <th>1</th>\n",
       "      <td>132512</td>\n",
       "      <td>At First Sight</td>\n",
       "      <td>At First Sight</td>\n",
       "      <td>1999</td>\n",
       "      <td>PG-13</td>\n",
       "      <td>Drama, Romance</td>\n",
       "      <td>A blind man has an operation to regain his sig...</td>\n",
       "      <td>Irwin Winkler</td>\n",
       "      <td>128.0</td>\n",
       "      <td>40000000.0</td>\n",
       "      <td>22365133.0</td>\n",
       "      <td>2.236513e+07</td>\n",
       "    </tr>\n",
       "    <tr>\n",
       "      <th>2</th>\n",
       "      <td>118661</td>\n",
       "      <td>The Avengers</td>\n",
       "      <td>The Avengers</td>\n",
       "      <td>1998</td>\n",
       "      <td>PG-13</td>\n",
       "      <td>Action, Adventure, Sci-Fi</td>\n",
       "      <td>Two British Agents team up to stop Sir August ...</td>\n",
       "      <td>Jeremiah S. Chechik</td>\n",
       "      <td>143.0</td>\n",
       "      <td>225000000.0</td>\n",
       "      <td>623357910.0</td>\n",
       "      <td>1.515100e+09</td>\n",
       "    </tr>\n",
       "    <tr>\n",
       "      <th>3</th>\n",
       "      <td>118661</td>\n",
       "      <td>The Avengers</td>\n",
       "      <td>The Avengers</td>\n",
       "      <td>1998</td>\n",
       "      <td>PG-13</td>\n",
       "      <td>Action, Adventure, Sci-Fi</td>\n",
       "      <td>Two British Agents team up to stop Sir August ...</td>\n",
       "      <td>Jeremiah S. Chechik</td>\n",
       "      <td>89.0</td>\n",
       "      <td>60000000.0</td>\n",
       "      <td>23385416.0</td>\n",
       "      <td>4.858542e+07</td>\n",
       "    </tr>\n",
       "    <tr>\n",
       "      <th>4</th>\n",
       "      <td>118661</td>\n",
       "      <td>The Avengers</td>\n",
       "      <td>The Avengers</td>\n",
       "      <td>1998</td>\n",
       "      <td>PG-13</td>\n",
       "      <td>Action, Adventure, Sci-Fi</td>\n",
       "      <td>Two British Agents team up to stop Sir August ...</td>\n",
       "      <td>Jeremiah S. Chechik</td>\n",
       "      <td>143.0</td>\n",
       "      <td>225000000.0</td>\n",
       "      <td>623357910.0</td>\n",
       "      <td>1.515100e+09</td>\n",
       "    </tr>\n",
       "  </tbody>\n",
       "</table>\n",
       "</div>"
      ],
      "text/plain": [
       "   imdbid                 title_x                 title_y  year age_rating  \\\n",
       "0  120770  A Night at the Roxbury  A Night at the Roxbury  1998      PG-13   \n",
       "1  132512          At First Sight          At First Sight  1999      PG-13   \n",
       "2  118661            The Avengers            The Avengers  1998      PG-13   \n",
       "3  118661            The Avengers            The Avengers  1998      PG-13   \n",
       "4  118661            The Avengers            The Avengers  1998      PG-13   \n",
       "\n",
       "                       genre  \\\n",
       "0     Comedy, Music, Romance   \n",
       "1             Drama, Romance   \n",
       "2  Action, Adventure, Sci-Fi   \n",
       "3  Action, Adventure, Sci-Fi   \n",
       "4  Action, Adventure, Sci-Fi   \n",
       "\n",
       "                                         description             director  \\\n",
       "0  Two dim-witted brothers dream of owning their ...     John Fortenberry   \n",
       "1  A blind man has an operation to regain his sig...        Irwin Winkler   \n",
       "2  Two British Agents team up to stop Sir August ...  Jeremiah S. Chechik   \n",
       "3  Two British Agents team up to stop Sir August ...  Jeremiah S. Chechik   \n",
       "4  Two British Agents team up to stop Sir August ...  Jeremiah S. Chechik   \n",
       "\n",
       "   runtime_minutes  production_budget  domestic_gross  worldwide_gross  \n",
       "0             82.0         17000000.0      30331165.0     3.033116e+07  \n",
       "1            128.0         40000000.0      22365133.0     2.236513e+07  \n",
       "2            143.0        225000000.0     623357910.0     1.515100e+09  \n",
       "3             89.0         60000000.0      23385416.0     4.858542e+07  \n",
       "4            143.0        225000000.0     623357910.0     1.515100e+09  "
      ]
     },
     "execution_count": 13,
     "metadata": {},
     "output_type": "execute_result"
    }
   ],
   "source": [
    "merged_df.head()"
   ]
  },
  {
   "cell_type": "code",
   "execution_count": 14,
   "id": "48c2ba49-e3b4-41ba-8269-443cdb9f3b39",
   "metadata": {},
   "outputs": [
    {
     "data": {
      "text/plain": [
       "(5736, 12)"
      ]
     },
     "execution_count": 14,
     "metadata": {},
     "output_type": "execute_result"
    }
   ],
   "source": [
    "merged_df.shape"
   ]
  },
  {
   "cell_type": "code",
   "execution_count": 15,
   "id": "92e526ad-7fad-4143-88c7-754789f3d2dc",
   "metadata": {},
   "outputs": [
    {
     "data": {
      "text/plain": [
       "2878"
      ]
     },
     "execution_count": 15,
     "metadata": {},
     "output_type": "execute_result"
    }
   ],
   "source": [
    "merged_df.duplicated(subset=['imdbid']).sum()"
   ]
  },
  {
   "cell_type": "code",
   "execution_count": 16,
   "id": "5f808f28-9757-4319-aa98-c4f0e0cbae6e",
   "metadata": {},
   "outputs": [],
   "source": [
    "# drop duplicate rows based on 'imdbid', keep only the first occurrence\n",
    "df = merged_df.drop_duplicates(subset=['imdbid'], keep='first')"
   ]
  },
  {
   "cell_type": "code",
   "execution_count": 17,
   "id": "93f93208-0ed9-42f1-961d-22a9869d2395",
   "metadata": {},
   "outputs": [
    {
     "data": {
      "text/plain": [
       "(2858, 12)"
      ]
     },
     "execution_count": 17,
     "metadata": {},
     "output_type": "execute_result"
    }
   ],
   "source": [
    "df.shape"
   ]
  },
  {
   "cell_type": "code",
   "execution_count": null,
   "id": "0eebc27f-2337-4bac-b3c0-03baff0c4641",
   "metadata": {},
   "outputs": [],
   "source": [
    "# new feature: 'financial_success' = 'worldwide_gross' > 'production_budget'*2\n",
    "df['financial_success'] = (df['worldwide_gross'] > df['production_budget'] * 2).astype(int)"
   ]
  },
  {
   "cell_type": "code",
   "execution_count": null,
   "id": "bfe3fea1-c8d4-4fea-b059-419e4669983b",
   "metadata": {},
   "outputs": [],
   "source": [
    "# new feature 'ROI' (return on investment)\n",
    "df['ROI'] = df['worldwide_gross'] / df['production_budget']"
   ]
  },
  {
   "cell_type": "code",
   "execution_count": null,
   "id": "bf3af74d-5733-40a1-a65f-c53b00f7e4f8",
   "metadata": {},
   "outputs": [],
   "source": [
    "# create dummies for genres\n",
    "\n",
    "# generate dummy variables with column prefix\n",
    "genre_dummies = df['genre'].str.get_dummies(sep=', ').rename(lambda x: 'genre_' + x.lower(), axis=1).astype(int)\n",
    "\n",
    "# concatenate genre dummies with original DataFrame\n",
    "df = pd.concat([df, genre_dummies], axis=1)"
   ]
  },
  {
   "cell_type": "code",
   "execution_count": null,
   "id": "67531836-97c9-4787-8769-da44773ac94c",
   "metadata": {},
   "outputs": [],
   "source": [
    "df.head()"
   ]
  },
  {
   "cell_type": "code",
   "execution_count": null,
   "id": "72fd616f-0490-4f86-bdba-044a446b34f9",
   "metadata": {},
   "outputs": [],
   "source": [
    "df.columns"
   ]
  },
  {
   "cell_type": "code",
   "execution_count": 18,
   "id": "b048bd8f-e115-4ffd-a05b-a76290e8cab4",
   "metadata": {},
   "outputs": [
    {
     "data": {
      "text/plain": [
       "1620"
      ]
     },
     "execution_count": 18,
     "metadata": {},
     "output_type": "execute_result"
    }
   ],
   "source": [
    "df.production_budget.isna().sum()"
   ]
  },
  {
   "cell_type": "code",
   "execution_count": null,
   "id": "9e7a59ca-fcc0-4b87-b7a0-5ddfb8b0bb11",
   "metadata": {},
   "outputs": [],
   "source": [
    "df.genre.isna().sum()"
   ]
  },
  {
   "cell_type": "code",
   "execution_count": null,
   "id": "2c8efde7-65de-4ceb-81de-edef3d5c62b2",
   "metadata": {},
   "outputs": [],
   "source": []
  },
  {
   "cell_type": "code",
   "execution_count": null,
   "id": "123d4805-9834-44c0-be1e-245a9039499d",
   "metadata": {},
   "outputs": [],
   "source": []
  }
 ],
 "metadata": {
  "kernelspec": {
   "display_name": "Python 3 (ipykernel)",
   "language": "python",
   "name": "python3"
  },
  "language_info": {
   "codemirror_mode": {
    "name": "ipython",
    "version": 3
   },
   "file_extension": ".py",
   "mimetype": "text/x-python",
   "name": "python",
   "nbconvert_exporter": "python",
   "pygments_lexer": "ipython3",
   "version": "3.11.3"
  }
 },
 "nbformat": 4,
 "nbformat_minor": 5
}
