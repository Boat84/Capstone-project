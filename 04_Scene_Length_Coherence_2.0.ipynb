{
 "cells": [
  {
   "cell_type": "code",
   "execution_count": 1,
   "id": "85b57470-dc41-4e7b-9990-1730813d272f",
   "metadata": {},
   "outputs": [],
   "source": [
    "import os\n",
    "import re\n",
    "import numpy as np\n",
    "import pandas as pd\n",
    "from charset_normalizer import from_path"
   ]
  },
  {
   "cell_type": "code",
   "execution_count": 4,
   "id": "472f326a-126e-40b4-9420-29aee40b2bb6",
   "metadata": {},
   "outputs": [],
   "source": [
    "# function to extract number of words in scene\n",
    "def extract_scene_lengths(file_path):\n",
    "    result = from_path(file_path).best()\n",
    "    with open(file_path, 'r', encoding=result.encoding) as file:\n",
    "        lines = file.readlines()\n",
    "    text = ''.join(lines[1:])\n",
    "    scenes = text.split('=' * 50)\n",
    "    scene_lengths = [len(scene.strip().split()) for scene in scenes if scene.strip()]\n",
    "    return scene_lengths\n",
    "\n",
    "# function to get mean length of scenes and standard deviation from mean\n",
    "def analyze_scene_lengths(scene_lengths):\n",
    "    mean_length = np.mean(scene_lengths)\n",
    "    std_length = np.std(scene_lengths)\n",
    "    return mean_length, std_length\n",
    "\n",
    "# function to calculate coefficient of variation\n",
    "def coherence_classifier(mean_length, std_length):\n",
    "    coefficient_of_variation = std_length / mean_length\n",
    "    return coefficient_of_variation\n",
    "\n",
    "# function to process all screenplays\n",
    "def process_scene_lengths(folder_path):\n",
    "    coefficients_of_variation = {}\n",
    "    \n",
    "    # get all .txt files in folder\n",
    "    files = [f for f in os.listdir(folder_path) if f.endswith('.txt')]\n",
    "\n",
    "    for filename in files:\n",
    "        file_path = os.path.join(folder_path, filename)\n",
    "        \n",
    "        # extract scene lengths\n",
    "        scene_lengths = extract_scene_lengths(file_path)\n",
    "        \n",
    "        if scene_lengths:\n",
    "            # analyze scene lengths\n",
    "            mean_length, std_length = analyze_scene_lengths(scene_lengths)\n",
    "            coefficient_of_variation = coherence_classifier(mean_length, std_length)\n",
    "            \n",
    "            # check if filename matches pattern\n",
    "            match = re.search(r'_0*(\\d+)\\.txt$', filename)\n",
    "            if match:\n",
    "                # extract imdbid from filename\n",
    "                imdbid = int(match.group(1))\n",
    "                coefficients_of_variation[imdbid] = coefficient_of_variation\n",
    "    \n",
    "    return coefficients_of_variation"
   ]
  },
  {
   "cell_type": "code",
   "execution_count": 5,
   "id": "6663b00d-7452-47ab-9dbf-74929dd1b8e1",
   "metadata": {},
   "outputs": [],
   "source": [
    "# read csv file\n",
    "df = pd.read_csv('data/01_movie_metadata.csv')\n",
    "\n",
    "# folder containing screenplay files\n",
    "screenplay_folder = 'data/screenplay_data/data/scene_separated_texts'\n",
    "\n",
    "# process scene lengths and get coefficients of variation\n",
    "coefficients_of_variation = process_scene_lengths(screenplay_folder)\n",
    "\n",
    "# add new column for scene length coefficient of variation\n",
    "df['scene_length_cv'] = df['imdbid'].map(coefficients_of_variation)"
   ]
  },
  {
   "cell_type": "code",
   "execution_count": null,
   "id": "023974e2-9041-4db4-ac7e-66b7e86bc72b",
   "metadata": {},
   "outputs": [],
   "source": [
    "df.isna().sum()"
   ]
  },
  {
   "cell_type": "code",
   "execution_count": null,
   "id": "85a67f4a-6a62-448b-8bc2-7016a55dd80b",
   "metadata": {},
   "outputs": [],
   "source": [
    "df = df.dropna(subset=['scene_length_cv'])\n",
    "df.shape"
   ]
  },
  {
   "cell_type": "code",
   "execution_count": null,
   "id": "0d086c6a-40e1-48a5-bbdd-35876d1879fb",
   "metadata": {},
   "outputs": [],
   "source": [
    "# save updated dataframe\n",
    "df.to_csv('data/02_movie_metadata.csv', index=False)"
   ]
  }
 ],
 "metadata": {
  "kernelspec": {
   "display_name": "Python 3 (ipykernel)",
   "language": "python",
   "name": "python3"
  },
  "language_info": {
   "codemirror_mode": {
    "name": "ipython",
    "version": 3
   },
   "file_extension": ".py",
   "mimetype": "text/x-python",
   "name": "python",
   "nbconvert_exporter": "python",
   "pygments_lexer": "ipython3",
   "version": "3.11.3"
  }
 },
 "nbformat": 4,
 "nbformat_minor": 5
}
