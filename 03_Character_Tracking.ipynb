{
 "cells": [
  {
   "cell_type": "code",
   "execution_count": 3,
   "id": "ab9e9967-d356-4d97-b214-e4eaace2e64b",
   "metadata": {},
   "outputs": [],
   "source": [
    "import re\n",
    "import pandas as pd\n",
    "import networkx as nx\n",
    "from charset_normalizer import from_path"
   ]
  },
  {
   "cell_type": "code",
   "execution_count": 4,
   "id": "4e0e5a67-8c92-4512-9ed9-7a40d4917680",
   "metadata": {},
   "outputs": [],
   "source": [
    "def calculate_screenplay_metrics(file_path):\n",
    "    try:\n",
    "        # Load the screenplay\n",
    "        result = from_path(file_path).best()\n",
    "        with open(file_path, 'r', encoding=result.encoding) as file:\n",
    "            screenplay = file.read()\n",
    "    \n",
    "        # Adjust the regex pattern to better capture character dialogues\n",
    "        character_dialogue_pattern = re.compile(r'\\n\\s*([A-Z][A-Z\\s]+)\\s*\\n\\s*([^\\n]+)')\n",
    "        dialogues = character_dialogue_pattern.findall(screenplay)\n",
    "\n",
    "        # Convert to DataFrame\n",
    "        dialogue_df = pd.DataFrame(dialogues, columns=['Character', 'Dialogue'])\n",
    "\n",
    "        # Filter out non-character entries from dialogues\n",
    "        character_name_pattern = re.compile(r'\\n\\s*([A-Z][A-Z\\s]+)\\s*\\n')\n",
    "        potential_characters = character_name_pattern.findall(screenplay)\n",
    "        character_counts = pd.Series(potential_characters).value_counts()\n",
    "        character_threshold = 5  # Adjust this threshold as needed\n",
    "        characters = character_counts[character_counts > character_threshold].index.tolist()\n",
    "        dialogue_df = dialogue_df[dialogue_df['Character'].isin(characters)]\n",
    "\n",
    "        # Create an interaction matrix for all characters\n",
    "        all_characters = dialogue_df['Character'].unique()\n",
    "        interaction_matrix_all = pd.DataFrame(0, index=all_characters, columns=all_characters)\n",
    "\n",
    "        # Populate the interaction matrix by considering adjacent dialogues\n",
    "        for i in range(len(dialogue_df) - 1):\n",
    "            char1 = dialogue_df.iloc[i]['Character']\n",
    "            char2 = dialogue_df.iloc[i + 1]['Character']\n",
    "            if char1 != char2:\n",
    "                interaction_matrix_all.loc[char1, char2] += 1\n",
    "                interaction_matrix_all.loc[char2, char1] += 1\n",
    "\n",
    "        # Create a NetworkX graph from the interaction matrix\n",
    "        G_all = nx.from_pandas_adjacency(interaction_matrix_all)\n",
    "\n",
    "        # Calculate degree centrality\n",
    "        degree_centrality = nx.degree_centrality(G_all)\n",
    "        average_degree_centrality = sum(degree_centrality.values()) / len(degree_centrality)\n",
    "\n",
    "        # Calculate closeness centrality\n",
    "        closeness_centrality = nx.closeness_centrality(G_all)\n",
    "        average_closeness_centrality = sum(closeness_centrality.values()) / len(closeness_centrality)\n",
    "\n",
    "        # Calculate betweenness centrality\n",
    "        betweenness_centrality = nx.betweenness_centrality(G_all)\n",
    "        average_betweenness_centrality = sum(betweenness_centrality.values()) / len(betweenness_centrality)\n",
    "\n",
    "        # Interaction diversity: number of unique characters each character interacts with\n",
    "        interaction_diversity = (interaction_matrix_all > 0).sum(axis=1)\n",
    "        average_interaction_diversity = interaction_diversity.mean()\n",
    "\n",
    "        # Normalized interaction coefficient (by total number of interactions)\n",
    "        total_interactions = interaction_matrix_all.sum().sum()\n",
    "        normalized_interaction_coefficient = total_interactions / (len(all_characters) * (len(all_characters) - 1))\n",
    "\n",
    "        # Create a DataFrame to store these coefficients\n",
    "        screenplay_metrics = {\n",
    "            'average_degree_centrality': average_degree_centrality,\n",
    "            'average_closeness_centrality': average_closeness_centrality,\n",
    "            'average_betweenness_centrality': average_betweenness_centrality,\n",
    "            'average_interaction_diversity': average_interaction_diversity,\n",
    "            'normalized_interaction_coefficient': normalized_interaction_coefficient\n",
    "        }\n",
    "\n",
    "    except ZeroDivisionError:\n",
    "        print(f\"ZeroDivisionError for file: {file_path}\")\n",
    "        screenplay_metrics = {\n",
    "            'average_degree_centrality': 0,\n",
    "            'average_closeness_centrality': 0,\n",
    "            'average_betweenness_centrality': 0,\n",
    "            'average_interaction_diversity': 0,\n",
    "            'normalized_interaction_coefficient': 0\n",
    "        }\n",
    "    \n",
    "    return screenplay_metrics"
   ]
  },
  {
   "cell_type": "code",
   "execution_count": 5,
   "id": "a6c78b3e-e266-4d7b-87a9-b80edef033d4",
   "metadata": {},
   "outputs": [],
   "source": [
    "import os\n",
    "import pandas as pd\n",
    "\n",
    "# Read csv file\n",
    "df = pd.read_csv('data/01_movie_metadata.csv')\n",
    "\n",
    "# Folder containing screenplay files\n",
    "screenplay_folder = 'data/screenplay_data/data/raw_texts/raw_texts'\n",
    "\n",
    "# Get all .txt files in folder\n",
    "files = [f for f in os.listdir(screenplay_folder) if f.endswith('.txt')]\n",
    "\n",
    "# Initialize dictionaries to store metrics for each screenplay\n",
    "metrics_dict = {\n",
    "    'average_degree_centrality': {},\n",
    "    'average_closeness_centrality': {},\n",
    "    'average_betweenness_centrality': {},\n",
    "    'average_interaction_diversity': {},\n",
    "    'normalized_interaction_coefficient': {}\n",
    "}"
   ]
  },
  {
   "cell_type": "code",
   "execution_count": 6,
   "id": "8b987f88-3f27-46ef-b1df-fccfc9ebd6c2",
   "metadata": {},
   "outputs": [
    {
     "data": {
      "text/html": [
       "<div>\n",
       "<style scoped>\n",
       "    .dataframe tbody tr th:only-of-type {\n",
       "        vertical-align: middle;\n",
       "    }\n",
       "\n",
       "    .dataframe tbody tr th {\n",
       "        vertical-align: top;\n",
       "    }\n",
       "\n",
       "    .dataframe thead th {\n",
       "        text-align: right;\n",
       "    }\n",
       "</style>\n",
       "<table border=\"1\" class=\"dataframe\">\n",
       "  <thead>\n",
       "    <tr style=\"text-align: right;\">\n",
       "      <th></th>\n",
       "      <th>imdbid</th>\n",
       "      <th>title</th>\n",
       "      <th>year</th>\n",
       "      <th>age_rating</th>\n",
       "      <th>genre</th>\n",
       "      <th>director</th>\n",
       "      <th>runtime_minutes</th>\n",
       "      <th>production_budget</th>\n",
       "      <th>domestic_gross</th>\n",
       "      <th>worldwide_gross</th>\n",
       "      <th>...</th>\n",
       "      <th>genre_horror</th>\n",
       "      <th>genre_music</th>\n",
       "      <th>genre_musical</th>\n",
       "      <th>genre_mystery</th>\n",
       "      <th>genre_romance</th>\n",
       "      <th>genre_sci-fi</th>\n",
       "      <th>genre_sport</th>\n",
       "      <th>genre_thriller</th>\n",
       "      <th>genre_war</th>\n",
       "      <th>genre_western</th>\n",
       "    </tr>\n",
       "  </thead>\n",
       "  <tbody>\n",
       "    <tr>\n",
       "      <th>0</th>\n",
       "      <td>120770</td>\n",
       "      <td>A Night at the Roxbury</td>\n",
       "      <td>1998</td>\n",
       "      <td>PG-13</td>\n",
       "      <td>Comedy, Music, Romance</td>\n",
       "      <td>John Fortenberry</td>\n",
       "      <td>82.0</td>\n",
       "      <td>17000000.0</td>\n",
       "      <td>30331165.0</td>\n",
       "      <td>3.033116e+07</td>\n",
       "      <td>...</td>\n",
       "      <td>0</td>\n",
       "      <td>1</td>\n",
       "      <td>0</td>\n",
       "      <td>0</td>\n",
       "      <td>1</td>\n",
       "      <td>0</td>\n",
       "      <td>0</td>\n",
       "      <td>0</td>\n",
       "      <td>0</td>\n",
       "      <td>0</td>\n",
       "    </tr>\n",
       "    <tr>\n",
       "      <th>1</th>\n",
       "      <td>132512</td>\n",
       "      <td>At First Sight</td>\n",
       "      <td>1999</td>\n",
       "      <td>PG-13</td>\n",
       "      <td>Drama, Romance</td>\n",
       "      <td>Irwin Winkler</td>\n",
       "      <td>128.0</td>\n",
       "      <td>40000000.0</td>\n",
       "      <td>22365133.0</td>\n",
       "      <td>2.236513e+07</td>\n",
       "      <td>...</td>\n",
       "      <td>0</td>\n",
       "      <td>0</td>\n",
       "      <td>0</td>\n",
       "      <td>0</td>\n",
       "      <td>1</td>\n",
       "      <td>0</td>\n",
       "      <td>0</td>\n",
       "      <td>0</td>\n",
       "      <td>0</td>\n",
       "      <td>0</td>\n",
       "    </tr>\n",
       "    <tr>\n",
       "      <th>2</th>\n",
       "      <td>118661</td>\n",
       "      <td>The Avengers</td>\n",
       "      <td>1998</td>\n",
       "      <td>PG-13</td>\n",
       "      <td>Action, Adventure, Sci-Fi</td>\n",
       "      <td>Jeremiah S. Chechik</td>\n",
       "      <td>143.0</td>\n",
       "      <td>225000000.0</td>\n",
       "      <td>623357910.0</td>\n",
       "      <td>1.515100e+09</td>\n",
       "      <td>...</td>\n",
       "      <td>0</td>\n",
       "      <td>0</td>\n",
       "      <td>0</td>\n",
       "      <td>0</td>\n",
       "      <td>0</td>\n",
       "      <td>1</td>\n",
       "      <td>0</td>\n",
       "      <td>0</td>\n",
       "      <td>0</td>\n",
       "      <td>0</td>\n",
       "    </tr>\n",
       "    <tr>\n",
       "      <th>3</th>\n",
       "      <td>118715</td>\n",
       "      <td>The Big Lebowski</td>\n",
       "      <td>1998</td>\n",
       "      <td>R</td>\n",
       "      <td>Comedy, Crime</td>\n",
       "      <td>Joel Coen, \\nEthan Coen</td>\n",
       "      <td>117.0</td>\n",
       "      <td>15000000.0</td>\n",
       "      <td>17498804.0</td>\n",
       "      <td>4.618957e+07</td>\n",
       "      <td>...</td>\n",
       "      <td>0</td>\n",
       "      <td>0</td>\n",
       "      <td>0</td>\n",
       "      <td>0</td>\n",
       "      <td>0</td>\n",
       "      <td>0</td>\n",
       "      <td>0</td>\n",
       "      <td>0</td>\n",
       "      <td>0</td>\n",
       "      <td>0</td>\n",
       "    </tr>\n",
       "    <tr>\n",
       "      <th>4</th>\n",
       "      <td>112573</td>\n",
       "      <td>Braveheart</td>\n",
       "      <td>1995</td>\n",
       "      <td>R</td>\n",
       "      <td>Biography, Drama, History</td>\n",
       "      <td>Mel Gibson</td>\n",
       "      <td>178.0</td>\n",
       "      <td>72000000.0</td>\n",
       "      <td>75545647.0</td>\n",
       "      <td>2.090452e+08</td>\n",
       "      <td>...</td>\n",
       "      <td>0</td>\n",
       "      <td>0</td>\n",
       "      <td>0</td>\n",
       "      <td>0</td>\n",
       "      <td>0</td>\n",
       "      <td>0</td>\n",
       "      <td>0</td>\n",
       "      <td>0</td>\n",
       "      <td>0</td>\n",
       "      <td>0</td>\n",
       "    </tr>\n",
       "  </tbody>\n",
       "</table>\n",
       "<p>5 rows × 34 columns</p>\n",
       "</div>"
      ],
      "text/plain": [
       "   imdbid                   title  year age_rating                      genre  \\\n",
       "0  120770  A Night at the Roxbury  1998      PG-13     Comedy, Music, Romance   \n",
       "1  132512          At First Sight  1999      PG-13             Drama, Romance   \n",
       "2  118661            The Avengers  1998      PG-13  Action, Adventure, Sci-Fi   \n",
       "3  118715        The Big Lebowski  1998          R              Comedy, Crime   \n",
       "4  112573              Braveheart  1995          R  Biography, Drama, History   \n",
       "\n",
       "                  director  runtime_minutes  production_budget  \\\n",
       "0         John Fortenberry             82.0         17000000.0   \n",
       "1            Irwin Winkler            128.0         40000000.0   \n",
       "2      Jeremiah S. Chechik            143.0        225000000.0   \n",
       "3  Joel Coen, \\nEthan Coen            117.0         15000000.0   \n",
       "4               Mel Gibson            178.0         72000000.0   \n",
       "\n",
       "   domestic_gross  worldwide_gross  ...  genre_horror  genre_music  \\\n",
       "0      30331165.0     3.033116e+07  ...             0            1   \n",
       "1      22365133.0     2.236513e+07  ...             0            0   \n",
       "2     623357910.0     1.515100e+09  ...             0            0   \n",
       "3      17498804.0     4.618957e+07  ...             0            0   \n",
       "4      75545647.0     2.090452e+08  ...             0            0   \n",
       "\n",
       "   genre_musical  genre_mystery  genre_romance  genre_sci-fi  genre_sport  \\\n",
       "0              0              0              1             0            0   \n",
       "1              0              0              1             0            0   \n",
       "2              0              0              0             1            0   \n",
       "3              0              0              0             0            0   \n",
       "4              0              0              0             0            0   \n",
       "\n",
       "   genre_thriller  genre_war  genre_western  \n",
       "0               0          0              0  \n",
       "1               0          0              0  \n",
       "2               0          0              0  \n",
       "3               0          0              0  \n",
       "4               0          0              0  \n",
       "\n",
       "[5 rows x 34 columns]"
      ]
     },
     "execution_count": 6,
     "metadata": {},
     "output_type": "execute_result"
    }
   ],
   "source": [
    "df.head()"
   ]
  },
  {
   "cell_type": "code",
   "execution_count": 7,
   "id": "02f44fcd-698e-4d4d-8a4d-9c13b46cd731",
   "metadata": {},
   "outputs": [
    {
     "name": "stdout",
     "output_type": "stream",
     "text": [
      "ZeroDivisionError for file: data/screenplay_data/data/raw_texts/raw_texts\\29th Street Highlander 2 The Quickening Billy Bathgate Year of the Gun_6099126.txt\n",
      "ZeroDivisionError for file: data/screenplay_data/data/raw_texts/raw_texts\\Aladdin_0103639.txt\n",
      "ZeroDivisionError for file: data/screenplay_data/data/raw_texts/raw_texts\\All Is Lost_2017038.txt\n",
      "ZeroDivisionError for file: data/screenplay_data/data/raw_texts/raw_texts\\An American Tragedy_0021607.txt\n",
      "ZeroDivisionError for file: data/screenplay_data/data/raw_texts/raw_texts\\Anchorman The Legend of Ron Burgundy_0357413.txt\n",
      "ZeroDivisionError for file: data/screenplay_data/data/raw_texts/raw_texts\\Armageddon_0120591.txt\n",
      "ZeroDivisionError for file: data/screenplay_data/data/raw_texts/raw_texts\\Battleship Potemkin_0015648.txt\n",
      "ZeroDivisionError for file: data/screenplay_data/data/raw_texts/raw_texts\\Benny Joon_0106387.txt\n",
      "ZeroDivisionError for file: data/screenplay_data/data/raw_texts/raw_texts\\Blue Jasmine_2334873.txt\n"
     ]
    },
    {
     "name": "stderr",
     "output_type": "stream",
     "text": [
      "C:\\Users\\an_na\\AppData\\Local\\Temp\\ipykernel_188960\\2930744397.py:56: RuntimeWarning: invalid value encountered in longlong_scalars\n",
      "  normalized_interaction_coefficient = total_interactions / (len(all_characters) * (len(all_characters) - 1))\n"
     ]
    },
    {
     "name": "stdout",
     "output_type": "stream",
     "text": [
      "ZeroDivisionError for file: data/screenplay_data/data/raw_texts/raw_texts\\Bram Stoker s Dracula_0103874.txt\n",
      "ZeroDivisionError for file: data/screenplay_data/data/raw_texts/raw_texts\\Breakin_0086998.txt\n",
      "ZeroDivisionError for file: data/screenplay_data/data/raw_texts/raw_texts\\Bringing Ashley Home_1765730.txt\n",
      "ZeroDivisionError for file: data/screenplay_data/data/raw_texts/raw_texts\\Charlie Chan Carries On_0021733.txt\n",
      "ZeroDivisionError for file: data/screenplay_data/data/raw_texts/raw_texts\\Charlie Chan s Chance_0022755.txt\n",
      "ZeroDivisionError for file: data/screenplay_data/data/raw_texts/raw_texts\\Charlie Chan s Courage_0024969.txt\n",
      "ZeroDivisionError for file: data/screenplay_data/data/raw_texts/raw_texts\\Charlie Chan s Greatest Case_0023881.txt\n",
      "ZeroDivisionError for file: data/screenplay_data/data/raw_texts/raw_texts\\Count Dracula_0065569.txt\n"
     ]
    },
    {
     "name": "stderr",
     "output_type": "stream",
     "text": [
      "C:\\Users\\an_na\\AppData\\Local\\Temp\\ipykernel_188960\\2930744397.py:56: RuntimeWarning: invalid value encountered in longlong_scalars\n",
      "  normalized_interaction_coefficient = total_interactions / (len(all_characters) * (len(all_characters) - 1))\n"
     ]
    },
    {
     "name": "stdout",
     "output_type": "stream",
     "text": [
      "ZeroDivisionError for file: data/screenplay_data/data/raw_texts/raw_texts\\Dawn of the Dead_0077402.txt\n",
      "ZeroDivisionError for file: data/screenplay_data/data/raw_texts/raw_texts\\Enter the Void_1191111.txt\n",
      "ZeroDivisionError for file: data/screenplay_data/data/raw_texts/raw_texts\\Every I Know What You Did Last Summer Movie Ranked_13256474.txt\n",
      "ZeroDivisionError for file: data/screenplay_data/data/raw_texts/raw_texts\\Everybody Comes to Nick s_1218598.txt\n",
      "ZeroDivisionError for file: data/screenplay_data/data/raw_texts/raw_texts\\Fantasia 2000_0120910.txt\n"
     ]
    },
    {
     "name": "stderr",
     "output_type": "stream",
     "text": [
      "C:\\Users\\an_na\\AppData\\Local\\Temp\\ipykernel_188960\\2930744397.py:56: RuntimeWarning: invalid value encountered in longlong_scalars\n",
      "  normalized_interaction_coefficient = total_interactions / (len(all_characters) * (len(all_characters) - 1))\n"
     ]
    },
    {
     "name": "stdout",
     "output_type": "stream",
     "text": [
      "ZeroDivisionError for file: data/screenplay_data/data/raw_texts/raw_texts\\Fletch_0089155.txt\n",
      "ZeroDivisionError for file: data/screenplay_data/data/raw_texts/raw_texts\\Flightplan_0408790.txt\n",
      "ZeroDivisionError for file: data/screenplay_data/data/raw_texts/raw_texts\\Fogg s Millions_0221183.txt\n",
      "ZeroDivisionError for file: data/screenplay_data/data/raw_texts/raw_texts\\Friday the 13th The Final Chapter_0087298.txt\n",
      "ZeroDivisionError for file: data/screenplay_data/data/raw_texts/raw_texts\\Frost Portrait of a Vampire_0212277.txt\n",
      "ZeroDivisionError for file: data/screenplay_data/data/raw_texts/raw_texts\\Gentleman in Mufti_0258525.txt\n"
     ]
    },
    {
     "name": "stderr",
     "output_type": "stream",
     "text": [
      "C:\\Users\\an_na\\AppData\\Local\\Temp\\ipykernel_188960\\2930744397.py:56: RuntimeWarning: invalid value encountered in longlong_scalars\n",
      "  normalized_interaction_coefficient = total_interactions / (len(all_characters) * (len(all_characters) - 1))\n"
     ]
    },
    {
     "name": "stdout",
     "output_type": "stream",
     "text": [
      "ZeroDivisionError for file: data/screenplay_data/data/raw_texts/raw_texts\\Going for the Gold The Bill Johnson Story_0089212.txt\n",
      "ZeroDivisionError for file: data/screenplay_data/data/raw_texts/raw_texts\\Gone with the Wind_0031381.txt\n",
      "ZeroDivisionError for file: data/screenplay_data/data/raw_texts/raw_texts\\Halloween_0296665.txt\n",
      "ZeroDivisionError for file: data/screenplay_data/data/raw_texts/raw_texts\\Halo_2934286.txt\n",
      "ZeroDivisionError for file: data/screenplay_data/data/raw_texts/raw_texts\\Happy End_5304464.txt\n",
      "ZeroDivisionError for file: data/screenplay_data/data/raw_texts/raw_texts\\Highway_0165361.txt\n",
      "ZeroDivisionError for file: data/screenplay_data/data/raw_texts/raw_texts\\Horror of Dracula_0051554.txt\n",
      "ZeroDivisionError for file: data/screenplay_data/data/raw_texts/raw_texts\\Hot romance_6048960.txt\n",
      "ZeroDivisionError for file: data/screenplay_data/data/raw_texts/raw_texts\\Inside Llewyn Davis_2042568.txt\n",
      "ZeroDivisionError for file: data/screenplay_data/data/raw_texts/raw_texts\\Johnny Mnemonic_0113481.txt\n",
      "ZeroDivisionError for file: data/screenplay_data/data/raw_texts/raw_texts\\Killer s Kiss_0048254.txt\n",
      "ZeroDivisionError for file: data/screenplay_data/data/raw_texts/raw_texts\\King of the Beasts Cat Can Do_1728446.txt\n",
      "ZeroDivisionError for file: data/screenplay_data/data/raw_texts/raw_texts\\Krampus The Christmas Devil_2578608.txt\n"
     ]
    },
    {
     "name": "stderr",
     "output_type": "stream",
     "text": [
      "C:\\Users\\an_na\\AppData\\Local\\Temp\\ipykernel_188960\\2930744397.py:56: RuntimeWarning: invalid value encountered in longlong_scalars\n",
      "  normalized_interaction_coefficient = total_interactions / (len(all_characters) * (len(all_characters) - 1))\n"
     ]
    },
    {
     "name": "stdout",
     "output_type": "stream",
     "text": [
      "ZeroDivisionError for file: data/screenplay_data/data/raw_texts/raw_texts\\Legend_0089469.txt\n",
      "ZeroDivisionError for file: data/screenplay_data/data/raw_texts/raw_texts\\London After Midnight_0018097.txt\n",
      "ZeroDivisionError for file: data/screenplay_data/data/raw_texts/raw_texts\\Moneyball_3024352.txt\n",
      "ZeroDivisionError for file: data/screenplay_data/data/raw_texts/raw_texts\\Mulan_0120762.txt\n",
      "ZeroDivisionError for file: data/screenplay_data/data/raw_texts/raw_texts\\Napoleon Dynamite_0374900.txt\n",
      "ZeroDivisionError for file: data/screenplay_data/data/raw_texts/raw_texts\\National Lampoon s Vacation_0085995.txt\n",
      "ZeroDivisionError for file: data/screenplay_data/data/raw_texts/raw_texts\\Nightbreed_0100260.txt\n",
      "ZeroDivisionError for file: data/screenplay_data/data/raw_texts/raw_texts\\Nightcrawler_1964955.txt\n",
      "ZeroDivisionError for file: data/screenplay_data/data/raw_texts/raw_texts\\Norbit_0477051.txt\n"
     ]
    },
    {
     "name": "stderr",
     "output_type": "stream",
     "text": [
      "C:\\Users\\an_na\\AppData\\Local\\Temp\\ipykernel_188960\\2930744397.py:56: RuntimeWarning: invalid value encountered in longlong_scalars\n",
      "  normalized_interaction_coefficient = total_interactions / (len(all_characters) * (len(all_characters) - 1))\n"
     ]
    },
    {
     "name": "stdout",
     "output_type": "stream",
     "text": [
      "ZeroDivisionError for file: data/screenplay_data/data/raw_texts/raw_texts\\Now and Then_0114011.txt\n",
      "ZeroDivisionError for file: data/screenplay_data/data/raw_texts/raw_texts\\One Eight Seven_0118531.txt\n"
     ]
    },
    {
     "name": "stderr",
     "output_type": "stream",
     "text": [
      "C:\\Users\\an_na\\AppData\\Local\\Temp\\ipykernel_188960\\2930744397.py:56: RuntimeWarning: invalid value encountered in longlong_scalars\n",
      "  normalized_interaction_coefficient = total_interactions / (len(all_characters) * (len(all_characters) - 1))\n"
     ]
    },
    {
     "name": "stdout",
     "output_type": "stream",
     "text": [
      "ZeroDivisionError for file: data/screenplay_data/data/raw_texts/raw_texts\\Poetic Justice_0107840.txt\n",
      "ZeroDivisionError for file: data/screenplay_data/data/raw_texts/raw_texts\\Pok mon Mewtwo Returns_0304564.txt\n",
      "ZeroDivisionError for file: data/screenplay_data/data/raw_texts/raw_texts\\Practical Magic_0120791.txt\n",
      "ZeroDivisionError for file: data/screenplay_data/data/raw_texts/raw_texts\\Pride and Prejudice_1332374.txt\n",
      "ZeroDivisionError for file: data/screenplay_data/data/raw_texts/raw_texts\\Pump Up the Volume_0100436.txt\n",
      "ZeroDivisionError for file: data/screenplay_data/data/raw_texts/raw_texts\\Pygmalion_0030637.txt\n",
      "ZeroDivisionError for file: data/screenplay_data/data/raw_texts/raw_texts\\Romy and Michele s High School Reunion_0120032.txt\n",
      "ZeroDivisionError for file: data/screenplay_data/data/raw_texts/raw_texts\\Saboteur_0035279.txt\n",
      "ZeroDivisionError for file: data/screenplay_data/data/raw_texts/raw_texts\\Sabrina_0047437.txt\n"
     ]
    },
    {
     "name": "stderr",
     "output_type": "stream",
     "text": [
      "C:\\Users\\an_na\\AppData\\Local\\Temp\\ipykernel_188960\\2930744397.py:56: RuntimeWarning: invalid value encountered in longlong_scalars\n",
      "  normalized_interaction_coefficient = total_interactions / (len(all_characters) * (len(all_characters) - 1))\n"
     ]
    },
    {
     "name": "stdout",
     "output_type": "stream",
     "text": [
      "ZeroDivisionError for file: data/screenplay_data/data/raw_texts/raw_texts\\Shock Treatment_0083067.txt\n",
      "ZeroDivisionError for file: data/screenplay_data/data/raw_texts/raw_texts\\Sidewalks of New York_0164167.txt\n",
      "ZeroDivisionError for file: data/screenplay_data/data/raw_texts/raw_texts\\Singin in the Rain_0045152.txt\n",
      "ZeroDivisionError for file: data/screenplay_data/data/raw_texts/raw_texts\\Southgate to Brighton_7547872.txt\n",
      "ZeroDivisionError for file: data/screenplay_data/data/raw_texts/raw_texts\\Spaceballs_0094012.txt\n",
      "ZeroDivisionError for file: data/screenplay_data/data/raw_texts/raw_texts\\Spitfire_5913184.txt\n",
      "ZeroDivisionError for file: data/screenplay_data/data/raw_texts/raw_texts\\Spring Breakers_2101441.txt\n"
     ]
    },
    {
     "name": "stderr",
     "output_type": "stream",
     "text": [
      "C:\\Users\\an_na\\AppData\\Local\\Temp\\ipykernel_188960\\2930744397.py:56: RuntimeWarning: invalid value encountered in longlong_scalars\n",
      "  normalized_interaction_coefficient = total_interactions / (len(all_characters) * (len(all_characters) - 1))\n"
     ]
    },
    {
     "name": "stdout",
     "output_type": "stream",
     "text": [
      "ZeroDivisionError for file: data/screenplay_data/data/raw_texts/raw_texts\\Star Wars Ep 1 The Phantom Menace w Ryan Paul from Cold Callers Comedy Podcast_12764338.txt\n",
      "ZeroDivisionError for file: data/screenplay_data/data/raw_texts/raw_texts\\Star Wars Episode I The Phantom Menace_0120915.txt\n",
      "ZeroDivisionError for file: data/screenplay_data/data/raw_texts/raw_texts\\Star Wars Episode III Revenge of the Sith_0121766.txt\n",
      "ZeroDivisionError for file: data/screenplay_data/data/raw_texts/raw_texts\\Strange Brew_0086373.txt\n",
      "ZeroDivisionError for file: data/screenplay_data/data/raw_texts/raw_texts\\Stranger Than Paradise_0088184.txt\n",
      "ZeroDivisionError for file: data/screenplay_data/data/raw_texts/raw_texts\\Streetwise_0088196.txt\n",
      "ZeroDivisionError for file: data/screenplay_data/data/raw_texts/raw_texts\\Suburbicon_0491175.txt\n",
      "ZeroDivisionError for file: data/screenplay_data/data/raw_texts/raw_texts\\Sweeney Todd_0479760.txt\n",
      "ZeroDivisionError for file: data/screenplay_data/data/raw_texts/raw_texts\\Tarzan s Secret Treasure_0034266.txt\n",
      "ZeroDivisionError for file: data/screenplay_data/data/raw_texts/raw_texts\\The Adventures of Priscilla Queen of the Desert_0109045.txt\n",
      "ZeroDivisionError for file: data/screenplay_data/data/raw_texts/raw_texts\\The Artist and the Model_1990217.txt\n",
      "ZeroDivisionError for file: data/screenplay_data/data/raw_texts/raw_texts\\The Artist_1655442.txt\n",
      "ZeroDivisionError for file: data/screenplay_data/data/raw_texts/raw_texts\\The Blair Witch Project_0185937.txt\n",
      "ZeroDivisionError for file: data/screenplay_data/data/raw_texts/raw_texts\\The Company of Wolves_0087075.txt\n",
      "ZeroDivisionError for file: data/screenplay_data/data/raw_texts/raw_texts\\The Constant Gardener_0387131.txt\n",
      "ZeroDivisionError for file: data/screenplay_data/data/raw_texts/raw_texts\\The Deep End of the Ocean_0120646.txt\n",
      "ZeroDivisionError for file: data/screenplay_data/data/raw_texts/raw_texts\\The Exorcist_0070047.txt\n",
      "ZeroDivisionError for file: data/screenplay_data/data/raw_texts/raw_texts\\The Forsaken_0245120.txt\n",
      "ZeroDivisionError for file: data/screenplay_data/data/raw_texts/raw_texts\\The Great Train Robbery_0079240.txt\n",
      "ZeroDivisionError for file: data/screenplay_data/data/raw_texts/raw_texts\\The Hand That Rocks the Cradle_0008041.txt\n",
      "ZeroDivisionError for file: data/screenplay_data/data/raw_texts/raw_texts\\The Little Mermaid_0097757.txt\n",
      "ZeroDivisionError for file: data/screenplay_data/data/raw_texts/raw_texts\\The Maltese Falcon_0033870.txt\n"
     ]
    },
    {
     "name": "stderr",
     "output_type": "stream",
     "text": [
      "C:\\Users\\an_na\\AppData\\Local\\Temp\\ipykernel_188960\\2930744397.py:56: RuntimeWarning: invalid value encountered in longlong_scalars\n",
      "  normalized_interaction_coefficient = total_interactions / (len(all_characters) * (len(all_characters) - 1))\n"
     ]
    },
    {
     "name": "stdout",
     "output_type": "stream",
     "text": [
      "ZeroDivisionError for file: data/screenplay_data/data/raw_texts/raw_texts\\The Messenger_0790712.txt\n",
      "ZeroDivisionError for file: data/screenplay_data/data/raw_texts/raw_texts\\The NeverEnding Story_0088323.txt\n",
      "ZeroDivisionError for file: data/screenplay_data/data/raw_texts/raw_texts\\The Ninth Gate_0142688.txt\n",
      "ZeroDivisionError for file: data/screenplay_data/data/raw_texts/raw_texts\\The Old Dark House_0057379.txt\n",
      "ZeroDivisionError for file: data/screenplay_data/data/raw_texts/raw_texts\\The Passion of Joan of Arc_0019254.txt\n",
      "ZeroDivisionError for file: data/screenplay_data/data/raw_texts/raw_texts\\The Peanut Butter Falcon_4364194.txt\n",
      "ZeroDivisionError for file: data/screenplay_data/data/raw_texts/raw_texts\\The Phantom Menace_6892482.txt\n",
      "ZeroDivisionError for file: data/screenplay_data/data/raw_texts/raw_texts\\The Phantom of the Opera_0293508.txt\n"
     ]
    },
    {
     "name": "stderr",
     "output_type": "stream",
     "text": [
      "C:\\Users\\an_na\\AppData\\Local\\Temp\\ipykernel_188960\\2930744397.py:56: RuntimeWarning: invalid value encountered in longlong_scalars\n",
      "  normalized_interaction_coefficient = total_interactions / (len(all_characters) * (len(all_characters) - 1))\n"
     ]
    },
    {
     "name": "stdout",
     "output_type": "stream",
     "text": [
      "ZeroDivisionError for file: data/screenplay_data/data/raw_texts/raw_texts\\The Reason We Are Not Detectives_4408712.txt\n",
      "ZeroDivisionError for file: data/screenplay_data/data/raw_texts/raw_texts\\The Red Turtle_3666024.txt\n",
      "ZeroDivisionError for file: data/screenplay_data/data/raw_texts/raw_texts\\The Rescuers Down Under_0100477.txt\n",
      "ZeroDivisionError for file: data/screenplay_data/data/raw_texts/raw_texts\\The Road_0898367.txt\n"
     ]
    },
    {
     "name": "stderr",
     "output_type": "stream",
     "text": [
      "C:\\Users\\an_na\\AppData\\Local\\Temp\\ipykernel_188960\\2930744397.py:56: RuntimeWarning: invalid value encountered in longlong_scalars\n",
      "  normalized_interaction_coefficient = total_interactions / (len(all_characters) * (len(all_characters) - 1))\n"
     ]
    },
    {
     "name": "stdout",
     "output_type": "stream",
     "text": [
      "ZeroDivisionError for file: data/screenplay_data/data/raw_texts/raw_texts\\The Spectacular Now_1714206.txt\n"
     ]
    },
    {
     "name": "stderr",
     "output_type": "stream",
     "text": [
      "C:\\Users\\an_na\\AppData\\Local\\Temp\\ipykernel_188960\\2930744397.py:56: RuntimeWarning: invalid value encountered in longlong_scalars\n",
      "  normalized_interaction_coefficient = total_interactions / (len(all_characters) * (len(all_characters) - 1))\n"
     ]
    },
    {
     "name": "stdout",
     "output_type": "stream",
     "text": [
      "ZeroDivisionError for file: data/screenplay_data/data/raw_texts/raw_texts\\The Thin Man_0025878.txt\n",
      "ZeroDivisionError for file: data/screenplay_data/data/raw_texts/raw_texts\\The Thin Man_0820597.txt\n",
      "ZeroDivisionError for file: data/screenplay_data/data/raw_texts/raw_texts\\The Thomas Crown Affair_0155267.txt\n",
      "ZeroDivisionError for file: data/screenplay_data/data/raw_texts/raw_texts\\The Treasure of the Sierra Madre_0040897.txt\n",
      "ZeroDivisionError for file: data/screenplay_data/data/raw_texts/raw_texts\\The White Ribbon_1149362.txt\n",
      "ZeroDivisionError for file: data/screenplay_data/data/raw_texts/raw_texts\\Things to Come_0028358.txt\n",
      "ZeroDivisionError for file: data/screenplay_data/data/raw_texts/raw_texts\\This Is Spinal Tap_0088258.txt\n",
      "ZeroDivisionError for file: data/screenplay_data/data/raw_texts/raw_texts\\Three Wishes_0310227.txt\n",
      "ZeroDivisionError for file: data/screenplay_data/data/raw_texts/raw_texts\\To Catch a Thief_0048728.txt\n",
      "ZeroDivisionError for file: data/screenplay_data/data/raw_texts/raw_texts\\Vic the Viking_3072988.txt\n"
     ]
    },
    {
     "name": "stderr",
     "output_type": "stream",
     "text": [
      "C:\\Users\\an_na\\AppData\\Local\\Temp\\ipykernel_188960\\2930744397.py:56: RuntimeWarning: invalid value encountered in longlong_scalars\n",
      "  normalized_interaction_coefficient = total_interactions / (len(all_characters) * (len(all_characters) - 1))\n"
     ]
    },
    {
     "name": "stdout",
     "output_type": "stream",
     "text": [
      "ZeroDivisionError for file: data/screenplay_data/data/raw_texts/raw_texts\\Witchery_0096453.txt\n",
      "ZeroDivisionError for file: data/screenplay_data/data/raw_texts/raw_texts\\Withnail I_0094336.txt\n",
      "ZeroDivisionError for file: data/screenplay_data/data/raw_texts/raw_texts\\Wonderland_0335563.txt\n",
      "ZeroDivisionError for file: data/screenplay_data/data/raw_texts/raw_texts\\Working Girl_0096463.txt\n"
     ]
    }
   ],
   "source": [
    "for filename in files:\n",
    "    file_path = os.path.join(screenplay_folder, filename)\n",
    "\n",
    "    # Check if filename matches pattern\n",
    "    match = re.search(r'_0*(\\d+)\\.txt$', filename)\n",
    "    if match:\n",
    "        # Extract imdbid from filename\n",
    "        imdbid = int(match.group(1))\n",
    "\n",
    "        # Calculate metrics for the screenplay\n",
    "        metrics = calculate_screenplay_metrics(file_path)\n",
    "\n",
    "        # Store metrics in dictionary\n",
    "        for key, value in metrics.items():\n",
    "            metrics_dict[key][imdbid] = value\n",
    "\n",
    "# Add new columns to the dataframe\n",
    "for key in metrics_dict:\n",
    "    df[key] = df['imdbid'].map(metrics_dict[key])"
   ]
  },
  {
   "cell_type": "code",
   "execution_count": 8,
   "id": "a4ccac06-1344-4a7a-9ec6-b10299a6d5d4",
   "metadata": {},
   "outputs": [
    {
     "name": "stdout",
     "output_type": "stream",
     "text": [
      "Updated DataFrame with metrics:\n",
      "   imdbid                   title  year age_rating                      genre  \\\n",
      "0  120770  A Night at the Roxbury  1998      PG-13     Comedy, Music, Romance   \n",
      "1  132512          At First Sight  1999      PG-13             Drama, Romance   \n",
      "2  118661            The Avengers  1998      PG-13  Action, Adventure, Sci-Fi   \n",
      "3  118715        The Big Lebowski  1998          R              Comedy, Crime   \n",
      "4  112573              Braveheart  1995          R  Biography, Drama, History   \n",
      "\n",
      "                  director  runtime_minutes  production_budget  \\\n",
      "0         John Fortenberry             82.0         17000000.0   \n",
      "1            Irwin Winkler            128.0         40000000.0   \n",
      "2      Jeremiah S. Chechik            143.0        225000000.0   \n",
      "3  Joel Coen, \\nEthan Coen            117.0         15000000.0   \n",
      "4               Mel Gibson            178.0         72000000.0   \n",
      "\n",
      "   domestic_gross  worldwide_gross  ...  genre_sci-fi  genre_sport  \\\n",
      "0      30331165.0     3.033116e+07  ...             0            0   \n",
      "1      22365133.0     2.236513e+07  ...             0            0   \n",
      "2     623357910.0     1.515100e+09  ...             1            0   \n",
      "3      17498804.0     4.618957e+07  ...             0            0   \n",
      "4      75545647.0     2.090452e+08  ...             0            0   \n",
      "\n",
      "   genre_thriller  genre_war  genre_western  average_degree_centrality  \\\n",
      "0               0          0              0                   0.384615   \n",
      "1               0          0              0                   0.525641   \n",
      "2               0          0              0                   0.527778   \n",
      "3               0          0              0                   0.180952   \n",
      "4               0          0              0                   0.342857   \n",
      "\n",
      "   average_closeness_centrality  average_betweenness_centrality  \\\n",
      "0                      0.640899                        0.055944   \n",
      "1                      0.700341                        0.043124   \n",
      "2                      0.702569                        0.067460   \n",
      "3                      0.549986                        0.045363   \n",
      "4                      0.586572                        0.038847   \n",
      "\n",
      "   average_interaction_diversity  normalized_interaction_coefficient  \n",
      "0                       4.615385                           10.435897  \n",
      "1                       6.307692                           10.115385  \n",
      "2                       4.222222                           13.861111  \n",
      "3                       3.619048                            4.238095  \n",
      "4                       6.857143                            1.928571  \n",
      "\n",
      "[5 rows x 39 columns]\n"
     ]
    }
   ],
   "source": [
    "print(\"Updated DataFrame with metrics:\")\n",
    "print(df.head())"
   ]
  },
  {
   "cell_type": "code",
   "execution_count": 9,
   "id": "ef8ead6d-5009-4b14-89fd-f38f3562b81b",
   "metadata": {},
   "outputs": [],
   "source": [
    "df = df[df['average_degree_centrality'] != 0]"
   ]
  },
  {
   "cell_type": "code",
   "execution_count": 10,
   "id": "15264d38-2d83-4cce-8ac8-6c6754dd052c",
   "metadata": {},
   "outputs": [
    {
     "data": {
      "text/plain": [
       "(1213, 39)"
      ]
     },
     "execution_count": 10,
     "metadata": {},
     "output_type": "execute_result"
    }
   ],
   "source": [
    "df.shape"
   ]
  },
  {
   "cell_type": "code",
   "execution_count": 11,
   "id": "2aa95e4e-5d61-4a9e-8d88-34f6f717d265",
   "metadata": {},
   "outputs": [],
   "source": [
    "# Save the updated dataframe\n",
    "df.to_csv('data/01_movie_metadata.csv', index=False)"
   ]
  }
 ],
 "metadata": {
  "kernelspec": {
   "display_name": "Python 3 (ipykernel)",
   "language": "python",
   "name": "python3"
  },
  "language_info": {
   "codemirror_mode": {
    "name": "ipython",
    "version": 3
   },
   "file_extension": ".py",
   "mimetype": "text/x-python",
   "name": "python",
   "nbconvert_exporter": "python",
   "pygments_lexer": "ipython3",
   "version": "3.11.3"
  }
 },
 "nbformat": 4,
 "nbformat_minor": 5
}
