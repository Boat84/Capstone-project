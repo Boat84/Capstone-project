{
 "cells": [
  {
   "cell_type": "code",
   "execution_count": 1,
   "metadata": {},
   "outputs": [
    {
     "name": "stdout",
     "output_type": "stream",
     "text": [
      "WARNING:tensorflow:From c:\\Users\\an_na\\Documents\\Arbeit\\Data Science Weiterbildung\\capstone\\Capstone-project\\.venv\\Lib\\site-packages\\keras\\src\\losses.py:2976: The name tf.losses.sparse_softmax_cross_entropy is deprecated. Please use tf.compat.v1.losses.sparse_softmax_cross_entropy instead.\n",
      "\n"
     ]
    }
   ],
   "source": [
    "import os\n",
    "import pandas as pd\n",
    "import nltk\n",
    "from nltk.tokenize import word_tokenize, sent_tokenize\n",
    "from transformers import DistilBertTokenizer, DistilBertForSequenceClassification, pipeline\n",
    "import torch\n",
    "import re\n",
    "import numpy as np\n",
    "\n",
    "# nltk.download('punkt')\n",
    "# nltk.download('stopwords')\n"
   ]
  },
  {
   "cell_type": "code",
   "execution_count": 2,
   "metadata": {},
   "outputs": [],
   "source": [
    "def list_csv_files(directory_path):\n",
    "    #Lists all CSV files in the given directory.\n",
    "    csv_files = [os.path.join(directory_path, f) for f in os.listdir(directory_path) if f.endswith('.csv')]\n",
    "    return csv_files\n",
    "\n",
    "def remove_ext_int_lines(text):\n",
    "    # Remove all lines that include EXT or INT\n",
    "    lines = text.split('\\n')\n",
    "    cleaned_lines = [line for line in lines if not line.strip().startswith(('EXT', 'INT'))]\n",
    "    cleaned_text = '\\n'.join(cleaned_lines)\n",
    "    return cleaned_text\n",
    "\n",
    "\n",
    "def get_features_df(file):\n",
    "    # Step 1: Read CSV file into df_1\n",
    "    df_1 = pd.read_csv(file)\n",
    "    \n",
    "    # Step 2: Adjust scores based on label\n",
    "    df_1['score_new'] = df_1.apply(lambda row: -row['score'] if row['label'] == 'NEGATIVE' else row['score'], axis=1)\n",
    "    \n",
    "    # Step 3: Extract name and ID number from file name\n",
    "    pattern = r\"^(.*)_(\\d+)\\.csv$\"  # Assuming ID number is digits only\n",
    "    match = re.match(pattern, os.path.basename(file))\n",
    "    \n",
    "    if match:\n",
    "        name = match.group(1)\n",
    "        id_number = match.group(2)\n",
    "    else:\n",
    "        raise ValueError(\"String format is incorrect\")\n",
    "    \n",
    "    # Step 4: Get average, mean_squared_deviation,num of turns and mean squared deviation from sentiment analysis\n",
    "    average = df_1['score_new'].mean()\n",
    "    #variance = df_1['score_new'].var()\n",
    "    mean_squared_deviation = ((df_1['score_new'] - average) ** 2).mean()\n",
    "    compound_values = df_1['score_new'].values\n",
    "    sign_changes = np.sign(compound_values[:-1]) * np.sign(compound_values[1:])\n",
    "    num_turns = int( np.sum(sign_changes == -1))\n",
    "    scenes_count = len(df_1['score_new'] )\n",
    "    #print(num_turns,scenes_count)\n",
    "\n",
    "    return name, id_number, average, mean_squared_deviation,num_turns,scenes_count\n",
    "\n",
    "# Example usage:\n",
    "#file_path = '/Users/xiaozhouye/Desktop/neuefische/Capstone-project_copy/data/screenplay_data/data/scene_separated_analysed/3 Idiots_1187043.csv'  # Replace with your actual file path\n",
    "#features = get_features_df(file_path)\n",
    "#print(features)\n",
    "\n"
   ]
  },
  {
   "cell_type": "code",
   "execution_count": 8,
   "metadata": {},
   "outputs": [
    {
     "name": "stdout",
     "output_type": "stream",
     "text": [
      "Processing file: data/movie_scripts/screenplay_data/data/scene_separated_sentiment_3\\10 Cloverfield Lane_1179933.csv\n",
      "Processing file: data/movie_scripts/screenplay_data/data/scene_separated_sentiment_3\\10 Things I Hate About You_0147800.csv\n",
      "Processing file: data/movie_scripts/screenplay_data/data/scene_separated_sentiment_3\\101 Days of 101 Dalmatians_0249328.csv\n",
      "Processing file: data/movie_scripts/screenplay_data/data/scene_separated_sentiment_3\\12 Angry Men_0118528.csv\n",
      "Processing file: data/movie_scripts/screenplay_data/data/scene_separated_sentiment_3\\12 Monkeys_0114746.csv\n",
      "Processing file: data/movie_scripts/screenplay_data/data/scene_separated_sentiment_3\\12 Years a Slave_2024544.csv\n",
      "Processing file: data/movie_scripts/screenplay_data/data/scene_separated_sentiment_3\\127 Hours_1542344.csv\n",
      "Processing file: data/movie_scripts/screenplay_data/data/scene_separated_sentiment_3\\13 13 13_2991516.csv\n",
      "Processing file: data/movie_scripts/screenplay_data/data/scene_separated_sentiment_3\\1408_0450385.csv\n",
      "Processing file: data/movie_scripts/screenplay_data/data/scene_separated_sentiment_3\\1492 Conquest of Paradise_0103594.csv\n",
      "Processing file: data/movie_scripts/screenplay_data/data/scene_separated_sentiment_3\\15 Minutes_0179626.csv\n",
      "Processing file: data/movie_scripts/screenplay_data/data/scene_separated_sentiment_3\\16 Blocks_0450232.csv\n",
      "Processing file: data/movie_scripts/screenplay_data/data/scene_separated_sentiment_3\\17 Again_0974661.csv\n",
      "Processing file: data/movie_scripts/screenplay_data/data/scene_separated_sentiment_3\\1917_8579674.csv\n",
      "Processing file: data/movie_scripts/screenplay_data/data/scene_separated_sentiment_3\\1976 l lection du Parti qu b cois_11327984.csv\n",
      "Processing file: data/movie_scripts/screenplay_data/data/scene_separated_sentiment_3\\2 Broke Girls_1845307.csv\n",
      "Processing file: data/movie_scripts/screenplay_data/data/scene_separated_sentiment_3\\2 Guns a Grenade a Pizza Guy_1871996.csv\n",
      "Processing file: data/movie_scripts/screenplay_data/data/scene_separated_sentiment_3\\2001 A Space Road Odyssey_0288910.csv\n",
      "Processing file: data/movie_scripts/screenplay_data/data/scene_separated_sentiment_3\\2010 The Odyssey Continues_0235153.csv\n",
      "Processing file: data/movie_scripts/screenplay_data/data/scene_separated_sentiment_3\\2012_1190080.csv\n",
      "Processing file: data/movie_scripts/screenplay_data/data/scene_separated_sentiment_3\\20th Century Women_4385888.csv\n",
      "Processing file: data/movie_scripts/screenplay_data/data/scene_separated_sentiment_3\\21 Grams_0315733.csv\n",
      "Processing file: data/movie_scripts/screenplay_data/data/scene_separated_sentiment_3\\21 Jump Street_1232829.csv\n",
      "Processing file: data/movie_scripts/screenplay_data/data/scene_separated_sentiment_3\\22 July_7280898.csv\n",
      "Processing file: data/movie_scripts/screenplay_data/data/scene_separated_sentiment_3\\25th Hour_0307901.csv\n",
      "Processing file: data/movie_scripts/screenplay_data/data/scene_separated_sentiment_3\\28 Days Later_0289043.csv\n",
      "Processing file: data/movie_scripts/screenplay_data/data/scene_separated_sentiment_3\\28 Days_0191754.csv\n",
      "Processing file: data/movie_scripts/screenplay_data/data/scene_separated_sentiment_3\\28 Weeks Later_0463854.csv\n",
      "An error occurred: name 'csv' is not defined\n"
     ]
    }
   ],
   "source": [
    "#Processes all CSV files in the given directory, computes statistics, and writes them to a new CSV file.\n",
    "def statistic_sentiment_all_csv(dir, dir_to_csv_file):\n",
    "    # dir: Path to the directory containing CSV files.\n",
    "    # dir_to_csv_file: Path to the output directory for CSV file.\n",
    " \n",
    "    try:\n",
    "        csv_files = list_csv_files(dir)\n",
    "        \n",
    "        Name = []\n",
    "        Id = []\n",
    "        Sentiment_score_average = []\n",
    "        Sentiment_score_mean_squared_deviation = []\n",
    "        Sentiment_num_turns = []\n",
    "        Scenes_count = []\n",
    "\n",
    "        for file in csv_files:\n",
    "            print(f\"Processing file: {file}\")\n",
    "            name, id_number, average, mean_squared_deviation, num_turns, scenes_count = get_features_df(file)\n",
    "            Name.append(name)\n",
    "            Id.append(id_number)\n",
    "            Sentiment_score_average.append(average)\n",
    "            Sentiment_score_mean_squared_deviation.append(mean_squared_deviation)\n",
    "            Sentiment_num_turns.append(num_turns)\n",
    "            Scenes_count.append(scenes_count)\n",
    "\n",
    "        if not os.path.exists(dir_to_csv_file):\n",
    "            os.makedirs(dir_to_csv_file)\n",
    "        \n",
    "        csv_sum = os.path.join(dir_to_csv_file, 'sentiment_summ.csv')\n",
    "        with open(csv_sum, 'w', newline='') as csvfile:\n",
    "            csv_writer = csv.writer(csvfile)\n",
    "            csv_writer.writerow(['Name', 'Id', 'Sentiment_score_average', 'Sentiment_score_mean_squared_deviation', 'Sentiment_num_turns', 'Scenes_count'])\n",
    "            for i in range(len(Name)):\n",
    "                csv_writer.writerow([Name[i], Id[i], Sentiment_score_average[i], Sentiment_score_mean_squared_deviation[i], Sentiment_num_turns[i], Scenes_count[i]])\n",
    "\n",
    "        print(\"Statistics saved to\", csv_sum)\n",
    "\n",
    "    except Exception as e:\n",
    "        print(f\"An error occurred: {str(e)}\")\n",
    "\n",
    "           \n",
    "\n",
    "# Example usage:\n",
    "dir = 'data/screenplay_data/data/scene_separated_sentiment_3'#------------replace with your path\n",
    "dir_to_csv_file = 'data/movie_scripts_screenplay_data/data/scene_sentiment'#------------replace with your path\n",
    "statistic_sentiment_all_csv(dir,dir_to_csv_file)"
   ]
  },
  {
   "cell_type": "code",
   "execution_count": 6,
   "metadata": {},
   "outputs": [
    {
     "ename": "FileNotFoundError",
     "evalue": "[Errno 2] No such file or directory: 'data/movie_scripts/screenplay_data/data/scene_sentimen_new2/sentiment_summ.csv'",
     "output_type": "error",
     "traceback": [
      "\u001b[1;31m---------------------------------------------------------------------------\u001b[0m",
      "\u001b[1;31mFileNotFoundError\u001b[0m                         Traceback (most recent call last)",
      "Cell \u001b[1;32mIn[6], line 1\u001b[0m\n\u001b[1;32m----> 1\u001b[0m df \u001b[38;5;241m=\u001b[39m \u001b[43mpd\u001b[49m\u001b[38;5;241;43m.\u001b[39;49m\u001b[43mread_csv\u001b[49m\u001b[43m(\u001b[49m\u001b[38;5;124;43m'\u001b[39;49m\u001b[38;5;124;43mdata/movie_scripts/screenplay_data/data/scene_sentimen_new2/sentiment_summ.csv\u001b[39;49m\u001b[38;5;124;43m'\u001b[39;49m\u001b[43m)\u001b[49m\n\u001b[0;32m      2\u001b[0m df\n",
      "File \u001b[1;32mc:\\Users\\an_na\\Documents\\Arbeit\\Data Science Weiterbildung\\capstone\\Capstone-project\\.venv\\Lib\\site-packages\\pandas\\io\\parsers\\readers.py:912\u001b[0m, in \u001b[0;36mread_csv\u001b[1;34m(filepath_or_buffer, sep, delimiter, header, names, index_col, usecols, dtype, engine, converters, true_values, false_values, skipinitialspace, skiprows, skipfooter, nrows, na_values, keep_default_na, na_filter, verbose, skip_blank_lines, parse_dates, infer_datetime_format, keep_date_col, date_parser, date_format, dayfirst, cache_dates, iterator, chunksize, compression, thousands, decimal, lineterminator, quotechar, quoting, doublequote, escapechar, comment, encoding, encoding_errors, dialect, on_bad_lines, delim_whitespace, low_memory, memory_map, float_precision, storage_options, dtype_backend)\u001b[0m\n\u001b[0;32m    899\u001b[0m kwds_defaults \u001b[38;5;241m=\u001b[39m _refine_defaults_read(\n\u001b[0;32m    900\u001b[0m     dialect,\n\u001b[0;32m    901\u001b[0m     delimiter,\n\u001b[1;32m   (...)\u001b[0m\n\u001b[0;32m    908\u001b[0m     dtype_backend\u001b[38;5;241m=\u001b[39mdtype_backend,\n\u001b[0;32m    909\u001b[0m )\n\u001b[0;32m    910\u001b[0m kwds\u001b[38;5;241m.\u001b[39mupdate(kwds_defaults)\n\u001b[1;32m--> 912\u001b[0m \u001b[38;5;28;01mreturn\u001b[39;00m \u001b[43m_read\u001b[49m\u001b[43m(\u001b[49m\u001b[43mfilepath_or_buffer\u001b[49m\u001b[43m,\u001b[49m\u001b[43m \u001b[49m\u001b[43mkwds\u001b[49m\u001b[43m)\u001b[49m\n",
      "File \u001b[1;32mc:\\Users\\an_na\\Documents\\Arbeit\\Data Science Weiterbildung\\capstone\\Capstone-project\\.venv\\Lib\\site-packages\\pandas\\io\\parsers\\readers.py:577\u001b[0m, in \u001b[0;36m_read\u001b[1;34m(filepath_or_buffer, kwds)\u001b[0m\n\u001b[0;32m    574\u001b[0m _validate_names(kwds\u001b[38;5;241m.\u001b[39mget(\u001b[38;5;124m\"\u001b[39m\u001b[38;5;124mnames\u001b[39m\u001b[38;5;124m\"\u001b[39m, \u001b[38;5;28;01mNone\u001b[39;00m))\n\u001b[0;32m    576\u001b[0m \u001b[38;5;66;03m# Create the parser.\u001b[39;00m\n\u001b[1;32m--> 577\u001b[0m parser \u001b[38;5;241m=\u001b[39m \u001b[43mTextFileReader\u001b[49m\u001b[43m(\u001b[49m\u001b[43mfilepath_or_buffer\u001b[49m\u001b[43m,\u001b[49m\u001b[43m \u001b[49m\u001b[38;5;241;43m*\u001b[39;49m\u001b[38;5;241;43m*\u001b[39;49m\u001b[43mkwds\u001b[49m\u001b[43m)\u001b[49m\n\u001b[0;32m    579\u001b[0m \u001b[38;5;28;01mif\u001b[39;00m chunksize \u001b[38;5;129;01mor\u001b[39;00m iterator:\n\u001b[0;32m    580\u001b[0m     \u001b[38;5;28;01mreturn\u001b[39;00m parser\n",
      "File \u001b[1;32mc:\\Users\\an_na\\Documents\\Arbeit\\Data Science Weiterbildung\\capstone\\Capstone-project\\.venv\\Lib\\site-packages\\pandas\\io\\parsers\\readers.py:1407\u001b[0m, in \u001b[0;36mTextFileReader.__init__\u001b[1;34m(self, f, engine, **kwds)\u001b[0m\n\u001b[0;32m   1404\u001b[0m     \u001b[38;5;28mself\u001b[39m\u001b[38;5;241m.\u001b[39moptions[\u001b[38;5;124m\"\u001b[39m\u001b[38;5;124mhas_index_names\u001b[39m\u001b[38;5;124m\"\u001b[39m] \u001b[38;5;241m=\u001b[39m kwds[\u001b[38;5;124m\"\u001b[39m\u001b[38;5;124mhas_index_names\u001b[39m\u001b[38;5;124m\"\u001b[39m]\n\u001b[0;32m   1406\u001b[0m \u001b[38;5;28mself\u001b[39m\u001b[38;5;241m.\u001b[39mhandles: IOHandles \u001b[38;5;241m|\u001b[39m \u001b[38;5;28;01mNone\u001b[39;00m \u001b[38;5;241m=\u001b[39m \u001b[38;5;28;01mNone\u001b[39;00m\n\u001b[1;32m-> 1407\u001b[0m \u001b[38;5;28mself\u001b[39m\u001b[38;5;241m.\u001b[39m_engine \u001b[38;5;241m=\u001b[39m \u001b[38;5;28;43mself\u001b[39;49m\u001b[38;5;241;43m.\u001b[39;49m\u001b[43m_make_engine\u001b[49m\u001b[43m(\u001b[49m\u001b[43mf\u001b[49m\u001b[43m,\u001b[49m\u001b[43m \u001b[49m\u001b[38;5;28;43mself\u001b[39;49m\u001b[38;5;241;43m.\u001b[39;49m\u001b[43mengine\u001b[49m\u001b[43m)\u001b[49m\n",
      "File \u001b[1;32mc:\\Users\\an_na\\Documents\\Arbeit\\Data Science Weiterbildung\\capstone\\Capstone-project\\.venv\\Lib\\site-packages\\pandas\\io\\parsers\\readers.py:1661\u001b[0m, in \u001b[0;36mTextFileReader._make_engine\u001b[1;34m(self, f, engine)\u001b[0m\n\u001b[0;32m   1659\u001b[0m     \u001b[38;5;28;01mif\u001b[39;00m \u001b[38;5;124m\"\u001b[39m\u001b[38;5;124mb\u001b[39m\u001b[38;5;124m\"\u001b[39m \u001b[38;5;129;01mnot\u001b[39;00m \u001b[38;5;129;01min\u001b[39;00m mode:\n\u001b[0;32m   1660\u001b[0m         mode \u001b[38;5;241m+\u001b[39m\u001b[38;5;241m=\u001b[39m \u001b[38;5;124m\"\u001b[39m\u001b[38;5;124mb\u001b[39m\u001b[38;5;124m\"\u001b[39m\n\u001b[1;32m-> 1661\u001b[0m \u001b[38;5;28mself\u001b[39m\u001b[38;5;241m.\u001b[39mhandles \u001b[38;5;241m=\u001b[39m \u001b[43mget_handle\u001b[49m\u001b[43m(\u001b[49m\n\u001b[0;32m   1662\u001b[0m \u001b[43m    \u001b[49m\u001b[43mf\u001b[49m\u001b[43m,\u001b[49m\n\u001b[0;32m   1663\u001b[0m \u001b[43m    \u001b[49m\u001b[43mmode\u001b[49m\u001b[43m,\u001b[49m\n\u001b[0;32m   1664\u001b[0m \u001b[43m    \u001b[49m\u001b[43mencoding\u001b[49m\u001b[38;5;241;43m=\u001b[39;49m\u001b[38;5;28;43mself\u001b[39;49m\u001b[38;5;241;43m.\u001b[39;49m\u001b[43moptions\u001b[49m\u001b[38;5;241;43m.\u001b[39;49m\u001b[43mget\u001b[49m\u001b[43m(\u001b[49m\u001b[38;5;124;43m\"\u001b[39;49m\u001b[38;5;124;43mencoding\u001b[39;49m\u001b[38;5;124;43m\"\u001b[39;49m\u001b[43m,\u001b[49m\u001b[43m \u001b[49m\u001b[38;5;28;43;01mNone\u001b[39;49;00m\u001b[43m)\u001b[49m\u001b[43m,\u001b[49m\n\u001b[0;32m   1665\u001b[0m \u001b[43m    \u001b[49m\u001b[43mcompression\u001b[49m\u001b[38;5;241;43m=\u001b[39;49m\u001b[38;5;28;43mself\u001b[39;49m\u001b[38;5;241;43m.\u001b[39;49m\u001b[43moptions\u001b[49m\u001b[38;5;241;43m.\u001b[39;49m\u001b[43mget\u001b[49m\u001b[43m(\u001b[49m\u001b[38;5;124;43m\"\u001b[39;49m\u001b[38;5;124;43mcompression\u001b[39;49m\u001b[38;5;124;43m\"\u001b[39;49m\u001b[43m,\u001b[49m\u001b[43m \u001b[49m\u001b[38;5;28;43;01mNone\u001b[39;49;00m\u001b[43m)\u001b[49m\u001b[43m,\u001b[49m\n\u001b[0;32m   1666\u001b[0m \u001b[43m    \u001b[49m\u001b[43mmemory_map\u001b[49m\u001b[38;5;241;43m=\u001b[39;49m\u001b[38;5;28;43mself\u001b[39;49m\u001b[38;5;241;43m.\u001b[39;49m\u001b[43moptions\u001b[49m\u001b[38;5;241;43m.\u001b[39;49m\u001b[43mget\u001b[49m\u001b[43m(\u001b[49m\u001b[38;5;124;43m\"\u001b[39;49m\u001b[38;5;124;43mmemory_map\u001b[39;49m\u001b[38;5;124;43m\"\u001b[39;49m\u001b[43m,\u001b[49m\u001b[43m \u001b[49m\u001b[38;5;28;43;01mFalse\u001b[39;49;00m\u001b[43m)\u001b[49m\u001b[43m,\u001b[49m\n\u001b[0;32m   1667\u001b[0m \u001b[43m    \u001b[49m\u001b[43mis_text\u001b[49m\u001b[38;5;241;43m=\u001b[39;49m\u001b[43mis_text\u001b[49m\u001b[43m,\u001b[49m\n\u001b[0;32m   1668\u001b[0m \u001b[43m    \u001b[49m\u001b[43merrors\u001b[49m\u001b[38;5;241;43m=\u001b[39;49m\u001b[38;5;28;43mself\u001b[39;49m\u001b[38;5;241;43m.\u001b[39;49m\u001b[43moptions\u001b[49m\u001b[38;5;241;43m.\u001b[39;49m\u001b[43mget\u001b[49m\u001b[43m(\u001b[49m\u001b[38;5;124;43m\"\u001b[39;49m\u001b[38;5;124;43mencoding_errors\u001b[39;49m\u001b[38;5;124;43m\"\u001b[39;49m\u001b[43m,\u001b[49m\u001b[43m \u001b[49m\u001b[38;5;124;43m\"\u001b[39;49m\u001b[38;5;124;43mstrict\u001b[39;49m\u001b[38;5;124;43m\"\u001b[39;49m\u001b[43m)\u001b[49m\u001b[43m,\u001b[49m\n\u001b[0;32m   1669\u001b[0m \u001b[43m    \u001b[49m\u001b[43mstorage_options\u001b[49m\u001b[38;5;241;43m=\u001b[39;49m\u001b[38;5;28;43mself\u001b[39;49m\u001b[38;5;241;43m.\u001b[39;49m\u001b[43moptions\u001b[49m\u001b[38;5;241;43m.\u001b[39;49m\u001b[43mget\u001b[49m\u001b[43m(\u001b[49m\u001b[38;5;124;43m\"\u001b[39;49m\u001b[38;5;124;43mstorage_options\u001b[39;49m\u001b[38;5;124;43m\"\u001b[39;49m\u001b[43m,\u001b[49m\u001b[43m \u001b[49m\u001b[38;5;28;43;01mNone\u001b[39;49;00m\u001b[43m)\u001b[49m\u001b[43m,\u001b[49m\n\u001b[0;32m   1670\u001b[0m \u001b[43m\u001b[49m\u001b[43m)\u001b[49m\n\u001b[0;32m   1671\u001b[0m \u001b[38;5;28;01massert\u001b[39;00m \u001b[38;5;28mself\u001b[39m\u001b[38;5;241m.\u001b[39mhandles \u001b[38;5;129;01mis\u001b[39;00m \u001b[38;5;129;01mnot\u001b[39;00m \u001b[38;5;28;01mNone\u001b[39;00m\n\u001b[0;32m   1672\u001b[0m f \u001b[38;5;241m=\u001b[39m \u001b[38;5;28mself\u001b[39m\u001b[38;5;241m.\u001b[39mhandles\u001b[38;5;241m.\u001b[39mhandle\n",
      "File \u001b[1;32mc:\\Users\\an_na\\Documents\\Arbeit\\Data Science Weiterbildung\\capstone\\Capstone-project\\.venv\\Lib\\site-packages\\pandas\\io\\common.py:859\u001b[0m, in \u001b[0;36mget_handle\u001b[1;34m(path_or_buf, mode, encoding, compression, memory_map, is_text, errors, storage_options)\u001b[0m\n\u001b[0;32m    854\u001b[0m \u001b[38;5;28;01melif\u001b[39;00m \u001b[38;5;28misinstance\u001b[39m(handle, \u001b[38;5;28mstr\u001b[39m):\n\u001b[0;32m    855\u001b[0m     \u001b[38;5;66;03m# Check whether the filename is to be opened in binary mode.\u001b[39;00m\n\u001b[0;32m    856\u001b[0m     \u001b[38;5;66;03m# Binary mode does not support 'encoding' and 'newline'.\u001b[39;00m\n\u001b[0;32m    857\u001b[0m     \u001b[38;5;28;01mif\u001b[39;00m ioargs\u001b[38;5;241m.\u001b[39mencoding \u001b[38;5;129;01mand\u001b[39;00m \u001b[38;5;124m\"\u001b[39m\u001b[38;5;124mb\u001b[39m\u001b[38;5;124m\"\u001b[39m \u001b[38;5;129;01mnot\u001b[39;00m \u001b[38;5;129;01min\u001b[39;00m ioargs\u001b[38;5;241m.\u001b[39mmode:\n\u001b[0;32m    858\u001b[0m         \u001b[38;5;66;03m# Encoding\u001b[39;00m\n\u001b[1;32m--> 859\u001b[0m         handle \u001b[38;5;241m=\u001b[39m \u001b[38;5;28;43mopen\u001b[39;49m\u001b[43m(\u001b[49m\n\u001b[0;32m    860\u001b[0m \u001b[43m            \u001b[49m\u001b[43mhandle\u001b[49m\u001b[43m,\u001b[49m\n\u001b[0;32m    861\u001b[0m \u001b[43m            \u001b[49m\u001b[43mioargs\u001b[49m\u001b[38;5;241;43m.\u001b[39;49m\u001b[43mmode\u001b[49m\u001b[43m,\u001b[49m\n\u001b[0;32m    862\u001b[0m \u001b[43m            \u001b[49m\u001b[43mencoding\u001b[49m\u001b[38;5;241;43m=\u001b[39;49m\u001b[43mioargs\u001b[49m\u001b[38;5;241;43m.\u001b[39;49m\u001b[43mencoding\u001b[49m\u001b[43m,\u001b[49m\n\u001b[0;32m    863\u001b[0m \u001b[43m            \u001b[49m\u001b[43merrors\u001b[49m\u001b[38;5;241;43m=\u001b[39;49m\u001b[43merrors\u001b[49m\u001b[43m,\u001b[49m\n\u001b[0;32m    864\u001b[0m \u001b[43m            \u001b[49m\u001b[43mnewline\u001b[49m\u001b[38;5;241;43m=\u001b[39;49m\u001b[38;5;124;43m\"\u001b[39;49m\u001b[38;5;124;43m\"\u001b[39;49m\u001b[43m,\u001b[49m\n\u001b[0;32m    865\u001b[0m \u001b[43m        \u001b[49m\u001b[43m)\u001b[49m\n\u001b[0;32m    866\u001b[0m     \u001b[38;5;28;01melse\u001b[39;00m:\n\u001b[0;32m    867\u001b[0m         \u001b[38;5;66;03m# Binary mode\u001b[39;00m\n\u001b[0;32m    868\u001b[0m         handle \u001b[38;5;241m=\u001b[39m \u001b[38;5;28mopen\u001b[39m(handle, ioargs\u001b[38;5;241m.\u001b[39mmode)\n",
      "\u001b[1;31mFileNotFoundError\u001b[0m: [Errno 2] No such file or directory: 'data/movie_scripts/screenplay_data/data/scene_sentimen_new2/sentiment_summ.csv'"
     ]
    }
   ],
   "source": [
    "df = pd.read_csv('data/screenplay_data/data/scene_sentiment/sentiment_summ.csv')\n",
    "df"
   ]
  }
 ],
 "metadata": {
  "kernelspec": {
   "display_name": ".venv",
   "language": "python",
   "name": "python3"
  },
  "language_info": {
   "codemirror_mode": {
    "name": "ipython",
    "version": 3
   },
   "file_extension": ".py",
   "mimetype": "text/x-python",
   "name": "python",
   "nbconvert_exporter": "python",
   "pygments_lexer": "ipython3",
   "version": "3.11.3"
  }
 },
 "nbformat": 4,
 "nbformat_minor": 2
}
