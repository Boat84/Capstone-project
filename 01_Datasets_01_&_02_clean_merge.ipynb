{
 "cells": [
  {
   "cell_type": "code",
   "execution_count": null,
   "id": "16aa6e35-7465-46fd-a7c9-393203171fce",
   "metadata": {},
   "outputs": [],
   "source": [
    "'''\n",
    "Download\n",
    "[1] IMDb Movie Dataset: All Movies by Genre\n",
    "from\n",
    "https://www.kaggle.com/datasets/rajugc/imdb-movies-dataset-based-on-genre\n",
    "and\n",
    "[2] Ultimate Film Statistics Dataset with Production Budget and Domestic (US) and Worldwide Gross\n",
    "from\n",
    "https://www.kaggle.com/datasets/alessandrolobello/the-ultimate-film-statistics-dataset-for-ml\n",
    "'''"
   ]
  },
  {
   "cell_type": "code",
   "execution_count": null,
   "id": "40120d75-a3d4-4c8b-b110-6fa71f7a0ccb",
   "metadata": {},
   "outputs": [],
   "source": [
    "# first df: IMDb Movie Dataset\n",
    "\n",
    "# joining all 16 seperate datasets into 1\n",
    "\n",
    "import pandas as pd\n",
    "\n",
    "# file location\n",
    "directory = 'data/IMDb Movie Dataset/' \n",
    "\n",
    "# list of CSV files\n",
    "csv_files = [\n",
    "    'action.csv', 'adventure.csv', 'animation.csv', 'biography.csv', 'crime.csv',\n",
    "    'family.csv', 'fantasy.csv', 'film-noir.csv', 'history.csv', 'horror.csv',\n",
    "    'mystery.csv', 'romance.csv', 'scifi.csv', 'sports.csv', 'thriller.csv', 'war.csv'\n",
    "]\n",
    "\n",
    "# empty list to store dfs\n",
    "dataframes = []\n",
    "\n",
    "# loop through the list of files and read each one\n",
    "for file in csv_files:\n",
    "    file_path = directory + file\n",
    "    df = pd.read_csv(file_path)\n",
    "    dataframes.append(df)\n",
    "\n",
    "# concatenate all dfs into 1\n",
    "combined_df = pd.concat(dataframes, ignore_index=True)"
   ]
  },
  {
   "cell_type": "code",
   "execution_count": null,
   "id": "3acf9ee4-0885-461e-82a4-2fc204c4ec99",
   "metadata": {},
   "outputs": [],
   "source": [
    "combined_df.head()"
   ]
  },
  {
   "cell_type": "code",
   "execution_count": null,
   "id": "2a17177d-f256-49fc-8b28-c3a0b8562ed4",
   "metadata": {},
   "outputs": [],
   "source": [
    "combined_df.shape"
   ]
  },
  {
   "cell_type": "code",
   "execution_count": null,
   "id": "f416af9a-d701-4559-812e-186722c349ad",
   "metadata": {},
   "outputs": [],
   "source": [
    "# drop unnecessary columns\n",
    "\n",
    "# list of columns to drop\n",
    "columns_to_drop = ['director_id', 'star', 'star_id', 'votes', 'runtime', 'rating', 'description', 'gross(in $)']\n",
    "\n",
    "# drop the columns\n",
    "df = combined_df.drop(columns=columns_to_drop)"
   ]
  },
  {
   "cell_type": "code",
   "execution_count": null,
   "id": "9cfdc0aa-678d-4c79-92c2-25604cda861c",
   "metadata": {},
   "outputs": [],
   "source": [
    "# rename columns\n",
    "df = df.rename(columns={'movie_id': 'imdbid', 'movie_name': 'title', 'certificate': 'age_rating'})"
   ]
  },
  {
   "cell_type": "code",
   "execution_count": null,
   "id": "168add9e-3297-4709-b4b4-5a699ded9f16",
   "metadata": {},
   "outputs": [],
   "source": [
    "df.head()"
   ]
  },
  {
   "cell_type": "code",
   "execution_count": null,
   "id": "5d9de20b-1614-42cd-a871-7f499c6de930",
   "metadata": {},
   "outputs": [],
   "source": [
    "df.columns"
   ]
  },
  {
   "cell_type": "code",
   "execution_count": null,
   "id": "6dda8697-ed9f-489d-8776-94d66dcdb4f3",
   "metadata": {},
   "outputs": [],
   "source": [
    "# check for spaces at beginning or end of 'imdbid'\n",
    "starts_with_space = df['imdbid'].str.startswith(' ')\n",
    "ends_with_space = df['imdbid'].str.endswith(' ')\n",
    "\n",
    "# combine both conditions\n",
    "has_leading_or_trailing_space = starts_with_space | ends_with_space\n",
    "\n",
    "# print rows with leading or trailing spaces\n",
    "print(\"Rows with leading or trailing spaces in 'imdbid':\")\n",
    "print(df[has_leading_or_trailing_space])"
   ]
  },
  {
   "cell_type": "code",
   "execution_count": null,
   "id": "fa412299-b8ec-4fd3-bddd-fc990fbba55c",
   "metadata": {},
   "outputs": [],
   "source": [
    "# remove 'tt' in imdbid\n",
    "df['imdbid'] = df['imdbid'].str.replace('tt', '', regex=False)\n",
    "\n",
    "# replace non-numeric values with NaN\n",
    "df['imdbid'] = pd.to_numeric(df['imdbid'], errors='coerce')\n",
    "\n",
    "# convert to integer\n",
    "df['imdbid'] = df['imdbid'].astype('int64')"
   ]
  },
  {
   "cell_type": "code",
   "execution_count": null,
   "id": "93ab0765-f53d-4bea-b360-fe2caefbbe2f",
   "metadata": {},
   "outputs": [],
   "source": [
    "# count number of NaN in imdbid\n",
    "print(df.imdbid.isna().sum())"
   ]
  },
  {
   "cell_type": "code",
   "execution_count": null,
   "id": "6b0ef324-5f00-40ff-8ebf-780b741e1b43",
   "metadata": {},
   "outputs": [],
   "source": [
    "# count number of duplicates in imdbid\n",
    "print(df['imdbid'].duplicated().sum())"
   ]
  },
  {
   "cell_type": "code",
   "execution_count": null,
   "id": "af62e48b-ff79-45f6-9a7e-47c75f0c3bb7",
   "metadata": {},
   "outputs": [],
   "source": [
    "# drop duplicates in imdbid, keep only the first occurrence\n",
    "df = df.drop_duplicates(subset=['imdbid'], keep='first')"
   ]
  },
  {
   "cell_type": "code",
   "execution_count": null,
   "id": "96adef6f-a00f-465b-b680-f4ccf6f56e58",
   "metadata": {},
   "outputs": [],
   "source": [
    "df.shape"
   ]
  },
  {
   "cell_type": "code",
   "execution_count": null,
   "id": "923243c3-2b5b-4f1a-a8a6-89327c651b2b",
   "metadata": {},
   "outputs": [],
   "source": [
    "df.info()"
   ]
  },
  {
   "cell_type": "code",
   "execution_count": null,
   "id": "8b534560-931b-4ec7-a8cd-bf5c84ffddd4",
   "metadata": {},
   "outputs": [],
   "source": [
    "# second df: Ultimate_Film_Statistics_Dataset\n",
    "\n",
    "df_uf = pd.read_csv('data/Ultimate_Film_Statistics_Dataset.csv')\n",
    "\n",
    "# drop unnecessary columns\n",
    "\n",
    "# list of columns to drop\n",
    "columns_to_drop = ['production_date', 'genres', 'director_name', 'director_professions', 'director_birthYear', 'director_deathYear', 'movie_averageRating', 'movie_numerOfVotes', 'approval_Index']\n",
    "\n",
    "# drop columns\n",
    "df_uf = df_uf.drop(columns=columns_to_drop)\n",
    "\n",
    "# rename columns\n",
    "df_uf = df_uf.rename(columns={'movie_title': 'title', 'Production budget $': 'production_budget', 'Domestic gross $': 'domestic_gross', 'Worldwide gross $': 'worldwide_gross'})"
   ]
  },
  {
   "cell_type": "code",
   "execution_count": null,
   "id": "ce750b58-605d-466f-94dd-c35f96ea86b7",
   "metadata": {},
   "outputs": [],
   "source": [
    "df_uf.head()"
   ]
  },
  {
   "cell_type": "code",
   "execution_count": null,
   "id": "047cf645-43b4-4f19-b3df-0174e21c3941",
   "metadata": {},
   "outputs": [],
   "source": [
    "df_uf.columns"
   ]
  },
  {
   "cell_type": "code",
   "execution_count": null,
   "id": "1aa5edcd-a307-4685-b43b-bfdbcce3613e",
   "metadata": {},
   "outputs": [],
   "source": [
    "# count number of duplicate titles\n",
    "print(df_uf['title'].duplicated().sum())"
   ]
  },
  {
   "cell_type": "code",
   "execution_count": null,
   "id": "d079329f-79c7-46de-afff-7e0c91602ba5",
   "metadata": {},
   "outputs": [],
   "source": [
    "df_uf.shape"
   ]
  },
  {
   "cell_type": "code",
   "execution_count": null,
   "id": "b3cdd85d-90c1-469d-b9cb-e434acb5181b",
   "metadata": {},
   "outputs": [],
   "source": [
    "# merge df with df2 on 'imdbid'\n",
    "merged_df = pd.merge(df, df_uf, on='title', how='left')"
   ]
  },
  {
   "cell_type": "code",
   "execution_count": null,
   "id": "7b0b8bd5-4d88-439c-9dd6-4d0c3876e40e",
   "metadata": {},
   "outputs": [],
   "source": [
    "df = merged_df"
   ]
  },
  {
   "cell_type": "code",
   "execution_count": null,
   "id": "8752133d-0228-419a-a8e0-b4f60a328bc6",
   "metadata": {},
   "outputs": [],
   "source": [
    "df.shape"
   ]
  },
  {
   "cell_type": "code",
   "execution_count": null,
   "id": "93386441-9290-4ecf-9fc6-204840238afd",
   "metadata": {},
   "outputs": [],
   "source": [
    "df.duplicated(subset=['imdbid']).sum()"
   ]
  },
  {
   "cell_type": "code",
   "execution_count": null,
   "id": "3fa76038-ef54-47f5-8905-1c00ed278779",
   "metadata": {},
   "outputs": [],
   "source": [
    "df.columns"
   ]
  },
  {
   "cell_type": "code",
   "execution_count": null,
   "id": "6291ecb1-5a85-4d3c-9459-68ac89ed5a55",
   "metadata": {},
   "outputs": [],
   "source": [
    "# update missing or wrong values\n",
    "df.loc[df['imdbid'] == '13400336', 'year'] = 2023\n",
    "df.loc[df['imdbid'] == '13400336', 'runtime_minutes'] = 133\n",
    "df.loc[df['imdbid'] == '2531030', 'year'] = 1985\n",
    "df.loc[df['imdbid'] == '2531030', 'director'] = 'Barry Levinson'\n",
    "df.loc[df['imdbid'] == '4338664', 'year'] = 2001\n",
    "df.loc[df['imdbid'] == '4338664', 'director'] = 'Barry Levinson'"
   ]
  },
  {
   "cell_type": "code",
   "execution_count": null,
   "id": "61440a34-e939-4d31-8d12-f13c7d173653",
   "metadata": {},
   "outputs": [],
   "source": [
    "df[df['director'].isna()]"
   ]
  },
  {
   "cell_type": "code",
   "execution_count": null,
   "id": "27673911-a9c3-451c-bcb5-c933245ee73e",
   "metadata": {},
   "outputs": [],
   "source": [
    "df.head()"
   ]
  },
  {
   "cell_type": "code",
   "execution_count": null,
   "id": "91543bed-b5f5-47af-9de1-5411b933e7c6",
   "metadata": {},
   "outputs": [],
   "source": [
    "df.shape"
   ]
  },
  {
   "cell_type": "code",
   "execution_count": null,
   "id": "da795ce1-d1b7-48c9-9364-d4dec3ef906e",
   "metadata": {},
   "outputs": [],
   "source": [
    "df.info()"
   ]
  },
  {
   "cell_type": "code",
   "execution_count": null,
   "id": "35f1bba2-f7c7-4a3f-896d-99f3105897a0",
   "metadata": {},
   "outputs": [],
   "source": [
    "df.imdbid.isna().sum()"
   ]
  },
  {
   "cell_type": "code",
   "execution_count": null,
   "id": "5165717c-3814-4802-b35f-6035ac4a7a41",
   "metadata": {},
   "outputs": [],
   "source": [
    "# convert imdbid to integer\n",
    "df['imdbid'] = df['imdbid'].astype('int64')"
   ]
  },
  {
   "cell_type": "code",
   "execution_count": null,
   "id": "1e21b977-f5f9-4b68-a07f-0cd8bcaf3032",
   "metadata": {},
   "outputs": [],
   "source": [
    "df.columns"
   ]
  },
  {
   "cell_type": "code",
   "execution_count": null,
   "id": "5da5aaa0-42f0-4f71-bd66-ce41ebc8ef56",
   "metadata": {},
   "outputs": [],
   "source": [
    "# drop rows where either 'runtime_minutes' or 'imdbid' is NaN\n",
    "df = df.dropna(subset=['runtime_minutes', 'imdbid'])\n",
    "\n",
    "# count the remaining rows\n",
    "count = len(df)\n",
    "\n",
    "print(f\"Number of rows with values in both 'runtime_minutes' and 'imdbid': {count}\")"
   ]
  },
  {
   "cell_type": "code",
   "execution_count": null,
   "id": "2d7f715f-8be2-49b0-9f45-c62964362d68",
   "metadata": {},
   "outputs": [],
   "source": [
    "# output df to csv\n",
    "output_file = 'data/movie_metadata_set_01.csv'\n",
    "df.to_csv(output_file, index=False)"
   ]
  }
 ],
 "metadata": {
  "kernelspec": {
   "display_name": "Python 3 (ipykernel)",
   "language": "python",
   "name": "python3"
  },
  "language_info": {
   "codemirror_mode": {
    "name": "ipython",
    "version": 3
   },
   "file_extension": ".py",
   "mimetype": "text/x-python",
   "name": "python",
   "nbconvert_exporter": "python",
   "pygments_lexer": "ipython3",
   "version": "3.11.3"
  }
 },
 "nbformat": 4,
 "nbformat_minor": 5
}
