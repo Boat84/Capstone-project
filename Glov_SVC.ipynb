{
 "cells": [
  {
   "cell_type": "code",
   "execution_count": 69,
   "metadata": {},
   "outputs": [
    {
     "data": {
      "text/plain": [
       "0       /Users/xiaozhouye/Desktop/neuefische/Capstone-...\n",
       "1       /Users/xiaozhouye/Desktop/neuefische/Capstone-...\n",
       "2       /Users/xiaozhouye/Desktop/neuefische/Capstone-...\n",
       "3       /Users/xiaozhouye/Desktop/neuefische/Capstone-...\n",
       "4       /Users/xiaozhouye/Desktop/neuefische/Capstone-...\n",
       "                              ...                        \n",
       "1022    /Users/xiaozhouye/Desktop/neuefische/Capstone-...\n",
       "1023    /Users/xiaozhouye/Desktop/neuefische/Capstone-...\n",
       "1024    /Users/xiaozhouye/Desktop/neuefische/Capstone-...\n",
       "1025    /Users/xiaozhouye/Desktop/neuefische/Capstone-...\n",
       "1026    /Users/xiaozhouye/Desktop/neuefische/Capstone-...\n",
       "Name: dir, Length: 1027, dtype: object"
      ]
     },
     "execution_count": 69,
     "metadata": {},
     "output_type": "execute_result"
    }
   ],
   "source": [
    "import numpy as np\n",
    "import pandas as pd\n",
    "df_sum = pd.read_csv('/Users/xiaozhouye/Desktop/neuefische/Capstone-project_copy/data/summ_scripts.csv')\n",
    "df_meta = pd.read_csv('/Users/xiaozhouye/Desktop/neuefische/Capstone-project_copy/data/movie_metadata_master.csv')\n",
    "df_sum.rename(columns={'Id':'imdbid'},inplace=True)\n",
    "df_sum['imdbid'] = df_sum['imdbid'].astype(int)\n",
    "df_merged_1 = pd.merge(df_sum,df_meta,how='inner',on='imdbid')\n",
    "df_merged_1 = df_merged_1[['imdbid','dir','ROI','financial_success']]\n",
    "df_merged_1['dir']"
   ]
  },
  {
   "cell_type": "code",
   "execution_count": 70,
   "metadata": {},
   "outputs": [
    {
     "name": "stderr",
     "output_type": "stream",
     "text": [
      "[nltk_data] Downloading package punkt to\n",
      "[nltk_data]     /Users/xiaozhouye/nltk_data...\n",
      "[nltk_data]   Package punkt is already up-to-date!\n",
      "[nltk_data] Downloading package stopwords to\n",
      "[nltk_data]     /Users/xiaozhouye/nltk_data...\n",
      "[nltk_data]   Package stopwords is already up-to-date!\n",
      "[nltk_data] Downloading package wordnet to\n",
      "[nltk_data]     /Users/xiaozhouye/nltk_data...\n",
      "[nltk_data]   Package wordnet is already up-to-date!\n"
     ]
    },
    {
     "name": "stdout",
     "output_type": "stream",
     "text": [
      "    imdbid                                                dir       ROI  \\\n",
      "0  2209418  /Users/xiaozhouye/Desktop/neuefische/Capstone-...  7.747063   \n",
      "1   401729  /Users/xiaozhouye/Desktop/neuefische/Capstone-...  1.072348   \n",
      "2    69768  /Users/xiaozhouye/Desktop/neuefische/Capstone-...  4.888889   \n",
      "3   822847  /Users/xiaozhouye/Desktop/neuefische/Capstone-...  1.402567   \n",
      "4   130018  /Users/xiaozhouye/Desktop/neuefische/Capstone-...  1.667526   \n",
      "\n",
      "   financial_success                                               text  \n",
      "0                  1  midnight screenplay richard linklater ethan ha...  \n",
      "1                  0  screenplay ehren kruger previous draft mark pr...  \n",
      "2                  1  working title first draft story outline july a...  \n",
      "3                  0  written cory goodman pas vale breast steep bea...  \n",
      "4                  0  written trey callaway bless father sinned beat...  \n"
     ]
    }
   ],
   "source": [
    "import re\n",
    "import nltk\n",
    "from nltk.corpus import stopwords\n",
    "from nltk.tokenize import word_tokenize\n",
    "from nltk.stem import WordNetLemmatizer\n",
    "import pandas as pd\n",
    "\n",
    "# Download required NLTK data files\n",
    "nltk.download('punkt')\n",
    "nltk.download('stopwords')\n",
    "nltk.download('wordnet')\n",
    "\n",
    "# Initialize a list to store the processed text\n",
    "processed_texts = []\n",
    "\n",
    "for file in df_merged_1['dir']:  # Assuming df_merged_1 is a DataFrame with a column 'dir' containing file paths\n",
    "    with open(file, 'r', encoding='utf-8') as f:\n",
    "        data = f.read()\n",
    "        # Remove HTML tags\n",
    "        data = re.sub(r'<.*?>', '', data)\n",
    "        # Remove all non-alphabetic characters\n",
    "        data = re.sub(r'[^a-zA-Z\\s]', '', data)\n",
    "        # Convert to lowercase\n",
    "        data = data.lower()\n",
    "        # Tokenization\n",
    "        words = word_tokenize(data)\n",
    "        # Remove stop words\n",
    "        stop_words = set(stopwords.words('english'))\n",
    "        words = [word for word in words if word not in stop_words]\n",
    "        # Lemmatization\n",
    "        lemmatizer = WordNetLemmatizer()\n",
    "        words = [lemmatizer.lemmatize(word) for word in words]\n",
    "        # Join words back into a single string\n",
    "        processed_text = ' '.join(words)\n",
    "        processed_texts.append(processed_text)\n",
    "\n",
    "# Add the processed text as a new column in the DataFrame\n",
    "df_merged_1['text'] = processed_texts\n",
    "\n",
    "print(df_merged_1.head())\n",
    "\n"
   ]
  },
  {
   "cell_type": "code",
   "execution_count": 71,
   "metadata": {},
   "outputs": [
    {
     "name": "stderr",
     "output_type": "stream",
     "text": [
      "[nltk_data] Downloading package punkt to\n",
      "[nltk_data]     /Users/xiaozhouye/nltk_data...\n",
      "[nltk_data]   Package punkt is already up-to-date!\n",
      "[nltk_data] Downloading package stopwords to\n",
      "[nltk_data]     /Users/xiaozhouye/nltk_data...\n",
      "[nltk_data]   Package stopwords is already up-to-date!\n",
      "[nltk_data] Downloading package wordnet to\n",
      "[nltk_data]     /Users/xiaozhouye/nltk_data...\n",
      "[nltk_data]   Package wordnet is already up-to-date!\n"
     ]
    }
   ],
   "source": [
    "import numpy as np\n",
    "import pandas as pd\n",
    "import os\n",
    "import re\n",
    "import nltk\n",
    "from nltk.corpus import stopwords\n",
    "from nltk.tokenize import word_tokenize\n",
    "from nltk.stem import WordNetLemmatizer\n",
    "from sklearn.model_selection import train_test_split\n",
    "from sklearn.svm import SVC\n",
    "from sklearn.metrics import classification_report, accuracy_score,confusion_matrix\n",
    "\n",
    "# Download required NLTK data files\n",
    "nltk.download('punkt')\n",
    "nltk.download('stopwords')\n",
    "nltk.download('wordnet')\n",
    "\n",
    "# Function to load pre-trained GloVe embeddings\n",
    "def load_glove_embeddings(glove_file):\n",
    "    embeddings_index = {}\n",
    "    with open(glove_file, encoding='utf-8') as f:\n",
    "        for line in f:\n",
    "            values = line.split()\n",
    "            word = values[0]\n",
    "            coefs = np.asarray(values[1:], dtype='float32')\n",
    "            embeddings_index[word] = coefs\n",
    "    return embeddings_index\n",
    "\n",
    "# Function to preprocess text\n",
    "def preprocess_text(text):\n",
    "    # Remove HTML tags\n",
    "    text = re.sub(r'<.*?>', '', text)\n",
    "    # Remove all non-alphabetic characters\n",
    "    text = re.sub(r'[^a-zA-Z\\s]', '', text)\n",
    "    # Convert to lowercase\n",
    "    text = text.lower()\n",
    "    # Tokenization\n",
    "    words = word_tokenize(text)\n",
    "    # Remove stop words\n",
    "    stop_words = set(stopwords.words('english'))\n",
    "    words = [word for word in words if word not in stop_words]\n",
    "    # Lemmatization\n",
    "    lemmatizer = WordNetLemmatizer()\n",
    "    words = [lemmatizer.lemmatize(word) for word in words]\n",
    "    return ' '.join(words)\n",
    "\n",
    "# Function to convert text to GloVe vectors\n",
    "def texts_to_glove_vectors(texts, embeddings_index):\n",
    "    text_vectors = []\n",
    "    for text in texts:\n",
    "        words = text.split()\n",
    "        vectors = []\n",
    "        for word in words:\n",
    "            vector = embeddings_index.get(word)\n",
    "            if vector is not None:\n",
    "                vectors.append(vector)\n",
    "        if vectors:\n",
    "            text_vector = np.mean(vectors, axis=0)  # Average word vectors\n",
    "        else:\n",
    "            text_vector = np.zeros(embeddings_index[next(iter(embeddings_index))].shape)  # Handle unseen words\n",
    "        text_vectors.append(text_vector)\n",
    "    return np.array(text_vectors)\n",
    "\n",
    "# Example: Load GloVe embeddings\n",
    "glove_file = '/Users/xiaozhouye/Desktop/neuefische/Capstone-project_copy/ohters/glove.42B.300d.txt'  # Update this path to your GloVe file\n",
    "glove_embeddings = load_glove_embeddings(glove_file)\n",
    "\n",
    "# Preprocess text data\n",
    "df_merged_1['processed_text'] = df_merged_1['text'].apply(preprocess_text)\n",
    "\n",
    "# Split data into training and testing sets\n",
    "X = df_merged_1['processed_text']\n",
    "y = df_merged_1['financial_success']\n",
    "X_train, X_test, y_train, y_test = train_test_split(X, y, test_size=0.2, random_state=42)\n",
    "\n",
    "# Vectorize text data using GloVe embeddings\n",
    "X_train_vec = texts_to_glove_vectors(X_train, glove_embeddings)\n",
    "X_test_vec = texts_to_glove_vectors(X_test, glove_embeddings)\n"
   ]
  },
  {
   "cell_type": "code",
   "execution_count": 72,
   "metadata": {},
   "outputs": [
    {
     "data": {
      "text/plain": [
       "(206, 300)"
      ]
     },
     "execution_count": 72,
     "metadata": {},
     "output_type": "execute_result"
    }
   ],
   "source": [
    "X_test_vec.shape"
   ]
  },
  {
   "cell_type": "code",
   "execution_count": 73,
   "metadata": {},
   "outputs": [],
   "source": [
    "import matplotlib.pyplot as plt\n",
    "import seaborn as sns\n",
    "def plot_confusion_matrix(y_true, y_pred, title):\n",
    "    mat = confusion_matrix(y_true, y_pred)\n",
    "    sns.heatmap(mat.T, square=True, annot=True, fmt='d', cbar=False)\n",
    "    plt.xlabel('true label')\n",
    "    plt.ylabel('predicted label')\n",
    "    plt.title(title)\n",
    "    plt.show()\n"
   ]
  },
  {
   "cell_type": "markdown",
   "metadata": {},
   "source": [
    "##  SVC + glov "
   ]
  },
  {
   "cell_type": "code",
   "execution_count": 74,
   "metadata": {},
   "outputs": [
    {
     "name": "stdout",
     "output_type": "stream",
     "text": [
      "Accuracy: 0.6893203883495146\n",
      "Classification Report:\n",
      "              precision    recall  f1-score   support\n",
      "\n",
      "           0       0.00      0.00      0.00        64\n",
      "           1       0.69      1.00      0.82       142\n",
      "\n",
      "    accuracy                           0.69       206\n",
      "   macro avg       0.34      0.50      0.41       206\n",
      "weighted avg       0.48      0.69      0.56       206\n",
      "\n"
     ]
    },
    {
     "name": "stderr",
     "output_type": "stream",
     "text": [
      "/Users/xiaozhouye/Desktop/neuefische/Capstone-project_copy/.venv/lib/python3.11/site-packages/sklearn/metrics/_classification.py:1344: UndefinedMetricWarning: Precision and F-score are ill-defined and being set to 0.0 in labels with no predicted samples. Use `zero_division` parameter to control this behavior.\n",
      "  _warn_prf(average, modifier, msg_start, len(result))\n",
      "/Users/xiaozhouye/Desktop/neuefische/Capstone-project_copy/.venv/lib/python3.11/site-packages/sklearn/metrics/_classification.py:1344: UndefinedMetricWarning: Precision and F-score are ill-defined and being set to 0.0 in labels with no predicted samples. Use `zero_division` parameter to control this behavior.\n",
      "  _warn_prf(average, modifier, msg_start, len(result))\n",
      "/Users/xiaozhouye/Desktop/neuefische/Capstone-project_copy/.venv/lib/python3.11/site-packages/sklearn/metrics/_classification.py:1344: UndefinedMetricWarning: Precision and F-score are ill-defined and being set to 0.0 in labels with no predicted samples. Use `zero_division` parameter to control this behavior.\n",
      "  _warn_prf(average, modifier, msg_start, len(result))\n"
     ]
    },
    {
     "data": {
      "image/png": "[encoded data removed]",
      "text/plain": [
       "<Figure size 640x480 with 1 Axes>"
      ]
     },
     "metadata": {},
     "output_type": "display_data"
    }
   ],
   "source": [
    "# Initialize and train an SVC model\n",
    "svc = SVC(kernel='linear')  # Use 'linear' kernel for simplicity\n",
    "svc.fit(X_train_vec, y_train)\n",
    "\n",
    "# Predict sentiment on the test set\n",
    "y_pred = svc.predict(X_test_vec)\n",
    "\n",
    "# Evaluate model performance\n",
    "accuracy = accuracy_score(y_test, y_pred)\n",
    "report = classification_report(y_test, y_pred)\n",
    "\n",
    "print(f\"Accuracy: {accuracy}\")\n",
    "print(f\"Classification Report:\\n{report}\")\n",
    "plot_confusion_matrix(y_test, y_pred, 'SVC+Glov')"
   ]
  },
  {
   "cell_type": "markdown",
   "metadata": {},
   "source": [
    "### Random forest"
   ]
  },
  {
   "cell_type": "code",
   "execution_count": 75,
   "metadata": {},
   "outputs": [
    {
     "name": "stdout",
     "output_type": "stream",
     "text": [
      "Random Forest Accuracy: 0.6844660194174758\n",
      "Random Forest Classification Report:\n",
      "              precision    recall  f1-score   support\n",
      "\n",
      "           0       0.47      0.11      0.18        64\n",
      "           1       0.70      0.94      0.80       142\n",
      "\n",
      "    accuracy                           0.68       206\n",
      "   macro avg       0.58      0.53      0.49       206\n",
      "weighted avg       0.63      0.68      0.61       206\n",
      "\n"
     ]
    },
    {
     "data": {
      "image/png": "[encoded data removed]",
      "text/plain": [
       "<Figure size 640x480 with 1 Axes>"
      ]
     },
     "metadata": {},
     "output_type": "display_data"
    }
   ],
   "source": [
    "from sklearn.ensemble import RandomForestClassifier\n",
    "\n",
    "# Initialize and train the Random Forest model\n",
    "rf = RandomForestClassifier(n_estimators=100, random_state=42)\n",
    "rf.fit(X_train_vec, y_train)\n",
    "\n",
    "# Predict sentiment on the test set\n",
    "y_pred = rf.predict(X_test_vec)\n",
    "\n",
    "# Evaluate model performance\n",
    "accuracy = accuracy_score(y_test, y_pred)\n",
    "report = classification_report(y_test, y_pred)\n",
    "\n",
    "print(f\"Random Forest Accuracy: {accuracy}\")\n",
    "print(f\"Random Forest Classification Report:\\n{report}\")\n",
    "plot_confusion_matrix(y_test, y_pred, 'SVC+Glov')"
   ]
  },
  {
   "cell_type": "markdown",
   "metadata": {},
   "source": [
    "### Glov + LogisticRegression"
   ]
  },
  {
   "cell_type": "code",
   "execution_count": 76,
   "metadata": {},
   "outputs": [
    {
     "name": "stdout",
     "output_type": "stream",
     "text": [
      "Logistic Regression\n",
      "Accuracy: 0.6844660194174758\n",
      "Classification Report:\n",
      "              precision    recall  f1-score   support\n",
      "\n",
      "           0       0.00      0.00      0.00        64\n",
      "           1       0.69      0.99      0.81       142\n",
      "\n",
      "    accuracy                           0.68       206\n",
      "   macro avg       0.34      0.50      0.41       206\n",
      "weighted avg       0.47      0.68      0.56       206\n",
      "\n"
     ]
    },
    {
     "data": {
      "image/png": "[encoded data removed]",
      "text/plain": [
       "<Figure size 640x480 with 1 Axes>"
      ]
     },
     "metadata": {},
     "output_type": "display_data"
    }
   ],
   "source": [
    "from sklearn.linear_model import LogisticRegression\n",
    "logreg = LogisticRegression(max_iter=1000)\n",
    "logreg.fit(X_train_vec, y_train)\n",
    "y_pred = logreg.predict(X_test_vec)\n",
    "print(\"Logistic Regression\")\n",
    "print(f\"Accuracy: {accuracy_score(y_test, y_pred)}\")\n",
    "print(f\"Classification Report:\\n{classification_report(y_test, y_pred)}\")\n",
    "plot_confusion_matrix(y_test, y_pred, \"Logistic Regression Confusion Matrix\")"
   ]
  },
  {
   "cell_type": "markdown",
   "metadata": {},
   "source": [
    "### GLov + GradienBoosting"
   ]
  },
  {
   "cell_type": "code",
   "execution_count": 77,
   "metadata": {},
   "outputs": [
    {
     "name": "stdout",
     "output_type": "stream",
     "text": [
      "Gradient Boosting\n",
      "Accuracy: 0.6844660194174758\n",
      "Classification Report:\n",
      "              precision    recall  f1-score   support\n",
      "\n",
      "           0       0.48      0.19      0.27        64\n",
      "           1       0.71      0.91      0.80       142\n",
      "\n",
      "    accuracy                           0.68       206\n",
      "   macro avg       0.60      0.55      0.53       206\n",
      "weighted avg       0.64      0.68      0.63       206\n",
      "\n"
     ]
    },
    {
     "data": {
      "image/png": "[encoded data removed]",
      "text/plain": [
       "<Figure size 640x480 with 1 Axes>"
      ]
     },
     "metadata": {},
     "output_type": "display_data"
    }
   ],
   "source": [
    "from sklearn.ensemble import  GradientBoostingClassifier\n",
    "gb = GradientBoostingClassifier(n_estimators=100, random_state=42)\n",
    "gb.fit(X_train_vec, y_train)\n",
    "y_pred = gb.predict(X_test_vec)\n",
    "print(\"Gradient Boosting\")\n",
    "print(f\"Accuracy: {accuracy_score(y_test, y_pred)}\")\n",
    "print(f\"Classification Report:\\n{classification_report(y_test, y_pred)}\")\n",
    "plot_confusion_matrix(y_test, y_pred, \"Gradient Boosting Confusion Matrix\")"
   ]
  },
  {
   "cell_type": "markdown",
   "metadata": {},
   "source": []
  },
  {
   "cell_type": "code",
   "execution_count": 78,
   "metadata": {},
   "outputs": [
    {
     "name": "stdout",
     "output_type": "stream",
     "text": [
      "Weight for class 0: 1.39\n",
      "Weight for class 1: 0.78\n",
      "Epoch 1/20\n",
      "103/103 [==============================] - 0s 2ms/step - loss: 0.6974 - accuracy: 0.4957 - val_loss: 0.6783 - val_accuracy: 0.6990\n",
      "Epoch 2/20\n",
      "103/103 [==============================] - 0s 919us/step - loss: 0.6964 - accuracy: 0.5043 - val_loss: 0.7260 - val_accuracy: 0.3107\n",
      "Epoch 3/20\n",
      "103/103 [==============================] - 0s 840us/step - loss: 0.6946 - accuracy: 0.5128 - val_loss: 0.6590 - val_accuracy: 0.6845\n",
      "Epoch 4/20\n",
      "103/103 [==============================] - 0s 808us/step - loss: 0.6921 - accuracy: 0.5262 - val_loss: 0.7156 - val_accuracy: 0.3544\n",
      "Epoch 5/20\n",
      "103/103 [==============================] - 0s 808us/step - loss: 0.6941 - accuracy: 0.5018 - val_loss: 0.6959 - val_accuracy: 0.4757\n",
      "Epoch 6/20\n",
      "103/103 [==============================] - 0s 804us/step - loss: 0.6872 - accuracy: 0.5371 - val_loss: 0.6649 - val_accuracy: 0.6650\n",
      "Epoch 7/20\n",
      "103/103 [==============================] - 0s 912us/step - loss: 0.6912 - accuracy: 0.5201 - val_loss: 0.6905 - val_accuracy: 0.5485\n",
      "Epoch 8/20\n",
      "103/103 [==============================] - 0s 1ms/step - loss: 0.6858 - accuracy: 0.5323 - val_loss: 0.6936 - val_accuracy: 0.5097\n",
      "Epoch 9/20\n",
      "103/103 [==============================] - 0s 845us/step - loss: 0.6839 - accuracy: 0.5603 - val_loss: 0.6784 - val_accuracy: 0.6262\n",
      "Epoch 10/20\n",
      "103/103 [==============================] - 0s 825us/step - loss: 0.6900 - accuracy: 0.5371 - val_loss: 0.6769 - val_accuracy: 0.6165\n",
      "Epoch 11/20\n",
      "103/103 [==============================] - 0s 810us/step - loss: 0.6826 - accuracy: 0.5871 - val_loss: 0.6784 - val_accuracy: 0.6165\n",
      "Epoch 12/20\n",
      "103/103 [==============================] - 0s 808us/step - loss: 0.6880 - accuracy: 0.5238 - val_loss: 0.6706 - val_accuracy: 0.6311\n",
      "Epoch 13/20\n",
      "103/103 [==============================] - 0s 780us/step - loss: 0.6830 - accuracy: 0.5676 - val_loss: 0.6419 - val_accuracy: 0.6845\n",
      "Epoch 14/20\n",
      "103/103 [==============================] - 0s 810us/step - loss: 0.6844 - accuracy: 0.5652 - val_loss: 0.6496 - val_accuracy: 0.6796\n",
      "Epoch 15/20\n",
      "103/103 [==============================] - 0s 792us/step - loss: 0.6838 - accuracy: 0.5591 - val_loss: 0.6622 - val_accuracy: 0.6408\n",
      "Epoch 16/20\n",
      "103/103 [==============================] - 0s 772us/step - loss: 0.6799 - accuracy: 0.5566 - val_loss: 0.6607 - val_accuracy: 0.6311\n",
      "Epoch 17/20\n",
      "103/103 [==============================] - 0s 1ms/step - loss: 0.6819 - accuracy: 0.5396 - val_loss: 0.6366 - val_accuracy: 0.6893\n",
      "Epoch 18/20\n",
      "103/103 [==============================] - 0s 801us/step - loss: 0.6821 - accuracy: 0.5822 - val_loss: 0.6653 - val_accuracy: 0.6505\n",
      "Epoch 19/20\n",
      "103/103 [==============================] - 0s 797us/step - loss: 0.6788 - accuracy: 0.5615 - val_loss: 0.6311 - val_accuracy: 0.6990\n",
      "Epoch 20/20\n",
      "103/103 [==============================] - 0s 800us/step - loss: 0.6884 - accuracy: 0.5688 - val_loss: 0.6511 - val_accuracy: 0.6845\n",
      "7/7 [==============================] - 0s 627us/step - loss: 0.6511 - accuracy: 0.6845\n",
      "Neural Network\n",
      "Accuracy: 0.6844660043716431\n",
      "7/7 [==============================] - 0s 481us/step\n",
      "Classification Report:\n",
      "              precision    recall  f1-score   support\n",
      "\n",
      "           0       0.49      0.31      0.38        64\n",
      "           1       0.73      0.85      0.79       142\n",
      "\n",
      "    accuracy                           0.68       206\n",
      "   macro avg       0.61      0.58      0.58       206\n",
      "weighted avg       0.66      0.68      0.66       206\n",
      "\n"
     ]
    },
    {
     "data": {
      "image/png": "[encoded data removed]",
      "text/plain": [
       "<Figure size 640x480 with 1 Axes>"
      ]
     },
     "metadata": {},
     "output_type": "display_data"
    }
   ],
   "source": [
    "from tensorflow.keras.models import Sequential\n",
    "from tensorflow.keras.layers import Dense, Dropout\n",
    "total = len(y_train)\n",
    "pos = sum(y_train)\n",
    "neg = total - pos\n",
    "\n",
    "weight_for_0 = (1 / neg) * (total / 2.0)\n",
    "weight_for_1 = (1 / pos) * (total / 2.0)\n",
    "\n",
    "class_weight = {0: weight_for_0, 1: weight_for_1}\n",
    "\n",
    "print('Weight for class 0: {:.2f}'.format(weight_for_0))\n",
    "print('Weight for class 1: {:.2f}'.format(weight_for_1))\n",
    "model = Sequential()\n",
    "model.add(Dense(128, activation='relu', input_shape=(X_train_vec.shape[1],)))\n",
    "model.add(Dropout(0.3))\n",
    "model.add(Dense(16, activation='relu'))\n",
    "model.add(Dense(1, activation='sigmoid'))\n",
    "model.compile(optimizer='adam', loss='binary_crossentropy', metrics=['accuracy'])\n",
    "history = model.fit(X_train_vec, y_train, epochs=20, batch_size=8, validation_data=(X_test_vec, y_test), verbose=1,class_weight=class_weight)\n",
    "loss, accuracy = model.evaluate(X_test_vec, y_test)\n",
    "print(\"Neural Network\")\n",
    "print(f\"Accuracy: {accuracy}\")\n",
    "y_pred = (model.predict(X_test_vec) > 0.5).astype(\"int32\")\n",
    "print(f\"Classification Report:\\n{classification_report(y_test, y_pred)}\")\n",
    "plot_confusion_matrix(y_test, y_pred, \"Neural Network Confusion Matrix\")"
   ]
  }
 ],
 "metadata": {
  "kernelspec": {
   "display_name": ".venv",
   "language": "python",
   "name": "python3"
  },
  "language_info": {
   "codemirror_mode": {
    "name": "ipython",
    "version": 3
   },
   "file_extension": ".py",
   "mimetype": "text/x-python",
   "name": "python",
   "nbconvert_exporter": "python",
   "pygments_lexer": "ipython3",
   "version": "3.11.3"
  }
 },
 "nbformat": 4,
 "nbformat_minor": 2
}
