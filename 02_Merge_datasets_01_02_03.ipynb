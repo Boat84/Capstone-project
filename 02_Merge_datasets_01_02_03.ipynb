{
 "cells": [
  {
   "cell_type": "code",
   "execution_count": null,
   "id": "235fcae4",
   "metadata": {},
   "outputs": [],
   "source": [
    "'''\n",
    "Download\n",
    "[3] Movie Scripts Corpus Dataset\n",
    "from\n",
    "https://www.kaggle.com/datasets/gufukuro/movie-scripts-corpus\n",
    "'''"
   ]
  },
  {
   "cell_type": "code",
   "execution_count": null,
   "id": "099c6884-fd28-42af-a4e8-238d36ad1bdb",
   "metadata": {
    "tags": []
   },
   "outputs": [],
   "source": [
    "import pandas as pd\n",
    "\n",
    "df = pd.read_csv('data/movie_metadata/movie_meta_data.csv')"
   ]
  },
  {
   "cell_type": "code",
   "execution_count": null,
   "id": "65c2d69f-ee6c-4f87-b7b3-38002247c268",
   "metadata": {
    "tags": []
   },
   "outputs": [],
   "source": [
    "df.shape"
   ]
  },
  {
   "cell_type": "code",
   "execution_count": null,
   "id": "06d564e7-c7fa-48f9-bed8-ac1c5c888ae2",
   "metadata": {
    "tags": []
   },
   "outputs": [],
   "source": [
    "df.columns"
   ]
  },
  {
   "cell_type": "code",
   "execution_count": null,
   "id": "26e24911-08c6-4c69-b635-031fa347e80d",
   "metadata": {
    "tags": []
   },
   "outputs": [],
   "source": [
    "df.info()"
   ]
  },
  {
   "cell_type": "code",
   "execution_count": null,
   "id": "c15119f8-6e36-4c5f-8ee2-3ac2c8b537df",
   "metadata": {},
   "outputs": [],
   "source": [
    "df.duplicated(subset=['imdbid']).sum()"
   ]
  },
  {
   "cell_type": "code",
   "execution_count": null,
   "id": "0656a880-c6dc-43dd-8cc1-fb844adcc580",
   "metadata": {
    "tags": []
   },
   "outputs": [],
   "source": [
    "# rename columns to replace space with underscore\n",
    "df.columns = df.columns.str.replace(' ', '_')"
   ]
  },
  {
   "cell_type": "code",
   "execution_count": null,
   "id": "77bfb96b-d611-4b88-8a07-a638a7c57b19",
   "metadata": {
    "tags": []
   },
   "outputs": [],
   "source": [
    "# drop unnecessary columns\n",
    "\n",
    "# list of columns to drop\n",
    "columns_to_drop = ['akas', 'metascore', 'imdb_user_rating', 'number_of_imdb_user_votes', 'awards', 'producers', 'script_department', 'writers', 'casting_directors', 'plot', 'plot_outline', 'keywords',\n",
    "                   'taglines', 'synopsis', 'budget', 'year', 'opening_weekend', 'production_companies', 'directors', 'cast', 'countries', 'age_restrict', 'genres']\n",
    "\n",
    "# Drop the columns\n",
    "df = df.drop(columns=columns_to_drop)"
   ]
  },
  {
   "cell_type": "code",
   "execution_count": null,
   "id": "6d51da74-3242-4a26-b19e-50e6497f904a",
   "metadata": {
    "tags": []
   },
   "outputs": [],
   "source": [
    "df.head()"
   ]
  },
  {
   "cell_type": "code",
   "execution_count": null,
   "id": "aad5a0d6-e6b3-426e-9d0d-f9d346d0e6d4",
   "metadata": {
    "tags": []
   },
   "outputs": [],
   "source": [
    "df2 = pd.read_csv('data/movie_metadata_set_01.csv')\n",
    "df2.head()"
   ]
  },
  {
   "cell_type": "code",
   "execution_count": null,
   "id": "656fe454-82c5-432e-a2be-5b977b2b7b57",
   "metadata": {},
   "outputs": [],
   "source": [
    "df2.shape"
   ]
  },
  {
   "cell_type": "code",
   "execution_count": null,
   "id": "c81fa7f0-1cd2-46be-8dc5-a01599ded778",
   "metadata": {},
   "outputs": [],
   "source": [
    "df2.duplicated(subset=['imdbid']).sum()"
   ]
  },
  {
   "cell_type": "code",
   "execution_count": null,
   "id": "bb35fb57-94a0-4690-999c-92b25e9c6555",
   "metadata": {
    "tags": []
   },
   "outputs": [],
   "source": [
    "# merge df with df2 on 'imdbid'\n",
    "merged_df = pd.merge(df, df2, on='imdbid', how='left')"
   ]
  },
  {
   "cell_type": "code",
   "execution_count": null,
   "id": "d43c3108-9598-4a7e-a41a-27986feaf7f3",
   "metadata": {
    "tags": []
   },
   "outputs": [],
   "source": [
    "merged_df.head()"
   ]
  },
  {
   "cell_type": "code",
   "execution_count": null,
   "id": "48c2ba49-e3b4-41ba-8269-443cdb9f3b39",
   "metadata": {},
   "outputs": [],
   "source": [
    "merged_df.shape"
   ]
  },
  {
   "cell_type": "code",
   "execution_count": null,
   "id": "92e526ad-7fad-4143-88c7-754789f3d2dc",
   "metadata": {},
   "outputs": [],
   "source": [
    "merged_df.duplicated(subset=['imdbid']).sum()"
   ]
  },
  {
   "cell_type": "code",
   "execution_count": null,
   "id": "5f808f28-9757-4319-aa98-c4f0e0cbae6e",
   "metadata": {},
   "outputs": [],
   "source": [
    "# drop duplicate rows based on 'imdbid', keep only the first occurrence\n",
    "df = merged_df.drop_duplicates(subset=['imdbid'], keep='first')"
   ]
  },
  {
   "cell_type": "code",
   "execution_count": null,
   "id": "93f93208-0ed9-42f1-961d-22a9869d2395",
   "metadata": {},
   "outputs": [],
   "source": [
    "df.shape"
   ]
  },
  {
   "cell_type": "code",
   "execution_count": null,
   "id": "b048bd8f-e115-4ffd-a05b-a76290e8cab4",
   "metadata": {},
   "outputs": [],
   "source": [
    "df.production_budget.isna().sum()"
   ]
  },
  {
   "cell_type": "code",
   "execution_count": null,
   "id": "7bd9e90a-7ebe-4b3b-a7c1-3988c03e691e",
   "metadata": {},
   "outputs": [],
   "source": [
    "# drop rows that don't have budget, gross\n",
    "df = df.dropna(subset=['production_budget'])"
   ]
  },
  {
   "cell_type": "code",
   "execution_count": null,
   "id": "67531836-97c9-4787-8769-da44773ac94c",
   "metadata": {},
   "outputs": [],
   "source": [
    "df.shape"
   ]
  },
  {
   "cell_type": "code",
   "execution_count": null,
   "id": "0eebc27f-2337-4bac-b3c0-03baff0c4641",
   "metadata": {},
   "outputs": [],
   "source": [
    "# new feature: 'financial_success' = 'worldwide_gross' > 'production_budget'*2\n",
    "df['financial_success'] = (df['worldwide_gross'] > df['production_budget'] * 2).astype(int)"
   ]
  },
  {
   "cell_type": "code",
   "execution_count": null,
   "id": "bfe3fea1-c8d4-4fea-b059-419e4669983b",
   "metadata": {},
   "outputs": [],
   "source": [
    "# new feature 'ROI' (return on investment)\n",
    "df['ROI'] = (df['worldwide_gross'] - df['production_budget']) / df['production_budget']"
   ]
  },
  {
   "cell_type": "code",
   "execution_count": null,
   "id": "2b8a2186-3ba9-4c8d-b5a6-5dfd9f71e607",
   "metadata": {},
   "outputs": [],
   "source": [
    "# check for unique values in age_rating\n",
    "df.age_rating.unique()"
   ]
  },
  {
   "cell_type": "code",
   "execution_count": null,
   "id": "ffddbc94-76d0-4626-a789-21cd0b73a56a",
   "metadata": {},
   "outputs": [],
   "source": [
    "# check for missing age ratings\n",
    "age_ratings_missing = ['Unrated', 'Not Rated', 'Passed', 'Approved']\n",
    "df[df['age_rating'].isin(age_ratings_missing)]"
   ]
  },
  {
   "cell_type": "code",
   "execution_count": null,
   "id": "162dfabd-001a-4c21-9c53-e3d8c3da9374",
   "metadata": {},
   "outputs": [],
   "source": [
    "df[df.age_rating.isna()]"
   ]
  },
  {
   "cell_type": "code",
   "execution_count": null,
   "id": "22abef17-e31d-467e-8f4c-b0488cec1b86",
   "metadata": {},
   "outputs": [],
   "source": [
    "# update missing age ratings, wrong title and imdbid\n",
    "df.loc[df['title_y'] == 'A Beautiful Day in the Neighborhood', 'title_x'] = 'A Beautiful Day in the Neighborhood'\n",
    "df.loc[df['title_x'] == 'A Beautiful Day in the Neighborhood', 'imdbid'] = 3224458\n",
    "df.loc[df['imdbid'] == 77402, 'age_rating'] = 'X'\n",
    "df.loc[df['imdbid'] == 88993, 'age_rating'] = 'X'\n",
    "df.loc[df['imdbid'] == 45793, 'age_rating'] = '13+'\n",
    "df.loc[df['imdbid'] == 25316, 'age_rating'] = 'PG'\n",
    "df.loc[df['imdbid'] == 47437, 'age_rating'] = 'PG'\n",
    "df.loc[df['imdbid'] == 16220, 'age_rating'] = 'PG'\n",
    "df.loc[df['imdbid'] == 2321549, 'age_rating'] = 'PG-13'\n",
    "df.loc[df['imdbid'] == 53604, 'age_rating'] = 'PG-13'\n",
    "df.loc[df['imdbid'] == 38348, 'age_rating'] = 'PG'\n",
    "df.loc[df['imdbid'] == 34587, 'age_rating'] = 'PG-13'\n",
    "df.loc[df['imdbid'] == 61811, 'age_rating'] = 'PG-13'\n",
    "df.loc[df['imdbid'] == 56172, 'age_rating'] = 'PG-13'\n",
    "df.loc[df['imdbid'] == 54135, 'age_rating'] = 'PG-13'\n",
    "df.loc[df['imdbid'] == 47296, 'age_rating'] = 'PG-13'\n",
    "df.loc[df['imdbid'] == 63522, 'age_rating'] = 'M'\n",
    "df.loc[df['imdbid'] == 31381, 'age_rating'] = 'PG'\n",
    "df.loc[df['imdbid'] == 24216, 'age_rating'] = 'PG'\n",
    "df.loc[df['imdbid'] == 48281, 'age_rating'] = 'PG'\n",
    "df.loc[df['imdbid'] == 5074352, 'age_rating'] = 'PG-13'\n",
    "df.loc[df['imdbid'] == 49513, 'age_rating'] = 'PG-13'\n",
    "df.loc[df['imdbid'] == 55824, 'age_rating'] = 'X'\n",
    "df.loc[df['imdbid'] == 63350, 'age_rating'] = 'X'\n",
    "df.loc[df['imdbid'] == 57115, 'age_rating'] = 'PG'\n",
    "df.loc[df['imdbid'] == 32976, 'age_rating'] = 'PG-13'\n",
    "df.loc[df['imdbid'] == 41113, 'age_rating'] = 'PG-13'\n",
    "df.loc[df['imdbid'] == 164167, 'age_rating'] = 'G'\n",
    "df.loc[df['imdbid'] == 3224458, 'age_rating'] = 'PG'\n",
    "df.loc[df['imdbid'] == 3224458, 'year'] = 2019\n",
    "df.loc[df['imdbid'] == 37884, 'age_rating'] = 'PG-13'\n",
    "df.loc[df['imdbid'] == 1729217, 'age_rating'] = 'PG-13'\n",
    "df.loc[df['imdbid'] == 58648, 'age_rating'] = 'R'"
   ]
  },
  {
   "cell_type": "code",
   "execution_count": null,
   "id": "375c22e4-bcd0-4e2d-8d92-43846520e5f9",
   "metadata": {},
   "outputs": [],
   "source": [
    "# map numbers to the respective age ratings\n",
    "\n",
    "# age rating to numerical value\n",
    "age_rating_mapping = {\n",
    "    'G': 0,\n",
    "    'PG': 6,\n",
    "    'PG-13': 13,\n",
    "    'R': 17,\n",
    "    'NC-17': 18,\n",
    "    'M': 17,\n",
    "    'X': 17,\n",
    "    'TV-MA': 17,\n",
    "    '18+': 18,\n",
    "    'U': 0,\n",
    "    'UA': 13,\n",
    "    'GP': 6,\n",
    "    'A': 18,\n",
    "    '13+': 13\n",
    "}\n",
    "\n",
    "# create new column 'age_rating_number' based on mapping\n",
    "df['age_rating_number'] = df['age_rating'].map(age_rating_mapping)"
   ]
  },
  {
   "cell_type": "code",
   "execution_count": null,
   "id": "3d33091c-a51b-47f5-b688-871ec41fa55c",
   "metadata": {},
   "outputs": [],
   "source": [
    "df.isna().sum()"
   ]
  },
  {
   "cell_type": "code",
   "execution_count": null,
   "id": "bf3af74d-5733-40a1-a65f-c53b00f7e4f8",
   "metadata": {},
   "outputs": [],
   "source": [
    "# create dummies for genres\n",
    "\n",
    "# generate dummy variables with column prefix\n",
    "genre_dummies = df['genre'].str.get_dummies(sep=', ').rename(lambda x: 'genre_' + x.lower(), axis=1).astype(int)\n",
    "\n",
    "# concatenate genre dummies with original DataFrame\n",
    "df = pd.concat([df, genre_dummies], axis=1)"
   ]
  },
  {
   "cell_type": "code",
   "execution_count": null,
   "id": "72fd616f-0490-4f86-bdba-044a446b34f9",
   "metadata": {},
   "outputs": [],
   "source": [
    "df.columns"
   ]
  },
  {
   "cell_type": "code",
   "execution_count": null,
   "id": "6217c5db-ffcd-4eba-bcb7-13cfd6386315",
   "metadata": {},
   "outputs": [],
   "source": [
    "# drop column title_y and rename title_x\n",
    "df = df.drop(columns=['title_y'])\n",
    "df = df.rename(columns={'title_x': 'title'})"
   ]
  },
  {
   "cell_type": "code",
   "execution_count": null,
   "id": "2c8efde7-65de-4ceb-81de-edef3d5c62b2",
   "metadata": {},
   "outputs": [],
   "source": [
    "# output df to csv\n",
    "output_file = 'data/01_movie_metadata.csv'\n",
    "df.to_csv(output_file, index=False)"
   ]
  }
 ],
 "metadata": {
  "kernelspec": {
   "display_name": "Python 3 (ipykernel)",
   "language": "python",
   "name": "python3"
  },
  "language_info": {
   "codemirror_mode": {
    "name": "ipython",
    "version": 3
   },
   "file_extension": ".py",
   "mimetype": "text/x-python",
   "name": "python",
   "nbconvert_exporter": "python",
   "pygments_lexer": "ipython3",
   "version": "3.11.3"
  }
 },
 "nbformat": 4,
 "nbformat_minor": 5
}
