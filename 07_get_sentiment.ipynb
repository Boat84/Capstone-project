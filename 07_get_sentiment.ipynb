{
 "cells": [
  {
   "cell_type": "code",
   "execution_count": 1,
   "metadata": {},
   "outputs": [],
   "source": [
    "#! pip install transformers torch\n",
    " "
   ]
  },
  {
   "cell_type": "markdown",
   "metadata": {},
   "source": [
    "#### This notbook is used for getting score for from distilbert-base-uncased-finetuned-sst-2 \n",
    "* depends on each sentence or each scene "
   ]
  },
  {
   "cell_type": "code",
   "execution_count": 2,
   "metadata": {},
   "outputs": [
    {
     "name": "stdout",
     "output_type": "stream",
     "text": [
      "WARNING:tensorflow:From c:\\Users\\an_na\\Documents\\Arbeit\\Data Science Weiterbildung\\capstone\\Capstone-project\\.venv\\Lib\\site-packages\\keras\\src\\losses.py:2976: The name tf.losses.sparse_softmax_cross_entropy is deprecated. Please use tf.compat.v1.losses.sparse_softmax_cross_entropy instead.\n",
      "\n"
     ]
    },
    {
     "name": "stderr",
     "output_type": "stream",
     "text": [
      "[nltk_data] Downloading package punkt to\n",
      "[nltk_data]     C:\\Users\\an_na\\AppData\\Roaming\\nltk_data...\n",
      "[nltk_data]   Package punkt is already up-to-date!\n"
     ]
    },
    {
     "data": {
      "text/plain": [
       "True"
      ]
     },
     "execution_count": 2,
     "metadata": {},
     "output_type": "execute_result"
    }
   ],
   "source": [
    "from transformers import pipeline\n",
    "import re\n",
    "import os\n",
    "import nltk\n",
    "from nltk.tokenize import sent_tokenize, word_tokenize\n",
    "from transformers import DistilBertTokenizer, DistilBertForSequenceClassification\n",
    "import torch\n",
    "import pandas as pd\n",
    "nltk.download('punkt')"
   ]
  },
  {
   "cell_type": "code",
   "execution_count": 3,
   "metadata": {},
   "outputs": [
    {
     "name": "stderr",
     "output_type": "stream",
     "text": [
      "c:\\Users\\an_na\\Documents\\Arbeit\\Data Science Weiterbildung\\capstone\\Capstone-project\\.venv\\Lib\\site-packages\\huggingface_hub\\file_download.py:1132: FutureWarning: `resume_download` is deprecated and will be removed in version 1.0.0. Downloads always resume when possible. If you want to force a new download, use `force_download=True`.\n",
      "  warnings.warn(\n"
     ]
    },
    {
     "data": {
      "application/vnd.jupyter.widget-view+json": {
       "model_id": "5f9f2c52c417471290bf590630146c6c",
       "version_major": 2,
       "version_minor": 0
      },
      "text/plain": [
       "model.safetensors:   0%|          | 0.00/268M [00:00<?, ?B/s]"
      ]
     },
     "metadata": {},
     "output_type": "display_data"
    },
    {
     "name": "stderr",
     "output_type": "stream",
     "text": [
      "c:\\Users\\an_na\\Documents\\Arbeit\\Data Science Weiterbildung\\capstone\\Capstone-project\\.venv\\Lib\\site-packages\\huggingface_hub\\file_download.py:157: UserWarning: `huggingface_hub` cache-system uses symlinks by default to efficiently store duplicated files but your machine does not support them in C:\\Users\\an_na\\.cache\\huggingface\\hub\\models--distilbert-base-uncased-finetuned-sst-2-english. Caching files will still work but in a degraded version that might require more space on your disk. This warning can be disabled by setting the `HF_HUB_DISABLE_SYMLINKS_WARNING` environment variable. For more details, see https://huggingface.co/docs/huggingface_hub/how-to-cache#limitations.\n",
      "To support symlinks on Windows, you either need to activate Developer Mode or to run Python as an administrator. In order to see activate developer mode, see this article: https://docs.microsoft.com/en-us/windows/apps/get-started/enable-your-device-for-development\n",
      "  warnings.warn(message)\n"
     ]
    }
   ],
   "source": [
    "\n",
    "def remove_ext_int_lines(text):\n",
    "    # Remove all lines that include EXT or INT\n",
    "    lines = text.split('\\n')\n",
    "    cleaned_lines = [line for line in lines if not line.strip().startswith(('EXT', 'INT'))]\n",
    "    cleaned_text = '\\n'.join(cleaned_lines)\n",
    "    return cleaned_text\n",
    "\n",
    "# get model and tokenizer \n",
    "model_name = \"distilbert-base-uncased-finetuned-sst-2-english\"\n",
    "tokenizer = DistilBertTokenizer.from_pretrained(model_name)\n",
    "model = DistilBertForSequenceClassification.from_pretrained(model_name)\n",
    "classifier = pipeline(\"sentiment-analysis\", model=model, tokenizer=tokenizer)\n",
    "\n",
    "# def function to deal with one file\n",
    "def classify_and_save_scene(input_file, output_file):\n",
    "    # open file \n",
    "    with open(input_file, 'r', encoding='utf-8') as f:\n",
    "        text_0 = f.read()\n",
    "    text = remove_ext_int_lines(text_0)\n",
    "    scenes = text.split(\"==================================================\")\n",
    "    num_scenes = len(scenes)\n",
    "\n",
    "    results = []\n",
    "    for scene in scenes:\n",
    "        inputs = tokenizer(scene, return_tensors=\"pt\", truncation=True, padding=True, max_length=512)\n",
    "        with torch.no_grad():\n",
    "            logits = model(**inputs).logits\n",
    "            predicted_class_id = logits.argmax().item()\n",
    "            label = model.config.id2label[predicted_class_id]\n",
    "            score = torch.nn.functional.softmax(logits, dim=1).max().item()\n",
    "            results.append({\"label\": label, \"score\": score})\n",
    "    \n",
    "    # write the results into new_file\n",
    "    with open(output_file, 'w') as f:\n",
    "        for sentence, result in zip(scenes, results):\n",
    "            f.write(f\"Sentence: {sentence}\\n\")\n",
    "            f.write(f\"Prediction: {result['label']} (score: {result['score']})\\n\\n\")\n",
    "\n",
    "    output_to_csv = output_file.replace('.txt','.csv')\n",
    "    df = pd.DataFrame(results)\n",
    "    df.to_csv(output_to_csv, index=False)\n",
    "\n",
    "    #print(f\"Results saved to {output_file}\")\n",
    "\n",
    "# test\n",
    "#input_file = \"/Users/xiaozhouye/Desktop/neuefische/Capstone-project_copy/data/screenplay_data/data/scene_separated_texts/3 Idiots_1187043.txt\"\n",
    "#output_file = \"/Users/xiaozhouye/Desktop/neuefische/Capstone-project_copy/data/screenplay_data/data/scene_separated_analysed/3 Idiots_1187043.txt\"\n",
    "\n",
    "\n",
    "#classify_and_save_scene(input_file, output_file)\n",
    "\n",
    "\n"
   ]
  },
  {
   "cell_type": "code",
   "execution_count": 4,
   "metadata": {},
   "outputs": [
    {
     "name": "stdout",
     "output_type": "stream",
     "text": [
      "Error occurred: 'charmap' codec can't encode character '\\x8a' in position 5674: character maps to <undefined>\n"
     ]
    }
   ],
   "source": [
    "import pandas as pd\n",
    "import os\n",
    "try:\n",
    "    directory_path = 'data/screenplay_data/data/scene_separated_texts'#---------replace your path\n",
    "    files = os.listdir(directory_path)\n",
    "    directory_path_new = 'data/screenplay_data/data/scene_separated_sentiment'#---------replace your path\n",
    "    if not os.path.exists(directory_path_new):\n",
    "        os.makedirs(directory_path_new)\n",
    "    #print(len(files))\n",
    "    for file in files:\n",
    "        file_old = os.path.join(directory_path,file)\n",
    "        file_new = os.path.join(directory_path_new,file)\n",
    "        classify_and_save_scene(file_old, file_new)\n",
    "except Exception as e:\n",
    "    print(f\"Error occurred: {e}\")"
   ]
  }
 ],
 "metadata": {
  "kernelspec": {
   "display_name": ".venv",
   "language": "python",
   "name": "python3"
  },
  "language_info": {
   "codemirror_mode": {
    "name": "ipython",
    "version": 3
   },
   "file_extension": ".py",
   "mimetype": "text/x-python",
   "name": "python",
   "nbconvert_exporter": "python",
   "pygments_lexer": "ipython3",
   "version": "3.11.3"
  }
 },
 "nbformat": 4,
 "nbformat_minor": 2
}
