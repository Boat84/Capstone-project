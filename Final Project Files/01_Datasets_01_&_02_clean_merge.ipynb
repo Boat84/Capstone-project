{
 "cells": [
  {
   "cell_type": "code",
   "execution_count": 1,
   "id": "16aa6e35-7465-46fd-a7c9-393203171fce",
   "metadata": {},
   "outputs": [
    {
     "data": {
      "text/plain": [
       "'\\nDownload\\nIMDb Movie Dataset: All Movies by Genre\\nfrom\\nhttps://www.kaggle.com/datasets/rajugc/imdb-movies-dataset-based-on-genre\\nand\\nUltimate Film Statistics Dataset with Production Budget and Domestic (US) and Worldwide Gross\\nfrom\\nhttps://www.kaggle.com/datasets/alessandrolobello/the-ultimate-film-statistics-dataset-for-ml\\n'"
      ]
     },
     "execution_count": 1,
     "metadata": {},
     "output_type": "execute_result"
    }
   ],
   "source": [
    "'''\n",
    "Download\n",
    "[1] IMDb Movie Dataset: All Movies by Genre\n",
    "from\n",
    "https://www.kaggle.com/datasets/rajugc/imdb-movies-dataset-based-on-genre\n",
    "and\n",
    "[2] Ultimate Film Statistics Dataset with Production Budget and Domestic (US) and Worldwide Gross\n",
    "from\n",
    "https://www.kaggle.com/datasets/alessandrolobello/the-ultimate-film-statistics-dataset-for-ml\n",
    "'''"
   ]
  },
  {
   "cell_type": "code",
   "execution_count": 2,
   "id": "40120d75-a3d4-4c8b-b110-6fa71f7a0ccb",
   "metadata": {},
   "outputs": [],
   "source": [
    "# first df: IMDb Movie Dataset\n",
    "\n",
    "# joining all 16 seperate datasets into 1\n",
    "\n",
    "import pandas as pd\n",
    "\n",
    "# file location\n",
    "directory = 'data/IMDb Movie Dataset/' \n",
    "\n",
    "# list of CSV files\n",
    "csv_files = [\n",
    "    'action.csv', 'adventure.csv', 'animation.csv', 'biography.csv', 'crime.csv',\n",
    "    'family.csv', 'fantasy.csv', 'film-noir.csv', 'history.csv', 'horror.csv',\n",
    "    'mystery.csv', 'romance.csv', 'scifi.csv', 'sports.csv', 'thriller.csv', 'war.csv'\n",
    "]\n",
    "\n",
    "# empty list to store dfs\n",
    "dataframes = []\n",
    "\n",
    "# loop through the list of files and read each one\n",
    "for file in csv_files:\n",
    "    file_path = directory + file\n",
    "    df = pd.read_csv(file_path)\n",
    "    dataframes.append(df)\n",
    "\n",
    "# concatenate all dfs into 1\n",
    "combined_df = pd.concat(dataframes, ignore_index=True)"
   ]
  },
  {
   "cell_type": "code",
   "execution_count": 3,
   "id": "3acf9ee4-0885-461e-82a4-2fc204c4ec99",
   "metadata": {},
   "outputs": [
    {
     "data": {
      "text/html": [
       "<div>\n",
       "<style scoped>\n",
       "    .dataframe tbody tr th:only-of-type {\n",
       "        vertical-align: middle;\n",
       "    }\n",
       "\n",
       "    .dataframe tbody tr th {\n",
       "        vertical-align: top;\n",
       "    }\n",
       "\n",
       "    .dataframe thead th {\n",
       "        text-align: right;\n",
       "    }\n",
       "</style>\n",
       "<table border=\"1\" class=\"dataframe\">\n",
       "  <thead>\n",
       "    <tr style=\"text-align: right;\">\n",
       "      <th></th>\n",
       "      <th>movie_id</th>\n",
       "      <th>movie_name</th>\n",
       "      <th>year</th>\n",
       "      <th>certificate</th>\n",
       "      <th>runtime</th>\n",
       "      <th>genre</th>\n",
       "      <th>rating</th>\n",
       "      <th>description</th>\n",
       "      <th>director</th>\n",
       "      <th>director_id</th>\n",
       "      <th>star</th>\n",
       "      <th>star_id</th>\n",
       "      <th>votes</th>\n",
       "      <th>gross(in $)</th>\n",
       "    </tr>\n",
       "  </thead>\n",
       "  <tbody>\n",
       "    <tr>\n",
       "      <th>0</th>\n",
       "      <td>tt9114286</td>\n",
       "      <td>Black Panther: Wakanda Forever</td>\n",
       "      <td>2022</td>\n",
       "      <td>PG-13</td>\n",
       "      <td>161 min</td>\n",
       "      <td>Action, Adventure, Drama</td>\n",
       "      <td>6.9</td>\n",
       "      <td>The people of Wakanda fight to protect their h...</td>\n",
       "      <td>Ryan Coogler</td>\n",
       "      <td>/name/nm3363032/</td>\n",
       "      <td>Letitia Wright, \\nLupita Nyong'o, \\nDanai Guri...</td>\n",
       "      <td>/name/nm4004793/,/name/nm2143282/,/name/nm1775...</td>\n",
       "      <td>204835.0</td>\n",
       "      <td>NaN</td>\n",
       "    </tr>\n",
       "    <tr>\n",
       "      <th>1</th>\n",
       "      <td>tt1630029</td>\n",
       "      <td>Avatar: The Way of Water</td>\n",
       "      <td>2022</td>\n",
       "      <td>PG-13</td>\n",
       "      <td>192 min</td>\n",
       "      <td>Action, Adventure, Fantasy</td>\n",
       "      <td>7.8</td>\n",
       "      <td>Jake Sully lives with his newfound family form...</td>\n",
       "      <td>James Cameron</td>\n",
       "      <td>/name/nm0000116/</td>\n",
       "      <td>Sam Worthington, \\nZoe Saldana, \\nSigourney We...</td>\n",
       "      <td>/name/nm0941777/,/name/nm0757855/,/name/nm0000...</td>\n",
       "      <td>295119.0</td>\n",
       "      <td>NaN</td>\n",
       "    </tr>\n",
       "    <tr>\n",
       "      <th>2</th>\n",
       "      <td>tt5884796</td>\n",
       "      <td>Plane</td>\n",
       "      <td>2023</td>\n",
       "      <td>R</td>\n",
       "      <td>107 min</td>\n",
       "      <td>Action, Thriller</td>\n",
       "      <td>6.5</td>\n",
       "      <td>A pilot finds himself caught in a war zone aft...</td>\n",
       "      <td>Jean-François Richet</td>\n",
       "      <td>/name/nm0724938/</td>\n",
       "      <td>Gerard Butler, \\nMike Colter, \\nTony Goldwyn, ...</td>\n",
       "      <td>/name/nm0124930/,/name/nm1591496/,/name/nm0001...</td>\n",
       "      <td>26220.0</td>\n",
       "      <td>NaN</td>\n",
       "    </tr>\n",
       "    <tr>\n",
       "      <th>3</th>\n",
       "      <td>tt6710474</td>\n",
       "      <td>Everything Everywhere All at Once</td>\n",
       "      <td>2022</td>\n",
       "      <td>R</td>\n",
       "      <td>139 min</td>\n",
       "      <td>Action, Adventure, Comedy</td>\n",
       "      <td>8.0</td>\n",
       "      <td>A middle-aged Chinese immigrant is swept up in...</td>\n",
       "      <td>Dan Kwan, \\nDaniel Scheinert</td>\n",
       "      <td>/name/nm3453283/</td>\n",
       "      <td>Michelle Yeoh, \\nStephanie Hsu, \\nJamie Lee Cu...</td>\n",
       "      <td>/name/nm3215397/,/name/nm0000706/,/name/nm3513...</td>\n",
       "      <td>327858.0</td>\n",
       "      <td>NaN</td>\n",
       "    </tr>\n",
       "    <tr>\n",
       "      <th>4</th>\n",
       "      <td>tt5433140</td>\n",
       "      <td>Fast X</td>\n",
       "      <td>2023</td>\n",
       "      <td>NaN</td>\n",
       "      <td>NaN</td>\n",
       "      <td>Action, Crime, Mystery</td>\n",
       "      <td>NaN</td>\n",
       "      <td>Dom Toretto and his family are targeted by the...</td>\n",
       "      <td>Louis Leterrier</td>\n",
       "      <td>/name/nm0504642/</td>\n",
       "      <td>Vin Diesel, \\nJordana Brewster, \\nTyrese Gibso...</td>\n",
       "      <td>/name/nm0004874/,/name/nm0108287/,/name/nm0879...</td>\n",
       "      <td>NaN</td>\n",
       "      <td>NaN</td>\n",
       "    </tr>\n",
       "  </tbody>\n",
       "</table>\n",
       "</div>"
      ],
      "text/plain": [
       "    movie_id                         movie_name  year certificate  runtime  \\\n",
       "0  tt9114286     Black Panther: Wakanda Forever  2022       PG-13  161 min   \n",
       "1  tt1630029           Avatar: The Way of Water  2022       PG-13  192 min   \n",
       "2  tt5884796                              Plane  2023           R  107 min   \n",
       "3  tt6710474  Everything Everywhere All at Once  2022           R  139 min   \n",
       "4  tt5433140                             Fast X  2023         NaN      NaN   \n",
       "\n",
       "                        genre  rating  \\\n",
       "0    Action, Adventure, Drama     6.9   \n",
       "1  Action, Adventure, Fantasy     7.8   \n",
       "2            Action, Thriller     6.5   \n",
       "3   Action, Adventure, Comedy     8.0   \n",
       "4      Action, Crime, Mystery     NaN   \n",
       "\n",
       "                                         description  \\\n",
       "0  The people of Wakanda fight to protect their h...   \n",
       "1  Jake Sully lives with his newfound family form...   \n",
       "2  A pilot finds himself caught in a war zone aft...   \n",
       "3  A middle-aged Chinese immigrant is swept up in...   \n",
       "4  Dom Toretto and his family are targeted by the...   \n",
       "\n",
       "                       director       director_id  \\\n",
       "0                  Ryan Coogler  /name/nm3363032/   \n",
       "1                 James Cameron  /name/nm0000116/   \n",
       "2          Jean-François Richet  /name/nm0724938/   \n",
       "3  Dan Kwan, \\nDaniel Scheinert  /name/nm3453283/   \n",
       "4               Louis Leterrier  /name/nm0504642/   \n",
       "\n",
       "                                                star  \\\n",
       "0  Letitia Wright, \\nLupita Nyong'o, \\nDanai Guri...   \n",
       "1  Sam Worthington, \\nZoe Saldana, \\nSigourney We...   \n",
       "2  Gerard Butler, \\nMike Colter, \\nTony Goldwyn, ...   \n",
       "3  Michelle Yeoh, \\nStephanie Hsu, \\nJamie Lee Cu...   \n",
       "4  Vin Diesel, \\nJordana Brewster, \\nTyrese Gibso...   \n",
       "\n",
       "                                             star_id     votes  gross(in $)  \n",
       "0  /name/nm4004793/,/name/nm2143282/,/name/nm1775...  204835.0          NaN  \n",
       "1  /name/nm0941777/,/name/nm0757855/,/name/nm0000...  295119.0          NaN  \n",
       "2  /name/nm0124930/,/name/nm1591496/,/name/nm0001...   26220.0          NaN  \n",
       "3  /name/nm3215397/,/name/nm0000706/,/name/nm3513...  327858.0          NaN  \n",
       "4  /name/nm0004874/,/name/nm0108287/,/name/nm0879...       NaN          NaN  "
      ]
     },
     "execution_count": 3,
     "metadata": {},
     "output_type": "execute_result"
    }
   ],
   "source": [
    "combined_df.head()"
   ]
  },
  {
   "cell_type": "code",
   "execution_count": 4,
   "id": "2a17177d-f256-49fc-8b28-c3a0b8562ed4",
   "metadata": {},
   "outputs": [
    {
     "data": {
      "text/plain": [
       "(368300, 14)"
      ]
     },
     "execution_count": 4,
     "metadata": {},
     "output_type": "execute_result"
    }
   ],
   "source": [
    "combined_df.shape"
   ]
  },
  {
   "cell_type": "code",
   "execution_count": 5,
   "id": "f416af9a-d701-4559-812e-186722c349ad",
   "metadata": {},
   "outputs": [],
   "source": [
    "# drop unnecessary columns\n",
    "\n",
    "# list of columns to drop\n",
    "columns_to_drop = ['director_id', 'star', 'star_id', 'votes', 'runtime', 'rating', 'description', 'gross(in $)']\n",
    "\n",
    "# drop the columns\n",
    "df = combined_df.drop(columns=columns_to_drop)"
   ]
  },
  {
   "cell_type": "code",
   "execution_count": 6,
   "id": "9cfdc0aa-678d-4c79-92c2-25604cda861c",
   "metadata": {},
   "outputs": [],
   "source": [
    "# rename columns\n",
    "df = df.rename(columns={'movie_id': 'imdbid', 'movie_name': 'title', 'certificate': 'age_rating'})"
   ]
  },
  {
   "cell_type": "code",
   "execution_count": 7,
   "id": "168add9e-3297-4709-b4b4-5a699ded9f16",
   "metadata": {},
   "outputs": [
    {
     "data": {
      "text/html": [
       "<div>\n",
       "<style scoped>\n",
       "    .dataframe tbody tr th:only-of-type {\n",
       "        vertical-align: middle;\n",
       "    }\n",
       "\n",
       "    .dataframe tbody tr th {\n",
       "        vertical-align: top;\n",
       "    }\n",
       "\n",
       "    .dataframe thead th {\n",
       "        text-align: right;\n",
       "    }\n",
       "</style>\n",
       "<table border=\"1\" class=\"dataframe\">\n",
       "  <thead>\n",
       "    <tr style=\"text-align: right;\">\n",
       "      <th></th>\n",
       "      <th>imdbid</th>\n",
       "      <th>title</th>\n",
       "      <th>year</th>\n",
       "      <th>age_rating</th>\n",
       "      <th>genre</th>\n",
       "      <th>director</th>\n",
       "    </tr>\n",
       "  </thead>\n",
       "  <tbody>\n",
       "    <tr>\n",
       "      <th>0</th>\n",
       "      <td>tt9114286</td>\n",
       "      <td>Black Panther: Wakanda Forever</td>\n",
       "      <td>2022</td>\n",
       "      <td>PG-13</td>\n",
       "      <td>Action, Adventure, Drama</td>\n",
       "      <td>Ryan Coogler</td>\n",
       "    </tr>\n",
       "    <tr>\n",
       "      <th>1</th>\n",
       "      <td>tt1630029</td>\n",
       "      <td>Avatar: The Way of Water</td>\n",
       "      <td>2022</td>\n",
       "      <td>PG-13</td>\n",
       "      <td>Action, Adventure, Fantasy</td>\n",
       "      <td>James Cameron</td>\n",
       "    </tr>\n",
       "    <tr>\n",
       "      <th>2</th>\n",
       "      <td>tt5884796</td>\n",
       "      <td>Plane</td>\n",
       "      <td>2023</td>\n",
       "      <td>R</td>\n",
       "      <td>Action, Thriller</td>\n",
       "      <td>Jean-François Richet</td>\n",
       "    </tr>\n",
       "    <tr>\n",
       "      <th>3</th>\n",
       "      <td>tt6710474</td>\n",
       "      <td>Everything Everywhere All at Once</td>\n",
       "      <td>2022</td>\n",
       "      <td>R</td>\n",
       "      <td>Action, Adventure, Comedy</td>\n",
       "      <td>Dan Kwan, \\nDaniel Scheinert</td>\n",
       "    </tr>\n",
       "    <tr>\n",
       "      <th>4</th>\n",
       "      <td>tt5433140</td>\n",
       "      <td>Fast X</td>\n",
       "      <td>2023</td>\n",
       "      <td>NaN</td>\n",
       "      <td>Action, Crime, Mystery</td>\n",
       "      <td>Louis Leterrier</td>\n",
       "    </tr>\n",
       "  </tbody>\n",
       "</table>\n",
       "</div>"
      ],
      "text/plain": [
       "      imdbid                              title  year age_rating  \\\n",
       "0  tt9114286     Black Panther: Wakanda Forever  2022      PG-13   \n",
       "1  tt1630029           Avatar: The Way of Water  2022      PG-13   \n",
       "2  tt5884796                              Plane  2023          R   \n",
       "3  tt6710474  Everything Everywhere All at Once  2022          R   \n",
       "4  tt5433140                             Fast X  2023        NaN   \n",
       "\n",
       "                        genre                      director  \n",
       "0    Action, Adventure, Drama                  Ryan Coogler  \n",
       "1  Action, Adventure, Fantasy                 James Cameron  \n",
       "2            Action, Thriller          Jean-François Richet  \n",
       "3   Action, Adventure, Comedy  Dan Kwan, \\nDaniel Scheinert  \n",
       "4      Action, Crime, Mystery               Louis Leterrier  "
      ]
     },
     "execution_count": 7,
     "metadata": {},
     "output_type": "execute_result"
    }
   ],
   "source": [
    "df.head()"
   ]
  },
  {
   "cell_type": "code",
   "execution_count": 8,
   "id": "5d9de20b-1614-42cd-a871-7f499c6de930",
   "metadata": {},
   "outputs": [
    {
     "data": {
      "text/plain": [
       "Index(['imdbid', 'title', 'year', 'age_rating', 'genre', 'director'], dtype='object')"
      ]
     },
     "execution_count": 8,
     "metadata": {},
     "output_type": "execute_result"
    }
   ],
   "source": [
    "df.columns"
   ]
  },
  {
   "cell_type": "code",
   "execution_count": 9,
   "id": "6dda8697-ed9f-489d-8776-94d66dcdb4f3",
   "metadata": {},
   "outputs": [
    {
     "name": "stdout",
     "output_type": "stream",
     "text": [
      "Rows with leading or trailing spaces in 'imdbid':\n",
      "Empty DataFrame\n",
      "Columns: [imdbid, title, year, age_rating, genre, director]\n",
      "Index: []\n"
     ]
    }
   ],
   "source": [
    "# check for spaces at beginning or end of 'imdbid'\n",
    "starts_with_space = df['imdbid'].str.startswith(' ')\n",
    "ends_with_space = df['imdbid'].str.endswith(' ')\n",
    "\n",
    "# combine both conditions\n",
    "has_leading_or_trailing_space = starts_with_space | ends_with_space\n",
    "\n",
    "# print rows with leading or trailing spaces\n",
    "print(\"Rows with leading or trailing spaces in 'imdbid':\")\n",
    "print(df[has_leading_or_trailing_space])"
   ]
  },
  {
   "cell_type": "code",
   "execution_count": 10,
   "id": "fa412299-b8ec-4fd3-bddd-fc990fbba55c",
   "metadata": {},
   "outputs": [],
   "source": [
    "# remove 'tt' in imdbid\n",
    "df['imdbid'] = df['imdbid'].str.replace('tt', '', regex=False)\n",
    "\n",
    "# replace non-numeric values with NaN\n",
    "df['imdbid'] = pd.to_numeric(df['imdbid'], errors='coerce')\n",
    "\n",
    "# convert to integer\n",
    "df['imdbid'] = df['imdbid'].astype('int64')"
   ]
  },
  {
   "cell_type": "code",
   "execution_count": 11,
   "id": "93ab0765-f53d-4bea-b360-fe2caefbbe2f",
   "metadata": {},
   "outputs": [
    {
     "name": "stdout",
     "output_type": "stream",
     "text": [
      "0\n"
     ]
    }
   ],
   "source": [
    "# count number of NaN in imdbid\n",
    "print(df.imdbid.isna().sum())"
   ]
  },
  {
   "cell_type": "code",
   "execution_count": 12,
   "id": "6b0ef324-5f00-40ff-8ebf-780b741e1b43",
   "metadata": {},
   "outputs": [
    {
     "name": "stdout",
     "output_type": "stream",
     "text": [
      "125103\n"
     ]
    }
   ],
   "source": [
    "# count number of duplicates in imdbid\n",
    "print(df['imdbid'].duplicated().sum())"
   ]
  },
  {
   "cell_type": "code",
   "execution_count": 13,
   "id": "af62e48b-ff79-45f6-9a7e-47c75f0c3bb7",
   "metadata": {},
   "outputs": [],
   "source": [
    "# drop duplicates in imdbid, keep only the first occurrence\n",
    "df = df.drop_duplicates(subset=['imdbid'], keep='first')"
   ]
  },
  {
   "cell_type": "code",
   "execution_count": 14,
   "id": "96adef6f-a00f-465b-b680-f4ccf6f56e58",
   "metadata": {},
   "outputs": [
    {
     "data": {
      "text/plain": [
       "(243197, 6)"
      ]
     },
     "execution_count": 14,
     "metadata": {},
     "output_type": "execute_result"
    }
   ],
   "source": [
    "df.shape"
   ]
  },
  {
   "cell_type": "code",
   "execution_count": 15,
   "id": "923243c3-2b5b-4f1a-a8a6-89327c651b2b",
   "metadata": {},
   "outputs": [
    {
     "name": "stdout",
     "output_type": "stream",
     "text": [
      "<class 'pandas.core.frame.DataFrame'>\n",
      "Index: 243197 entries, 0 to 368299\n",
      "Data columns (total 6 columns):\n",
      " #   Column      Non-Null Count   Dtype \n",
      "---  ------      --------------   ----- \n",
      " 0   imdbid      243197 non-null  int64 \n",
      " 1   title       243195 non-null  object\n",
      " 2   year        204290 non-null  object\n",
      " 3   age_rating  55170 non-null   object\n",
      " 4   genre       243197 non-null  object\n",
      " 5   director    222358 non-null  object\n",
      "dtypes: int64(1), object(5)\n",
      "memory usage: 13.0+ MB\n"
     ]
    }
   ],
   "source": [
    "df.info()"
   ]
  },
  {
   "cell_type": "code",
   "execution_count": 16,
   "id": "8b534560-931b-4ec7-a8cd-bf5c84ffddd4",
   "metadata": {},
   "outputs": [],
   "source": [
    "# second df: Ultimate_Film_Statistics_Dataset\n",
    "\n",
    "df_uf = pd.read_csv('data/Ultimate_Film_Statistics_Dataset.csv')\n",
    "\n",
    "# drop unnecessary columns\n",
    "\n",
    "# list of columns to drop\n",
    "columns_to_drop = ['production_date', 'genres', 'director_name', 'director_professions', 'director_birthYear', 'director_deathYear', 'movie_averageRating', 'movie_numerOfVotes', 'approval_Index']\n",
    "\n",
    "# drop columns\n",
    "df_uf = df_uf.drop(columns=columns_to_drop)\n",
    "\n",
    "# rename columns\n",
    "df_uf = df_uf.rename(columns={'movie_title': 'title', 'Production budget $': 'production_budget', 'Domestic gross $': 'domestic_gross', 'Worldwide gross $': 'worldwide_gross'})"
   ]
  },
  {
   "cell_type": "code",
   "execution_count": 17,
   "id": "ce750b58-605d-466f-94dd-c35f96ea86b7",
   "metadata": {},
   "outputs": [
    {
     "data": {
      "text/html": [
       "<div>\n",
       "<style scoped>\n",
       "    .dataframe tbody tr th:only-of-type {\n",
       "        vertical-align: middle;\n",
       "    }\n",
       "\n",
       "    .dataframe tbody tr th {\n",
       "        vertical-align: top;\n",
       "    }\n",
       "\n",
       "    .dataframe thead th {\n",
       "        text-align: right;\n",
       "    }\n",
       "</style>\n",
       "<table border=\"1\" class=\"dataframe\">\n",
       "  <thead>\n",
       "    <tr style=\"text-align: right;\">\n",
       "      <th></th>\n",
       "      <th>title</th>\n",
       "      <th>runtime_minutes</th>\n",
       "      <th>production_budget</th>\n",
       "      <th>domestic_gross</th>\n",
       "      <th>worldwide_gross</th>\n",
       "    </tr>\n",
       "  </thead>\n",
       "  <tbody>\n",
       "    <tr>\n",
       "      <th>0</th>\n",
       "      <td>Avatar: The Way of Water</td>\n",
       "      <td>192.0</td>\n",
       "      <td>460000000</td>\n",
       "      <td>667830256</td>\n",
       "      <td>2265935552</td>\n",
       "    </tr>\n",
       "    <tr>\n",
       "      <th>1</th>\n",
       "      <td>Avengers: Endgame</td>\n",
       "      <td>181.0</td>\n",
       "      <td>400000000</td>\n",
       "      <td>858373000</td>\n",
       "      <td>2794731755</td>\n",
       "    </tr>\n",
       "    <tr>\n",
       "      <th>2</th>\n",
       "      <td>Pirates of the Caribbean: On Stranger Tides</td>\n",
       "      <td>137.0</td>\n",
       "      <td>379000000</td>\n",
       "      <td>241071802</td>\n",
       "      <td>1045713802</td>\n",
       "    </tr>\n",
       "    <tr>\n",
       "      <th>3</th>\n",
       "      <td>Avengers: Age of Ultron</td>\n",
       "      <td>141.0</td>\n",
       "      <td>365000000</td>\n",
       "      <td>459005868</td>\n",
       "      <td>1395316979</td>\n",
       "    </tr>\n",
       "    <tr>\n",
       "      <th>4</th>\n",
       "      <td>Avengers: Infinity War</td>\n",
       "      <td>149.0</td>\n",
       "      <td>300000000</td>\n",
       "      <td>678815482</td>\n",
       "      <td>2048359754</td>\n",
       "    </tr>\n",
       "  </tbody>\n",
       "</table>\n",
       "</div>"
      ],
      "text/plain": [
       "                                         title  runtime_minutes  \\\n",
       "0                     Avatar: The Way of Water            192.0   \n",
       "1                            Avengers: Endgame            181.0   \n",
       "2  Pirates of the Caribbean: On Stranger Tides            137.0   \n",
       "3                      Avengers: Age of Ultron            141.0   \n",
       "4                       Avengers: Infinity War            149.0   \n",
       "\n",
       "   production_budget  domestic_gross  worldwide_gross  \n",
       "0          460000000       667830256       2265935552  \n",
       "1          400000000       858373000       2794731755  \n",
       "2          379000000       241071802       1045713802  \n",
       "3          365000000       459005868       1395316979  \n",
       "4          300000000       678815482       2048359754  "
      ]
     },
     "execution_count": 17,
     "metadata": {},
     "output_type": "execute_result"
    }
   ],
   "source": [
    "df_uf.head()"
   ]
  },
  {
   "cell_type": "code",
   "execution_count": 18,
   "id": "047cf645-43b4-4f19-b3df-0174e21c3941",
   "metadata": {},
   "outputs": [
    {
     "data": {
      "text/plain": [
       "Index(['title', 'runtime_minutes', 'production_budget', 'domestic_gross',\n",
       "       'worldwide_gross'],\n",
       "      dtype='object')"
      ]
     },
     "execution_count": 18,
     "metadata": {},
     "output_type": "execute_result"
    }
   ],
   "source": [
    "df_uf.columns"
   ]
  },
  {
   "cell_type": "code",
   "execution_count": 19,
   "id": "1aa5edcd-a307-4685-b43b-bfdbcce3613e",
   "metadata": {},
   "outputs": [
    {
     "name": "stdout",
     "output_type": "stream",
     "text": [
      "139\n"
     ]
    }
   ],
   "source": [
    "# count number of duplicate titles\n",
    "print(df_uf['title'].duplicated().sum())"
   ]
  },
  {
   "cell_type": "code",
   "execution_count": 20,
   "id": "d079329f-79c7-46de-afff-7e0c91602ba5",
   "metadata": {},
   "outputs": [
    {
     "data": {
      "text/plain": [
       "(4380, 5)"
      ]
     },
     "execution_count": 20,
     "metadata": {},
     "output_type": "execute_result"
    }
   ],
   "source": [
    "df_uf.shape"
   ]
  },
  {
   "cell_type": "code",
   "execution_count": null,
   "id": "b3cdd85d-90c1-469d-b9cb-e434acb5181b",
   "metadata": {},
   "outputs": [],
   "source": [
    "# try fuzzy matching\n",
    "\n",
    "from rapidfuzz import process, fuzz\n",
    "from multiprocessing import Pool\n",
    "\n",
    "def fuzzy_match(row, df_uf):\n",
    "    # fuzzy matching for a single row against the titles in the second dataframe\n",
    "    best_match = process.extractOne(row['title'], df_uf['title'], scorer=fuzz.ratio)\n",
    "    return row['imdbid'], row['title'], best_match[0], best_match[1], best_match[2]  # imdbid, title, matched title, score, index\n",
    "\n",
    "\n",
    "if __name__ == \"__main__\":\n",
    "    # define number of processes\n",
    "    num_processes = 8  # CPU has 8 cores\n",
    "\n",
    "    # create partial function to pass the second df\n",
    "    from functools import partial\n",
    "    fuzzy_match_partial = partial(fuzzy_match, df_uf=df_uf)\n",
    "\n",
    "    # use multiprocessing Pool\n",
    "    with Pool(processes=num_processes) as pool:\n",
    "        results = pool.map(fuzzy_match_partial, [row for index, row in df.iterrows()])\n",
    "\n",
    "    # convert results to df\n",
    "    results_df = pd.DataFrame(results, columns=['imdbid', 'original_title', 'matched_title', 'score', 'index'])"
   ]
  },
  {
   "cell_type": "code",
   "execution_count": null,
   "id": "7b0b8bd5-4d88-439c-9dd6-4d0c3876e40e",
   "metadata": {},
   "outputs": [],
   "source": [
    "df = merged_df"
   ]
  },
  {
   "cell_type": "code",
   "execution_count": null,
   "id": "8752133d-0228-419a-a8e0-b4f60a328bc6",
   "metadata": {},
   "outputs": [],
   "source": [
    "df.shape"
   ]
  },
  {
   "cell_type": "code",
   "execution_count": null,
   "id": "93386441-9290-4ecf-9fc6-204840238afd",
   "metadata": {},
   "outputs": [],
   "source": [
    "df.duplicated(subset=['imdbid']).sum()"
   ]
  },
  {
   "cell_type": "code",
   "execution_count": null,
   "id": "3fa76038-ef54-47f5-8905-1c00ed278779",
   "metadata": {},
   "outputs": [],
   "source": [
    "df.columns"
   ]
  },
  {
   "cell_type": "code",
   "execution_count": null,
   "id": "3269dc90-1603-4e07-83ec-ab50bc524dbd",
   "metadata": {},
   "outputs": [],
   "source": [
    "# drop unnecessary columns\n",
    "\n",
    "# list of columns to drop\n",
    "columns_to_drop = ['runtime', 'rating', 'description', 'gross(in $)']\n",
    "\n",
    "# drop columns\n",
    "df = df.drop(columns=columns_to_drop)"
   ]
  },
  {
   "cell_type": "code",
   "execution_count": null,
   "id": "6291ecb1-5a85-4d3c-9459-68ac89ed5a55",
   "metadata": {},
   "outputs": [],
   "source": [
    "# update missing or wrong values\n",
    "df.loc[df['imdbid'] == '13400336', 'year'] = 2023\n",
    "df.loc[df['imdbid'] == '13400336', 'runtime_minutes'] = 133\n",
    "df.loc[df['imdbid'] == '2531030', 'year'] = 1985\n",
    "df.loc[df['imdbid'] == '2531030', 'director'] = 'Barry Levinson'\n",
    "df.loc[df['imdbid'] == '4338664', 'year'] = 2001\n",
    "df.loc[df['imdbid'] == '4338664', 'director'] = 'Barry Levinson'"
   ]
  },
  {
   "cell_type": "code",
   "execution_count": null,
   "id": "61440a34-e939-4d31-8d12-f13c7d173653",
   "metadata": {},
   "outputs": [],
   "source": [
    "df[df['director'].isna()]"
   ]
  },
  {
   "cell_type": "code",
   "execution_count": null,
   "id": "27673911-a9c3-451c-bcb5-c933245ee73e",
   "metadata": {},
   "outputs": [],
   "source": [
    "df.head()"
   ]
  },
  {
   "cell_type": "code",
   "execution_count": null,
   "id": "91543bed-b5f5-47af-9de1-5411b933e7c6",
   "metadata": {},
   "outputs": [],
   "source": [
    "df.shape"
   ]
  },
  {
   "cell_type": "code",
   "execution_count": null,
   "id": "da795ce1-d1b7-48c9-9364-d4dec3ef906e",
   "metadata": {},
   "outputs": [],
   "source": [
    "df.info()"
   ]
  },
  {
   "cell_type": "code",
   "execution_count": null,
   "id": "35f1bba2-f7c7-4a3f-896d-99f3105897a0",
   "metadata": {},
   "outputs": [],
   "source": [
    "df.imdbid.isna().sum()"
   ]
  },
  {
   "cell_type": "code",
   "execution_count": null,
   "id": "7a9fa459-97df-4f20-a566-ca7d7dc39243",
   "metadata": {},
   "outputs": [],
   "source": [
    "# drop rows without imdbid\n",
    "df = df.dropna(subset=['imdbid'])"
   ]
  },
  {
   "cell_type": "code",
   "execution_count": null,
   "id": "5165717c-3814-4802-b35f-6035ac4a7a41",
   "metadata": {},
   "outputs": [],
   "source": [
    "# convert imdbid to integer\n",
    "df['imdbid'] = df['imdbid'].astype('int64')"
   ]
  },
  {
   "cell_type": "code",
   "execution_count": null,
   "id": "1e21b977-f5f9-4b68-a07f-0cd8bcaf3032",
   "metadata": {},
   "outputs": [],
   "source": [
    "df.columns"
   ]
  },
  {
   "cell_type": "code",
   "execution_count": null,
   "id": "5da5aaa0-42f0-4f71-bd66-ce41ebc8ef56",
   "metadata": {},
   "outputs": [],
   "source": [
    "# drop rows where either 'runtime_minutes' or 'imdbid' is NaN\n",
    "filtered_df = df.dropna(subset=['runtime_minutes', 'imdbid'])\n",
    "\n",
    "# count the remaining rows\n",
    "count = len(filtered_df)\n",
    "\n",
    "print(f\"Number of rows with values in both 'runtime_minutes' and 'imdbid': {count}\")"
   ]
  },
  {
   "cell_type": "code",
   "execution_count": null,
   "id": "2d7f715f-8be2-49b0-9f45-c62964362d68",
   "metadata": {},
   "outputs": [],
   "source": [
    "# output df to csv\n",
    "output_file = 'data/movie_metadata_set_01.csv'\n",
    "df.to_csv(output_file, index=False)"
   ]
  }
 ],
 "metadata": {
  "kernelspec": {
   "display_name": "Python 3 (ipykernel)",
   "language": "python",
   "name": "python3"
  },
  "language_info": {
   "codemirror_mode": {
    "name": "ipython",
    "version": 3
   },
   "file_extension": ".py",
   "mimetype": "text/x-python",
   "name": "python",
   "nbconvert_exporter": "python",
   "pygments_lexer": "ipython3",
   "version": "3.9.12"
  }
 },
 "nbformat": 4,
 "nbformat_minor": 5
}
