{
 "cells": [
  {
   "cell_type": "code",
   "execution_count": null,
   "id": "ab9e9967-d356-4d97-b214-e4eaace2e64b",
   "metadata": {},
   "outputs": [],
   "source": [
    "import re\n",
    "import pandas as pd\n",
    "import networkx as nx\n",
    "from charset_normalizer import from_path"
   ]
  },
  {
   "cell_type": "code",
   "execution_count": null,
   "id": "4e0e5a67-8c92-4512-9ed9-7a40d4917680",
   "metadata": {},
   "outputs": [],
   "source": [
    "def calculate_screenplay_metrics(file_path):\n",
    "    try:\n",
    "        # Load the screenplay\n",
    "        result = from_path(file_path).best()\n",
    "        with open(file_path, 'r', encoding=result.encoding) as file:\n",
    "            screenplay = file.read()\n",
    "    \n",
    "        # Adjust the regex pattern to better capture character dialogues\n",
    "        character_dialogue_pattern = re.compile(r'\\n\\s*([A-Z][A-Z\\s]+)\\s*\\n\\s*([^\\n]+)')\n",
    "        dialogues = character_dialogue_pattern.findall(screenplay)\n",
    "\n",
    "        # Convert to DataFrame\n",
    "        dialogue_df = pd.DataFrame(dialogues, columns=['Character', 'Dialogue'])\n",
    "\n",
    "        # Filter out non-character entries from dialogues\n",
    "        character_name_pattern = re.compile(r'\\n\\s*([A-Z][A-Z\\s]+)\\s*\\n')\n",
    "        potential_characters = character_name_pattern.findall(screenplay)\n",
    "        character_counts = pd.Series(potential_characters).value_counts()\n",
    "        character_threshold = 5  # Adjust this threshold as needed\n",
    "        characters = character_counts[character_counts > character_threshold].index.tolist()\n",
    "        dialogue_df = dialogue_df[dialogue_df['Character'].isin(characters)]\n",
    "\n",
    "        # Create an interaction matrix for all characters\n",
    "        all_characters = dialogue_df['Character'].unique()\n",
    "        interaction_matrix_all = pd.DataFrame(0, index=all_characters, columns=all_characters)\n",
    "\n",
    "        # Populate the interaction matrix by considering adjacent dialogues\n",
    "        for i in range(len(dialogue_df) - 1):\n",
    "            char1 = dialogue_df.iloc[i]['Character']\n",
    "            char2 = dialogue_df.iloc[i + 1]['Character']\n",
    "            if char1 != char2:\n",
    "                interaction_matrix_all.loc[char1, char2] += 1\n",
    "                interaction_matrix_all.loc[char2, char1] += 1\n",
    "\n",
    "        # Create a NetworkX graph from the interaction matrix\n",
    "        G_all = nx.from_pandas_adjacency(interaction_matrix_all)\n",
    "\n",
    "        # Calculate degree centrality\n",
    "        degree_centrality = nx.degree_centrality(G_all)\n",
    "        average_degree_centrality = sum(degree_centrality.values()) / len(degree_centrality)\n",
    "\n",
    "        # Calculate closeness centrality\n",
    "        closeness_centrality = nx.closeness_centrality(G_all)\n",
    "        average_closeness_centrality = sum(closeness_centrality.values()) / len(closeness_centrality)\n",
    "\n",
    "        # Calculate betweenness centrality\n",
    "        betweenness_centrality = nx.betweenness_centrality(G_all)\n",
    "        average_betweenness_centrality = sum(betweenness_centrality.values()) / len(betweenness_centrality)\n",
    "\n",
    "        # Interaction diversity: number of unique characters each character interacts with\n",
    "        interaction_diversity = (interaction_matrix_all > 0).sum(axis=1)\n",
    "        average_interaction_diversity = interaction_diversity.mean()\n",
    "\n",
    "        # Normalized interaction coefficient (by total number of interactions)\n",
    "        total_interactions = interaction_matrix_all.sum().sum()\n",
    "        normalized_interaction_coefficient = total_interactions / (len(all_characters) * (len(all_characters) - 1))\n",
    "\n",
    "        # Create a DataFrame to store these coefficients\n",
    "        screenplay_metrics = {\n",
    "            'average_degree_centrality': average_degree_centrality,\n",
    "            'average_closeness_centrality': average_closeness_centrality,\n",
    "            'average_betweenness_centrality': average_betweenness_centrality,\n",
    "            'average_interaction_diversity': average_interaction_diversity,\n",
    "            'normalized_interaction_coefficient': normalized_interaction_coefficient\n",
    "        }\n",
    "\n",
    "    except ZeroDivisionError:\n",
    "        print(f\"ZeroDivisionError for file: {file_path}\")\n",
    "        screenplay_metrics = {\n",
    "            'average_degree_centrality': 0,\n",
    "            'average_closeness_centrality': 0,\n",
    "            'average_betweenness_centrality': 0,\n",
    "            'average_interaction_diversity': 0,\n",
    "            'normalized_interaction_coefficient': 0\n",
    "        }\n",
    "    \n",
    "    return screenplay_metrics"
   ]
  },
  {
   "cell_type": "code",
   "execution_count": null,
   "id": "a6c78b3e-e266-4d7b-87a9-b80edef033d4",
   "metadata": {},
   "outputs": [],
   "source": [
    "import os\n",
    "import pandas as pd\n",
    "\n",
    "# Read csv file\n",
    "df = pd.read_csv('data/movie_metadata_final.csv')\n",
    "\n",
    "# Folder containing screenplay files\n",
    "screenplay_folder = 'data/screenplay_data/data/raw_texts/raw_texts'\n",
    "\n",
    "# Get all .txt files in folder\n",
    "files = [f for f in os.listdir(screenplay_folder) if f.endswith('.txt')]\n",
    "\n",
    "# Initialize dictionaries to store metrics for each screenplay\n",
    "metrics_dict = {\n",
    "    'average_degree_centrality': {},\n",
    "    'average_closeness_centrality': {},\n",
    "    'average_betweenness_centrality': {},\n",
    "    'average_interaction_diversity': {},\n",
    "    'normalized_interaction_coefficient': {}\n",
    "}"
   ]
  },
  {
   "cell_type": "code",
   "execution_count": null,
   "id": "8b987f88-3f27-46ef-b1df-fccfc9ebd6c2",
   "metadata": {},
   "outputs": [],
   "source": [
    "df.head()"
   ]
  },
  {
   "cell_type": "code",
   "execution_count": null,
   "id": "02f44fcd-698e-4d4d-8a4d-9c13b46cd731",
   "metadata": {},
   "outputs": [],
   "source": [
    "for filename in files:\n",
    "    file_path = os.path.join(screenplay_folder, filename)\n",
    "\n",
    "    # Check if filename matches pattern\n",
    "    match = re.search(r'_0*(\\d+)\\.txt$', filename)\n",
    "    if match:\n",
    "        # Extract imdbid from filename\n",
    "        imdbid = int(match.group(1))\n",
    "\n",
    "        # Calculate metrics for the screenplay\n",
    "        metrics = calculate_screenplay_metrics(file_path)\n",
    "\n",
    "        # Store metrics in dictionary\n",
    "        for key, value in metrics.items():\n",
    "            metrics_dict[key][imdbid] = value\n",
    "\n",
    "# Add new columns to the dataframe\n",
    "for key in metrics_dict:\n",
    "    df[key] = df['imdbid'].map(metrics_dict[key])"
   ]
  },
  {
   "cell_type": "code",
   "execution_count": null,
   "id": "a4ccac06-1344-4a7a-9ec6-b10299a6d5d4",
   "metadata": {},
   "outputs": [],
   "source": [
    "print(\"Updated DataFrame with metrics:\")\n",
    "print(df.head())"
   ]
  },
  {
   "cell_type": "code",
   "execution_count": null,
   "id": "ef8ead6d-5009-4b14-89fd-f38f3562b81b",
   "metadata": {},
   "outputs": [],
   "source": [
    "df = df[df['average_degree_centrality'] != 0]"
   ]
  },
  {
   "cell_type": "code",
   "execution_count": null,
   "id": "15264d38-2d83-4cce-8ac8-6c6754dd052c",
   "metadata": {},
   "outputs": [],
   "source": [
    "df.shape"
   ]
  },
  {
   "cell_type": "code",
   "execution_count": null,
   "id": "2aa95e4e-5d61-4a9e-8d88-34f6f717d265",
   "metadata": {},
   "outputs": [],
   "source": [
    "# Save the updated dataframe\n",
    "df.to_csv('data/01_movie_metadata.csv', index=False)"
   ]
  },
  {
   "cell_type": "code",
   "execution_count": null,
   "id": "c93abec7-80c0-4fc4-ba0a-fbe52703fbed",
   "metadata": {},
   "outputs": [],
   "source": []
  },
  {
   "cell_type": "code",
   "execution_count": null,
   "id": "da44c602-e80a-4b8f-9e6a-44fc8a82d93a",
   "metadata": {},
   "outputs": [],
   "source": []
  },
  {
   "cell_type": "code",
   "execution_count": null,
   "id": "247a43c5-bbee-4767-931f-61ff5320704c",
   "metadata": {},
   "outputs": [],
   "source": []
  }
 ],
 "metadata": {
  "kernelspec": {
   "display_name": "Python 3 (ipykernel)",
   "language": "python",
   "name": "python3"
  },
  "language_info": {
   "codemirror_mode": {
    "name": "ipython",
    "version": 3
   },
   "file_extension": ".py",
   "mimetype": "text/x-python",
   "name": "python",
   "nbconvert_exporter": "python",
   "pygments_lexer": "ipython3",
   "version": "3.9.12"
  }
 },
 "nbformat": 4,
 "nbformat_minor": 5
}
